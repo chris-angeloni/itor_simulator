{
 "cells": [
  {
   "cell_type": "code",
   "execution_count": 1,
   "id": "4f5168de",
   "metadata": {},
   "outputs": [],
   "source": [
    "from cellworld import *\n",
    "import numpy as np\n",
    "import matplotlib.pyplot as plt\n",
    "import glob\n",
    "import pickle\n",
    "\n",
    "from _src.pose import *\n",
    "from _src.visibility import *\n",
    "from _src.itor import *"
   ]
  },
  {
   "cell_type": "code",
   "execution_count": 2,
   "id": "2aad52bf",
   "metadata": {},
   "outputs": [],
   "source": [
    "# load experiment\n",
    "e = Experiment.load_from_file('./_data/MICE_20220608_1557_DMM3_21_05_SR5_experiment.json')\n",
    "vis,w = get_vis(e)\n",
    "\n",
    "# load visibility matrix\n",
    "[A,V,pts,sparse_arr] = pickle.load(open('./_data/visibility-21_05-1000.pkl','rb'))   \n",
    "vis_graph = {'V':V,'A':A,'src':pts,'dst':sparse_arr}"
   ]
  },
  {
   "cell_type": "code",
   "execution_count": 3,
   "id": "0c67c367",
   "metadata": {},
   "outputs": [],
   "source": [
    "# extract pose from data\n",
    "POSEx = []\n",
    "POSEy = []\n",
    "SCORE = []\n",
    "for ep in e.episodes:\n",
    "    pt = ep.trajectories.where('agent_name','prey').get_unique_steps()\n",
    "    for step in pt:\n",
    "        posex = []\n",
    "        posey = []\n",
    "        score = []\n",
    "        if step.data:\n",
    "            pose = PoseList.parse(step.data)\n",
    "            for i in range(len(pose)):\n",
    "                posex.append(pose[i].location.x)\n",
    "                posey.append(pose[i].location.y)\n",
    "                score.append(pose[i].score)\n",
    "            POSEx.append(posex)\n",
    "            POSEy.append(posey)\n",
    "            SCORE.append(score)\n",
    "poseX = np.vstack(POSEx)\n",
    "poseY = np.vstack(POSEy)\n",
    "score = np.vstack(SCORE)\n",
    "\n",
    "# remove bad scores\n",
    "poseX[score < 0.8] = np.nan\n",
    "poseY[score < 0.8] = np.nan"
   ]
  },
  {
   "cell_type": "code",
   "execution_count": 4,
   "id": "5a1a8c8d",
   "metadata": {},
   "outputs": [],
   "source": [
    "# set up parts and part ordering\n",
    "parts = ['body_mid','head_base','nose','tail_base','tail_post_base','tail_pre_tip','tail_tip']\n",
    "order = np.array((6,5,4,3,0,1,2))\n",
    "\n",
    "# parts to use for position and angle norms\n",
    "norm_part = 'head_base'\n",
    "rot_parts = [norm_part, 'nose'] #[norm_part,'body_mid']"
   ]
  },
  {
   "cell_type": "code",
   "execution_count": 5,
   "id": "ed5c855a",
   "metadata": {},
   "outputs": [
    {
     "ename": "NameError",
     "evalue": "name 'rotate' is not defined",
     "output_type": "error",
     "traceback": [
      "\u001b[0;31m---------------------------------------------------------------------------\u001b[0m",
      "\u001b[0;31mNameError\u001b[0m                                 Traceback (most recent call last)",
      "Input \u001b[0;32mIn [5]\u001b[0m, in \u001b[0;36m<cell line: 15>\u001b[0;34m()\u001b[0m\n\u001b[1;32m     15\u001b[0m \u001b[38;5;28;01mfor\u001b[39;00m i \u001b[38;5;129;01min\u001b[39;00m \u001b[38;5;28mrange\u001b[39m(\u001b[38;5;28mlen\u001b[39m(px_norm)):\n\u001b[1;32m     16\u001b[0m     pts \u001b[38;5;241m=\u001b[39m np\u001b[38;5;241m.\u001b[39mconcatenate((px_norm[i,:]\u001b[38;5;241m.\u001b[39mreshape(\u001b[38;5;241m-\u001b[39m\u001b[38;5;241m1\u001b[39m,\u001b[38;5;241m1\u001b[39m),py_norm[i,:]\u001b[38;5;241m.\u001b[39mreshape(\u001b[38;5;241m-\u001b[39m\u001b[38;5;241m1\u001b[39m,\u001b[38;5;241m1\u001b[39m)),axis\u001b[38;5;241m=\u001b[39m\u001b[38;5;241m1\u001b[39m)\n\u001b[0;32m---> 17\u001b[0m     pts_rot \u001b[38;5;241m=\u001b[39m \u001b[43mrotate\u001b[49m(pts,degrees\u001b[38;5;241m=\u001b[39m\u001b[38;5;241m-\u001b[39mangle[i])\n\u001b[1;32m     18\u001b[0m     px_rot[i,:] \u001b[38;5;241m=\u001b[39m pts_rot[:,\u001b[38;5;241m0\u001b[39m]\n\u001b[1;32m     19\u001b[0m     py_rot[i,:] \u001b[38;5;241m=\u001b[39m pts_rot[:,\u001b[38;5;241m1\u001b[39m]\n",
      "\u001b[0;31mNameError\u001b[0m: name 'rotate' is not defined"
     ]
    }
   ],
   "source": [
    "# normalize position\n",
    "normI = parts.index(norm_part)\n",
    "px_norm = poseX[:,:] - poseX[:,normI].reshape(-1,1)\n",
    "py_norm = poseY[:,:] - poseY[:,normI].reshape(-1,1)\n",
    "#_ = plt.plot(px_norm.T,py_norm.T)\n",
    "\n",
    "# rotate\n",
    "rotI = [parts.index(x) for i,x in enumerate(rot_parts)]\n",
    "angle = np.rad2deg(np.arctan2(\n",
    "    [py_norm[:,rotI[0]],py_norm[:,rotI[1]]],\n",
    "    [px_norm[:,rotI[0]],px_norm[:,rotI[1]]])[1])\n",
    "\n",
    "px_rot = np.empty((len(px_norm),len(parts)))\n",
    "py_rot = np.empty((len(px_norm),len(parts)))\n",
    "for i in range(len(px_norm)):\n",
    "    pts = np.concatenate((px_norm[i,:].reshape(-1,1),py_norm[i,:].reshape(-1,1)),axis=1)\n",
    "    pts_rot = rotate(pts,degrees=-angle[i])\n",
    "    px_rot[i,:] = pts_rot[:,0]\n",
    "    py_rot[i,:] = pts_rot[:,1]"
   ]
  },
  {
   "cell_type": "code",
   "execution_count": 7,
   "id": "f3048265",
   "metadata": {},
   "outputs": [],
   "source": [
    "from _src.pose import *"
   ]
  },
  {
   "cell_type": "code",
   "execution_count": null,
   "id": "99c65432",
   "metadata": {},
   "outputs": [],
   "source": []
  }
 ],
 "metadata": {
  "kernelspec": {
   "display_name": "Python 3 (ipykernel)",
   "language": "python",
   "name": "python3"
  },
  "language_info": {
   "codemirror_mode": {
    "name": "ipython",
    "version": 3
   },
   "file_extension": ".py",
   "mimetype": "text/x-python",
   "name": "python",
   "nbconvert_exporter": "python",
   "pygments_lexer": "ipython3",
   "version": "3.9.12"
  }
 },
 "nbformat": 4,
 "nbformat_minor": 5
}
