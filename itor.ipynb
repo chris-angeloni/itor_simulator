{
 "cells": [
  {
   "cell_type": "code",
   "execution_count": 8,
   "id": "59641a4c",
   "metadata": {},
   "outputs": [],
   "source": [
    "from cellworld import *\n",
    "import numpy as np\n",
    "import matplotlib.pyplot as plt\n",
    "import glob\n",
    "from tqdm.notebook import tqdm\n",
    "import pickle\n",
    "import matplotlib.colors as colors\n",
    "import matplotlib.cm as cmx\n",
    "import pandas as pd\n",
    "\n",
    "import warnings\n",
    "warnings.filterwarnings(\"ignore\", category=FutureWarning) \n",
    "\n",
    "from _src.pose import *\n",
    "from _src.visibility import *\n",
    "from _src.itor import *"
   ]
  },
  {
   "cell_type": "markdown",
   "id": "e1c9ec17",
   "metadata": {},
   "source": [
    "##  Load Data\n",
    "World data, visibility matrix, pose library"
   ]
  },
  {
   "cell_type": "code",
   "execution_count": 9,
   "id": "b662c8dd",
   "metadata": {
    "scrolled": true
   },
   "outputs": [
    {
     "name": "stdout",
     "output_type": "stream",
     "text": [
      "Loading world visibility...\n",
      "Loading visibility matrix...\n",
      "Loading/building pose library...\n",
      "./_data/logs/_pose_library.pkl found, loading...\n"
     ]
    }
   ],
   "source": [
    "# get logs\n",
    "logs = glob.glob('./_data/logs/*.json')\n",
    "\n",
    "# load visibility objects\n",
    "print('Loading world visibility...')\n",
    "e = Experiment.load_from_file(logs[3])\n",
    "vis,w = get_vis(e)\n",
    "\n",
    "# load visibility matrix\n",
    "print('Loading visibility matrix...')\n",
    "[A,V,pts,sparse_arr] = pickle.load(open('./_data/visibility-21_05-1000.pkl','rb'))   \n",
    "vis_graph = {'V':V,'A':A,'src':pts,'dst':sparse_arr}\n",
    "\n",
    "# load/build pose library\n",
    "print('Loading/building pose library...')\n",
    "poselib = build_pose_library(logs)"
   ]
  },
  {
   "cell_type": "code",
   "execution_count": null,
   "id": "90a09131",
   "metadata": {},
   "outputs": [
    {
     "name": "stdout",
     "output_type": "stream",
     "text": [
      "./_data/logs\\MICE_20220512_1353_DMM1_21_05_HT1_experiment.json\n",
      "./_data/logs\\MICE_20220512_1520_DMM2_21_05_HT1_experiment.json\n",
      "./_data/logs\\MICE_20220512_1913_DMM3_21_05_HT1_experiment.json\n",
      "./_data/logs\\MICE_20220512_2015_DMM4_21_05_HT1_experiment.json\n",
      " Episode 0\n"
     ]
    },
    {
     "data": {
      "application/vnd.jupyter.widget-view+json": {
       "model_id": "28dc76c551d4415abeff1551d9d30d3e",
       "version_major": 2,
       "version_minor": 0
      },
      "text/plain": [
       "  0%|          | 0/888 [00:00<?, ?it/s]"
      ]
     },
     "metadata": {},
     "output_type": "display_data"
    },
    {
     "name": "stdout",
     "output_type": "stream",
     "text": [
      "  saving...\n",
      " Episode 1\n"
     ]
    },
    {
     "data": {
      "application/vnd.jupyter.widget-view+json": {
       "model_id": "49c38a1d1f4c4f4ca271f4a711762c87",
       "version_major": 2,
       "version_minor": 0
      },
      "text/plain": [
       "  0%|          | 0/951 [00:00<?, ?it/s]"
      ]
     },
     "metadata": {},
     "output_type": "display_data"
    },
    {
     "name": "stdout",
     "output_type": "stream",
     "text": [
      "  saving...\n",
      " Episode 2\n"
     ]
    },
    {
     "data": {
      "application/vnd.jupyter.widget-view+json": {
       "model_id": "2243895c69364412a86c577d284af07a",
       "version_major": 2,
       "version_minor": 0
      },
      "text/plain": [
       "  0%|          | 0/515 [00:00<?, ?it/s]"
      ]
     },
     "metadata": {},
     "output_type": "display_data"
    },
    {
     "name": "stdout",
     "output_type": "stream",
     "text": [
      "  saving...\n",
      " Episode 3\n"
     ]
    },
    {
     "data": {
      "application/vnd.jupyter.widget-view+json": {
       "model_id": "8e803e55f00c4d6d862539f08ce60a58",
       "version_major": 2,
       "version_minor": 0
      },
      "text/plain": [
       "  0%|          | 0/695 [00:00<?, ?it/s]"
      ]
     },
     "metadata": {},
     "output_type": "display_data"
    },
    {
     "name": "stdout",
     "output_type": "stream",
     "text": [
      "  saving...\n",
      " Episode 4\n"
     ]
    },
    {
     "data": {
      "application/vnd.jupyter.widget-view+json": {
       "model_id": "2b2f222bd49741d19cc4e148a3e9a847",
       "version_major": 2,
       "version_minor": 0
      },
      "text/plain": [
       "  0%|          | 0/618 [00:00<?, ?it/s]"
      ]
     },
     "metadata": {},
     "output_type": "display_data"
    },
    {
     "name": "stdout",
     "output_type": "stream",
     "text": [
      "  saving...\n",
      " Episode 5\n"
     ]
    },
    {
     "data": {
      "application/vnd.jupyter.widget-view+json": {
       "model_id": "de812643be044b8e8a57f2235daf0933",
       "version_major": 2,
       "version_minor": 0
      },
      "text/plain": [
       "  0%|          | 0/1260 [00:00<?, ?it/s]"
      ]
     },
     "metadata": {},
     "output_type": "display_data"
    }
   ],
   "source": [
    "# for each experiment compute the itor null distribution\n",
    "# test episode: MICE_20220609_1907_DMM1_21_05_SR4_episode020 = logs[-10]\n",
    "d = Display(w)\n",
    "#compute_itor_null(logs[-10],poselib,vis_graph,d,start_ep=20)\n",
    "for l in logs[0:10]:\n",
    "    compute_itor_null(l,poselib,vis_graph,d)\n"
   ]
  },
  {
   "cell_type": "code",
   "execution_count": 7,
   "id": "73b6d589",
   "metadata": {},
   "outputs": [
    {
     "data": {
      "text/plain": [
       "['./_data/logs\\\\MICE_20220606_2009_DMM3_21_05_SR4_experiment.json',\n",
       " './_data/logs\\\\MICE_20220607_1801_DMM3_21_05_JR4_experiment.json',\n",
       " './_data/logs\\\\MICE_20220607_1910_DMM4_21_05_SR3_experiment.json',\n",
       " './_data/logs\\\\MICE_20220608_1458_DMM2_21_05_SR4_experiment.json',\n",
       " './_data/logs\\\\MICE_20220608_1557_DMM3_21_05_SR5_experiment.json',\n",
       " './_data/logs\\\\MICE_20220608_1949_DMM4_21_05_JR3_experiment.json',\n",
       " './_data/logs\\\\MICE_20220608_2044_DMM1_21_05_JR3_experiment.json',\n",
       " './_data/logs\\\\MICE_20220609_1542_DMM4_21_05_SR4_experiment.json',\n",
       " './_data/logs\\\\MICE_20220609_1634_DMM3_21_05_JR5_experiment.json',\n",
       " './_data/logs\\\\MICE_20220609_1907_DMM1_21_05_SR4_experiment.json',\n",
       " './_data/logs\\\\MICE_20220609_2041_DMM2_21_05_JR4_experiment.json',\n",
       " './_data/logs\\\\MICE_20220610_1546_DMM1_21_05_JR4_experiment.json',\n",
       " './_data/logs\\\\MICE_20220610_1645_DMM4_21_05_JR4_experiment.json',\n",
       " './_data/logs\\\\MICE_20220613_1537_DMM2_21_05_SR4_experiment.json',\n",
       " './_data/logs\\\\MICE_20220613_1627_DMM4_21_05_SR5_experiment.json',\n",
       " './_data/logs\\\\MICE_20220613_1856_DMM1_21_05_SR5_experiment.json',\n",
       " './_data/logs\\\\MICE_20220614_1541_DMM4_21_05_JR5_experiment.json',\n",
       " './_data/logs\\\\MICE_20220614_1637_DMM1_21_05_JR5_experiment.json',\n",
       " './_data/logs\\\\MICE_20220614_1735_DMM2_21_05_JR5_experiment.json']"
      ]
     },
     "execution_count": 7,
     "metadata": {},
     "output_type": "execute_result"
    }
   ],
   "source": [
    "logs[50:]"
   ]
  },
  {
   "cell_type": "code",
   "execution_count": null,
   "id": "29ab8e90",
   "metadata": {},
   "outputs": [],
   "source": [
    "ppoints = []\n",
    "npoint = []\n",
    "hpoint = []\n",
    "for p in pose_null:\n",
    "    print(p.part)\n",
    "    if 'nose' in p.part:\n",
    "        npoint = [p.location.x,p.location.y]\n",
    "    elif 'head' in p.part:\n",
    "        hpoint = [p.location.x,p.location.y]\n",
    "    else:\n",
    "        ppoints.append([p.location.x,p.location.y])\n",
    "ppoints = np.vstack(ppoints)\n",
    "plt.scatter(ppoints[:,0],ppoints[:,1])"
   ]
  },
  {
   "cell_type": "markdown",
   "id": "4213f215",
   "metadata": {},
   "source": [
    "## Build pose library\n",
    "The library will have the following columns:\n",
    "\n",
    "1. experiment name\n",
    "2. episode\n",
    "3. POSEx\n",
    "4. POXEy\n",
    "5. score"
   ]
  },
  {
   "cell_type": "code",
   "execution_count": null,
   "id": "d8cca20b",
   "metadata": {},
   "outputs": [],
   "source": [
    "e = Experiment.load_from_file(logs[4])\n",
    "EXP = []\n",
    "EPI = []\n",
    "POSEx = []\n",
    "POSEy = []\n",
    "SCORE = []\n",
    "POSE = []\n",
    "for j,ep in enumerate(e.episodes):\n",
    "    pt = ep.trajectories.where('agent_name','prey').get_unique_steps()\n",
    "    for step in pt:\n",
    "        posex = []\n",
    "        posey = []\n",
    "        score = []\n",
    "        if step.data:\n",
    "            pose = PoseList.parse(step.data)\n",
    "            for i in range(len(pose)):\n",
    "                posex.append(pose[i].location.x)\n",
    "                posey.append(pose[i].location.y)\n",
    "                score.append(pose[i].score)\n",
    "            EXP.append(e.name)\n",
    "            EPI.append(j)\n",
    "            POSEx.append(posex)\n",
    "            POSEy.append(posey)\n",
    "            SCORE.append(score)\n",
    "            POSE.append(pose)\n",
    "experiment = np.vstack(EXP)\n",
    "episodes = np.vstack(EPI)\n",
    "poseX = np.vstack(POSEx)\n",
    "poseY = np.vstack(POSEy)\n",
    "score = np.vstack(SCORE)"
   ]
  },
  {
   "cell_type": "code",
   "execution_count": null,
   "id": "ad2f89d0",
   "metadata": {},
   "outputs": [],
   "source": []
  },
  {
   "cell_type": "markdown",
   "id": "a2bc79f0",
   "metadata": {},
   "source": [
    "## Compute ITOR\n",
    "True value"
   ]
  },
  {
   "cell_type": "code",
   "execution_count": null,
   "id": "854fcbf3",
   "metadata": {},
   "outputs": [],
   "source": [
    "# select episode\n",
    "episode = 10 #14\n",
    "\n",
    "for ep in e.episodes:\n",
    "    # for each step in the trajectory, compute true ITOR val\n",
    "    pt = e.episodes[episode].trajectories.where('agent_name','prey').get_unique_steps()\n",
    "    body_parts=['body_mid','tail_base','tail_post_base','tail_pre_tip','tail_tip']\n",
    "    #body_parts=['body_mid']\n",
    "    ITOR = []\n",
    "    ITOR_body = []\n",
    "    for i in tqdm(range(len(pt))):\n",
    "        step = pt[i]\n",
    "        if step.data:\n",
    "            pose = PoseList.parse(step.data)\n",
    "\n",
    "            # compute true ITOR\n",
    "            I = compute_itor_pose(pose,\n",
    "                      step.rotation,\n",
    "                      vis_graph,\n",
    "                      head_parts=['head_base'],\n",
    "                      body_parts=body_parts)\n",
    "            ITOR.append(I['ITOR'])\n",
    "\n",
    "            # compute ITOR with just the body\n",
    "            I = compute_itor_pose(pose,\n",
    "                      step.rotation,\n",
    "                      vis_graph,\n",
    "                      head_parts=['head_base'],\n",
    "                      body_parts=['body_mid'])\n",
    "            ITOR_body.append(I['ITOR'])"
   ]
  },
  {
   "cell_type": "code",
   "execution_count": null,
   "id": "82979fba",
   "metadata": {},
   "outputs": [],
   "source": [
    "%matplotlib inline\n",
    "\n",
    "_ = plt.hist(ITOR,bins=np.linspace(0,1,30),alpha=0.5,label='full body')\n",
    "_ = plt.hist(ITOR_body,bins=np.linspace(0,1,30),alpha=0.5,label='COM only')\n",
    "plt.xlabel('ITOR')\n",
    "plt.ylabel('count')\n",
    "plt.legend()"
   ]
  },
  {
   "cell_type": "markdown",
   "id": "47abd430",
   "metadata": {},
   "source": [
    "Null distribution"
   ]
  },
  {
   "cell_type": "code",
   "execution_count": null,
   "id": "f86f69d3",
   "metadata": {},
   "outputs": [],
   "source": [
    "k = 500\n",
    "body_parts=['body_mid','tail_base','tail_post_base','tail_pre_tip','tail_tip']\n",
    "\n",
    "for episode,ep in enumerate(e.episodes):\n",
    "    filename = f'./_data/episode{episode}_{k}null.pkl'\n",
    "    pt = ep.trajectories.where('agent_name','prey').get_unique_steps()\n",
    "    print(f'episode{episode}/{len(e.episodes)}')\n",
    "    if not glob.glob(filename):\n",
    "        ITOR_null = []\n",
    "        poseI = []\n",
    "        for i in tqdm(range(len(pt))):\n",
    "            step = pt[i]\n",
    "            if step.data:\n",
    "                # get the real pose\n",
    "                pose0 = PoseList.parse(step.data).copy()\n",
    "\n",
    "                # get null samples\n",
    "                rand_sample = choices(np.where(episodes != episode)[0],k=k)\n",
    "                itor = []\n",
    "                pose_ind = []\n",
    "                for kk in rand_sample:\n",
    "\n",
    "                    # offset and rotate null pose\n",
    "                    pose1 = POSE[kk].copy()\n",
    "                    pose_null,src_angle,src_loc,ref_angle,ref_loc = match_pose(pose0,pose1)\n",
    "\n",
    "                    # compute ITOR and map to color value\n",
    "                    I = compute_itor_pose(pose_null,\n",
    "                                      ref_angle,\n",
    "                                      vis_graph,\n",
    "                                      head_parts=['head_base'],\n",
    "                                      body_parts=body_parts)\n",
    "                    itor.append(I['ITOR'])\n",
    "                    pose_ind.append(kk)\n",
    "                ITOR_null.append(itor)\n",
    "                poseI.append(pose_ind)\n",
    "\n",
    "        pickle.dump([ITOR_null,poseI],open(filename,'wb'))   \n",
    "    else:\n",
    "        [ITOR_null,poseI] = pickle.load(open(filename,'rb'))\n",
    "\n"
   ]
  },
  {
   "cell_type": "code",
   "execution_count": null,
   "id": "bf3db24d",
   "metadata": {},
   "outputs": [],
   "source": [
    "def pose2array(pose,score=0):\n",
    "    '''Covert pose to array'''\n",
    "    return np.vstack([[i.location.x,i.location.y] for i in pose if i.score > score])\n",
    "\n",
    "def get_null_pose_dist(frame_list,pose_lib,itor_lib,pose0=[]):\n",
    "    pose_null = []\n",
    "    itor_null = []\n",
    "    for i,kk in enumerate(frame_list):\n",
    "        if pose0:\n",
    "            pose_norm,_,_,_,_ = match_pose(\n",
    "                pose0,\n",
    "                pose_lib[kk])\n",
    "        else:\n",
    "            pose_norm = pose_lib[kk]\n",
    "        pa = pose2array(pose_norm)\n",
    "        pose_null.append(pa)\n",
    "        itor_null.append(np.repeat(itor_lib[i],pa.shape[0]))\n",
    "    return pose_null,itor_null"
   ]
  },
  {
   "cell_type": "code",
   "execution_count": null,
   "id": "c0801ccd",
   "metadata": {},
   "outputs": [],
   "source": [
    "# pretransform the null pose for plotting\n",
    "pt = e.episodes[episode].trajectories.where('agent_name','prey').get_unique_steps()\n",
    "pnull = []\n",
    "inull = []\n",
    "for ind in tqdm(range(len(pt)-1)):\n",
    "    pose_null,itor_null = get_null_pose_dist(poseI[ind],POSE,ITOR_null[ind],PoseList.parse(pt[ind].data))\n",
    "    pnull.append(pose_null)\n",
    "    inull.append(itor_null)"
   ]
  },
  {
   "cell_type": "code",
   "execution_count": null,
   "id": "c7173ae3",
   "metadata": {},
   "outputs": [],
   "source": [
    "%matplotlib notebook\n",
    "import matplotlib.pyplot as plt\n",
    "import matplotlib.animation\n",
    "import numpy as np\n",
    "\n",
    "# colormap\n",
    "cm = plt.get_cmap('jet')\n",
    "cn = colors.Normalize(vmin=0,vmax=1)\n",
    "sm = cmx.ScalarMappable(norm=cn, cmap=cm)\n",
    "\n",
    "fig, ax = plt.subplots()\n",
    "x, y = [],[]\n",
    "d = Display(w, fig_size=(7,9), padding=0, cell_edge_color=\"lightgrey\",fig=fig,ax=ax)\n",
    "sc = ax.scatter(x,y,s=10,vmin=0,vmax=1)\n",
    "plt.colorbar(sc,cmap=sm)\n",
    "plt.xlim(0,1)\n",
    "plt.ylim(0,1)\n",
    "\n",
    "def animate(i):\n",
    "    pose_null = np.vstack(pnull[i])\n",
    "    itor_null = np.hstack(inull[i])[:,np.newaxis]\n",
    "    si = np.argsort(itor_null,axis=0)\n",
    "    x = pose_null[si,0]\n",
    "    y = pose_null[si,1]\n",
    "    sc.set_offsets(np.c_[x,y])\n",
    "    sc.set_array(np.squeeze(itor_null[si]))\n",
    "    \n",
    "ani = matplotlib.animation.FuncAnimation(fig, animate, \n",
    "                frames=len(pnull), interval=30, repeat=True) \n",
    "plt.show()"
   ]
  },
  {
   "cell_type": "code",
   "execution_count": null,
   "id": "4b13829a",
   "metadata": {},
   "outputs": [],
   "source": [
    "np.squeeze(itor_null[si])"
   ]
  },
  {
   "cell_type": "code",
   "execution_count": null,
   "id": "67827242",
   "metadata": {},
   "outputs": [],
   "source": [
    "# set episode, samples etc\n",
    "k = 500\n",
    "episode = 14\n",
    "pt = e.episodes[episode].trajectories.where('agent_name','prey').get_unique_steps()\n",
    "rt = e.episodes[episode].trajectories.where('agent_name','predator')\n",
    "duration = len(pt) / 30 # convert to time\n",
    "\n",
    "def make_frame(ind):\n",
    "    \n",
    "    print(f'frame {ind} / {len(pt)}')\n",
    "    fig,ax = plt.subplots(2,2,figsize=(10,10))\n",
    "    \n",
    "    # copy original pose\n",
    "    step = pt[ind]\n",
    "    pose0 = PoseList.parse(step.data).copy()\n",
    "    \n",
    "    # plot each display\n",
    "    d0 = Display(w, fig_size=(7,9), padding=0, cell_edge_color=\"lightgrey\",fig=fig,ax=ax[0,0])\n",
    "    d1 = Display(w, fig_size=(7,9), padding=0, cell_edge_color=\"lightgrey\",fig=fig,ax=ax[0,1])\n",
    "    \n",
    "    # set the colormap\n",
    "    cm = plt.get_cmap('jet')\n",
    "    cNorm = colors.Normalize(vmin=0,vmax=1)\n",
    "    scalarMap = cmx.ScalarMappable(norm=cNorm, cmap=cm)\n",
    "    \n",
    "    # sample and plot random poses\n",
    "    itor = []\n",
    "    h = []\n",
    "    for i,kk in enumerate(poseI[ind]):\n",
    "\n",
    "        # get a pose draw\n",
    "        pose1 = POSE[kk].copy()\n",
    "\n",
    "        # offset and rotate each point\n",
    "        pose_norm,src_angle,src_loc,ref_angle,ref_loc = match_pose(pose0,pose1)\n",
    "\n",
    "        # cmap and plot\n",
    "        itor.append(ITOR_null[ind][i])\n",
    "        cval = scalarMap.to_rgba(ITOR_null[ind][i])\n",
    "        h = plot_pose(pose_norm,ax=ax[0,0],color=cval,alpha=0.1)\n",
    "        h = plot_pose(pose_norm,ax=ax[0,1],color=cval,alpha=0.1)\n",
    "        \n",
    "    h = plot_pose(pose0,ax=ax[0,0],color='w')\n",
    "    ax[0,0].axis('scaled')\n",
    "    ax[0,0].set_xlabel('x')\n",
    "    ax[0,0].set_ylabel('y')\n",
    "    ax[0,0].set_xlim([-0.1,1.1])\n",
    "    ax[0,0].set_ylim([-0.1,1.1])\n",
    "    plt.setp(h[0],edgecolor='k',sizes=[15])\n",
    "    plt.setp(h[1],markeredgecolor='k',ms=5)\n",
    "    plt.setp(h[2],markeredgecolor='k',ms=3)\n",
    "    \n",
    "    # get robot for this frame and plot\n",
    "    rind = np.where(np.array(rt.get('frame'))==step.frame)[0]\n",
    "    if len(rind) > 0:\n",
    "        # update location\n",
    "        rloc = rt[rind[0]].location\n",
    "        ax[0,0].plot(rloc.x,rloc.y,'rD',markersize=10)\n",
    "        ax[0,1].plot(rloc.x,rloc.y,'rD',markersize=10)\n",
    "\n",
    "    h = plot_pose(pose0,ax=ax[0,1],color='w')\n",
    "    ax[0,1].axis('scaled')\n",
    "    ax[0,1].set_xlim([ref_loc.x-0.1,ref_loc.x+0.1])\n",
    "    ax[0,1].set_ylim([ref_loc.y-0.1,ref_loc.y+0.1])\n",
    "    ax[0,1].set_xlabel('x')\n",
    "    ax[0,1].set_ylabel('y')\n",
    "    plt.setp(h[0],edgecolor='k',sizes=[50])\n",
    "    plt.setp(h[1],markeredgecolor='k',ms=15)\n",
    "    plt.setp(h[2],markeredgecolor='k',ms=12)\n",
    "    plt.colorbar(scalarMap,ax=ax[0,1])\n",
    "\n",
    "    ax[1,0].plot(ITOR,label='ITOR(t)')\n",
    "    ax[1,0].axvline(ind,color='r',label='true pose')\n",
    "    ax[1,0].set_xlabel('frame')\n",
    "    ax[1,0].set_ylabel('ITOR')\n",
    "    ax[1,0].set_ylim((0,1))\n",
    "    ax[1,0].legend()\n",
    "    ax[1,0].set_title(f'frame {ind}')\n",
    "\n",
    "    ax[1,1].hist(itor,bins=np.linspace(0,1,30),label='random pose')\n",
    "    ax[1,1].axvline(ITOR[ind],color='r',label='frame')\n",
    "    ax[1,1].set_ylabel('count')\n",
    "    ax[1,1].set_xlabel('ITOR')\n",
    "    ax[1,1].set_xlim([0,1])\n",
    "    ax[1,1].set_ylim([0,500])\n",
    "    ax[1,1].legend()\n",
    "    ax[1,1].set_title(f'percentile = {np.sum(np.array(itor)<=ITOR[ind])/np.sum(~np.isnan(np.array(itor)))}')\n",
    "\n",
    "    fig.savefig(f'./_plots/episode{episode}/frame_{ind:03d}.jpeg')\n",
    "    plt.close()\n",
    "    \n",
    "start = 0\n",
    "for i in tqdm(range(start,len(pt)-1)):\n",
    "    make_frame(i)"
   ]
  },
  {
   "cell_type": "code",
   "execution_count": null,
   "id": "3ae50e22",
   "metadata": {},
   "outputs": [],
   "source": [
    "fig,ax = plt.subplots(2,2,figsize=(10,10))\n",
    "\n",
    "def plot_itor_null(pt,frame,w,ax=[],fig=[]):\n",
    "      \n",
    "    if not ax or not fig:\n",
    "        fig,ax = plt.subplots(1,1)\n",
    "        \n",
    "    # plot the display\n",
    "    d = Display(w, fig_size=(7,9), padding=0, cell_edge_color=\"lightgrey\",fig=fig,ax=ax)\n",
    "    \n",
    "    \n",
    "  \n",
    "\n"
   ]
  },
  {
   "cell_type": "code",
   "execution_count": null,
   "id": "10fac0fb",
   "metadata": {},
   "outputs": [],
   "source": []
  },
  {
   "cell_type": "code",
   "execution_count": null,
   "id": "509d4919",
   "metadata": {},
   "outputs": [],
   "source": [
    "for ind in range(len(pt)):\n",
    "\n",
    "    # copy original pose\n",
    "    step = pt[ind]\n",
    "    if step.data:\n",
    "        pose0 = PoseList.parse(step.data).copy()\n",
    "        pose1 = POSE[poseI[ind][0]].copy()\n",
    "        pose_norm,src_angle,src_loc,ref_angle,ref_loc = match_pose(pose0,pose1)\n",
    "        break"
   ]
  },
  {
   "cell_type": "code",
   "execution_count": null,
   "id": "1686e140",
   "metadata": {},
   "outputs": [],
   "source": [
    "def pose2array(pose,score=0.8):\n",
    "    return np.vstack([[i.location.x,i.location.y] for i in pose if i.score > score])"
   ]
  },
  {
   "cell_type": "code",
   "execution_count": null,
   "id": "efe5309d",
   "metadata": {},
   "outputs": [],
   "source": [
    "pa = pose2array(pose_norm,score=0.8)\n",
    "h.append(plt.scatter(pa[:,0],pa[:,1],10))\n"
   ]
  },
  {
   "cell_type": "code",
   "execution_count": null,
   "id": "0117d199",
   "metadata": {},
   "outputs": [],
   "source": [
    "pose_norm"
   ]
  },
  {
   "cell_type": "code",
   "execution_count": null,
   "id": "f08c02fd",
   "metadata": {},
   "outputs": [],
   "source": []
  }
 ],
 "metadata": {
  "kernelspec": {
   "display_name": "Python 3 (ipykernel)",
   "language": "python",
   "name": "python3"
  },
  "language_info": {
   "codemirror_mode": {
    "name": "ipython",
    "version": 3
   },
   "file_extension": ".py",
   "mimetype": "text/x-python",
   "name": "python",
   "nbconvert_exporter": "python",
   "pygments_lexer": "ipython3",
   "version": "3.9.12"
  }
 },
 "nbformat": 4,
 "nbformat_minor": 5
}
