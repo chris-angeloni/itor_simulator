{
 "cells": [
  {
   "cell_type": "code",
   "execution_count": 1,
   "id": "80d0ab22",
   "metadata": {},
   "outputs": [
    {
     "name": "stdout",
     "output_type": "stream",
     "text": [
      "Requirement already satisfied: cellworld==0.0.105 in /home/chris/anaconda3/lib/python3.9/site-packages (0.0.105)\n",
      "Requirement already satisfied: matplotlib in /home/chris/anaconda3/lib/python3.9/site-packages (from cellworld==0.0.105) (3.5.1)\n",
      "Requirement already satisfied: tcp-messages in /home/chris/anaconda3/lib/python3.9/site-packages (from cellworld==0.0.105) (1.0.35)\n",
      "Requirement already satisfied: json-cpp in /home/chris/anaconda3/lib/python3.9/site-packages (from cellworld==0.0.105) (1.0.24)\n",
      "Requirement already satisfied: networkx in /home/chris/anaconda3/lib/python3.9/site-packages (from cellworld==0.0.105) (2.7.1)\n",
      "Requirement already satisfied: numpy in /home/chris/anaconda3/lib/python3.9/site-packages (from cellworld==0.0.105) (1.21.5)\n",
      "Requirement already satisfied: requests in /home/chris/anaconda3/lib/python3.9/site-packages (from json-cpp->cellworld==0.0.105) (2.27.1)\n",
      "Requirement already satisfied: pyparsing>=2.2.1 in /home/chris/anaconda3/lib/python3.9/site-packages (from matplotlib->cellworld==0.0.105) (3.0.4)\n",
      "Requirement already satisfied: packaging>=20.0 in /home/chris/anaconda3/lib/python3.9/site-packages (from matplotlib->cellworld==0.0.105) (21.3)\n",
      "Requirement already satisfied: kiwisolver>=1.0.1 in /home/chris/anaconda3/lib/python3.9/site-packages (from matplotlib->cellworld==0.0.105) (1.3.2)\n",
      "Requirement already satisfied: cycler>=0.10 in /home/chris/anaconda3/lib/python3.9/site-packages (from matplotlib->cellworld==0.0.105) (0.11.0)\n",
      "Requirement already satisfied: python-dateutil>=2.7 in /home/chris/anaconda3/lib/python3.9/site-packages (from matplotlib->cellworld==0.0.105) (2.8.2)\n",
      "Requirement already satisfied: pillow>=6.2.0 in /home/chris/anaconda3/lib/python3.9/site-packages (from matplotlib->cellworld==0.0.105) (9.0.1)\n",
      "Requirement already satisfied: fonttools>=4.22.0 in /home/chris/anaconda3/lib/python3.9/site-packages (from matplotlib->cellworld==0.0.105) (4.25.0)\n",
      "Requirement already satisfied: six>=1.5 in /home/chris/anaconda3/lib/python3.9/site-packages (from python-dateutil>=2.7->matplotlib->cellworld==0.0.105) (1.16.0)\n",
      "Requirement already satisfied: idna<4,>=2.5 in /home/chris/anaconda3/lib/python3.9/site-packages (from requests->json-cpp->cellworld==0.0.105) (3.3)\n",
      "Requirement already satisfied: certifi>=2017.4.17 in /home/chris/anaconda3/lib/python3.9/site-packages (from requests->json-cpp->cellworld==0.0.105) (2021.10.8)\n",
      "Requirement already satisfied: charset-normalizer~=2.0.0 in /home/chris/anaconda3/lib/python3.9/site-packages (from requests->json-cpp->cellworld==0.0.105) (2.0.4)\n",
      "Requirement already satisfied: urllib3<1.27,>=1.21.1 in /home/chris/anaconda3/lib/python3.9/site-packages (from requests->json-cpp->cellworld==0.0.105) (1.26.9)\n",
      "Requirement already satisfied: tqdm in /home/chris/anaconda3/lib/python3.9/site-packages (4.64.0)\n",
      "Requirement already satisfied: pandas in /home/chris/anaconda3/lib/python3.9/site-packages (1.4.2)\n",
      "Requirement already satisfied: python-dateutil>=2.8.1 in /home/chris/anaconda3/lib/python3.9/site-packages (from pandas) (2.8.2)\n",
      "Requirement already satisfied: pytz>=2020.1 in /home/chris/anaconda3/lib/python3.9/site-packages (from pandas) (2021.3)\n",
      "Requirement already satisfied: numpy>=1.18.5 in /home/chris/anaconda3/lib/python3.9/site-packages (from pandas) (1.21.5)\n",
      "Requirement already satisfied: six>=1.5 in /home/chris/anaconda3/lib/python3.9/site-packages (from python-dateutil>=2.8.1->pandas) (1.16.0)\n",
      "Requirement already satisfied: scipy in /home/chris/anaconda3/lib/python3.9/site-packages (1.7.3)\n",
      "Requirement already satisfied: numpy<1.23.0,>=1.16.5 in /home/chris/anaconda3/lib/python3.9/site-packages (from scipy) (1.21.5)\n",
      "Requirement already satisfied: rtree in /home/chris/anaconda3/lib/python3.9/site-packages (0.9.7)\n",
      "Requirement already satisfied: ipywidgets in /home/chris/anaconda3/lib/python3.9/site-packages (7.6.5)\n",
      "Requirement already satisfied: widgetsnbextension~=3.5.0 in /home/chris/anaconda3/lib/python3.9/site-packages (from ipywidgets) (3.5.2)\n",
      "Requirement already satisfied: nbformat>=4.2.0 in /home/chris/anaconda3/lib/python3.9/site-packages (from ipywidgets) (5.3.0)\n",
      "Requirement already satisfied: traitlets>=4.3.1 in /home/chris/anaconda3/lib/python3.9/site-packages (from ipywidgets) (5.1.1)\n",
      "Requirement already satisfied: ipython>=4.0.0 in /home/chris/anaconda3/lib/python3.9/site-packages (from ipywidgets) (8.2.0)\n",
      "Requirement already satisfied: jupyterlab-widgets>=1.0.0 in /home/chris/anaconda3/lib/python3.9/site-packages (from ipywidgets) (1.0.0)\n",
      "Requirement already satisfied: ipykernel>=4.5.1 in /home/chris/anaconda3/lib/python3.9/site-packages (from ipywidgets) (6.9.1)\n",
      "Requirement already satisfied: ipython-genutils~=0.2.0 in /home/chris/anaconda3/lib/python3.9/site-packages (from ipywidgets) (0.2.0)\n",
      "Requirement already satisfied: tornado<7.0,>=4.2 in /home/chris/anaconda3/lib/python3.9/site-packages (from ipykernel>=4.5.1->ipywidgets) (6.1)\n",
      "Requirement already satisfied: jupyter-client<8.0 in /home/chris/anaconda3/lib/python3.9/site-packages (from ipykernel>=4.5.1->ipywidgets) (6.1.12)\n",
      "Requirement already satisfied: matplotlib-inline<0.2.0,>=0.1.0 in /home/chris/anaconda3/lib/python3.9/site-packages (from ipykernel>=4.5.1->ipywidgets) (0.1.2)\n",
      "Requirement already satisfied: debugpy<2.0,>=1.0.0 in /home/chris/anaconda3/lib/python3.9/site-packages (from ipykernel>=4.5.1->ipywidgets) (1.5.1)\n",
      "Requirement already satisfied: nest-asyncio in /home/chris/anaconda3/lib/python3.9/site-packages (from ipykernel>=4.5.1->ipywidgets) (1.5.5)\n",
      "Requirement already satisfied: pygments>=2.4.0 in /home/chris/anaconda3/lib/python3.9/site-packages (from ipython>=4.0.0->ipywidgets) (2.11.2)\n",
      "Requirement already satisfied: pexpect>4.3 in /home/chris/anaconda3/lib/python3.9/site-packages (from ipython>=4.0.0->ipywidgets) (4.8.0)\n",
      "Requirement already satisfied: backcall in /home/chris/anaconda3/lib/python3.9/site-packages (from ipython>=4.0.0->ipywidgets) (0.2.0)\n",
      "Requirement already satisfied: decorator in /home/chris/anaconda3/lib/python3.9/site-packages (from ipython>=4.0.0->ipywidgets) (5.1.1)\n",
      "Requirement already satisfied: prompt-toolkit!=3.0.0,!=3.0.1,<3.1.0,>=2.0.0 in /home/chris/anaconda3/lib/python3.9/site-packages (from ipython>=4.0.0->ipywidgets) (3.0.20)\n",
      "Requirement already satisfied: setuptools>=18.5 in /home/chris/anaconda3/lib/python3.9/site-packages (from ipython>=4.0.0->ipywidgets) (61.2.0)\n",
      "Requirement already satisfied: jedi>=0.16 in /home/chris/anaconda3/lib/python3.9/site-packages (from ipython>=4.0.0->ipywidgets) (0.18.1)\n",
      "Requirement already satisfied: stack-data in /home/chris/anaconda3/lib/python3.9/site-packages (from ipython>=4.0.0->ipywidgets) (0.2.0)\n",
      "Requirement already satisfied: pickleshare in /home/chris/anaconda3/lib/python3.9/site-packages (from ipython>=4.0.0->ipywidgets) (0.7.5)\n",
      "Requirement already satisfied: parso<0.9.0,>=0.8.0 in /home/chris/anaconda3/lib/python3.9/site-packages (from jedi>=0.16->ipython>=4.0.0->ipywidgets) (0.8.3)\n",
      "Requirement already satisfied: pyzmq>=13 in /home/chris/anaconda3/lib/python3.9/site-packages (from jupyter-client<8.0->ipykernel>=4.5.1->ipywidgets) (22.3.0)\n",
      "Requirement already satisfied: python-dateutil>=2.1 in /home/chris/anaconda3/lib/python3.9/site-packages (from jupyter-client<8.0->ipykernel>=4.5.1->ipywidgets) (2.8.2)\n",
      "Requirement already satisfied: jupyter-core>=4.6.0 in /home/chris/anaconda3/lib/python3.9/site-packages (from jupyter-client<8.0->ipykernel>=4.5.1->ipywidgets) (4.9.2)\n",
      "Requirement already satisfied: fastjsonschema in /home/chris/anaconda3/lib/python3.9/site-packages (from nbformat>=4.2.0->ipywidgets) (2.15.1)\n",
      "Requirement already satisfied: jsonschema>=2.6 in /home/chris/anaconda3/lib/python3.9/site-packages (from nbformat>=4.2.0->ipywidgets) (4.4.0)\n",
      "Requirement already satisfied: attrs>=17.4.0 in /home/chris/anaconda3/lib/python3.9/site-packages (from jsonschema>=2.6->nbformat>=4.2.0->ipywidgets) (21.4.0)\n",
      "Requirement already satisfied: pyrsistent!=0.17.0,!=0.17.1,!=0.17.2,>=0.14.0 in /home/chris/anaconda3/lib/python3.9/site-packages (from jsonschema>=2.6->nbformat>=4.2.0->ipywidgets) (0.18.0)\n",
      "Requirement already satisfied: ptyprocess>=0.5 in /home/chris/anaconda3/lib/python3.9/site-packages (from pexpect>4.3->ipython>=4.0.0->ipywidgets) (0.7.0)\n",
      "Requirement already satisfied: wcwidth in /home/chris/anaconda3/lib/python3.9/site-packages (from prompt-toolkit!=3.0.0,!=3.0.1,<3.1.0,>=2.0.0->ipython>=4.0.0->ipywidgets) (0.2.5)\n",
      "Requirement already satisfied: six>=1.5 in /home/chris/anaconda3/lib/python3.9/site-packages (from python-dateutil>=2.1->jupyter-client<8.0->ipykernel>=4.5.1->ipywidgets) (1.16.0)\n",
      "Requirement already satisfied: notebook>=4.4.1 in /home/chris/anaconda3/lib/python3.9/site-packages (from widgetsnbextension~=3.5.0->ipywidgets) (6.4.8)\n"
     ]
    },
    {
     "name": "stdout",
     "output_type": "stream",
     "text": [
      "Requirement already satisfied: jinja2 in /home/chris/anaconda3/lib/python3.9/site-packages (from notebook>=4.4.1->widgetsnbextension~=3.5.0->ipywidgets) (2.11.3)\n",
      "Requirement already satisfied: nbconvert in /home/chris/anaconda3/lib/python3.9/site-packages (from notebook>=4.4.1->widgetsnbextension~=3.5.0->ipywidgets) (6.4.4)\n",
      "Requirement already satisfied: argon2-cffi in /home/chris/anaconda3/lib/python3.9/site-packages (from notebook>=4.4.1->widgetsnbextension~=3.5.0->ipywidgets) (21.3.0)\n",
      "Requirement already satisfied: terminado>=0.8.3 in /home/chris/anaconda3/lib/python3.9/site-packages (from notebook>=4.4.1->widgetsnbextension~=3.5.0->ipywidgets) (0.13.1)\n",
      "Requirement already satisfied: Send2Trash>=1.8.0 in /home/chris/anaconda3/lib/python3.9/site-packages (from notebook>=4.4.1->widgetsnbextension~=3.5.0->ipywidgets) (1.8.0)\n",
      "Requirement already satisfied: prometheus-client in /home/chris/anaconda3/lib/python3.9/site-packages (from notebook>=4.4.1->widgetsnbextension~=3.5.0->ipywidgets) (0.13.1)\n",
      "Requirement already satisfied: argon2-cffi-bindings in /home/chris/anaconda3/lib/python3.9/site-packages (from argon2-cffi->notebook>=4.4.1->widgetsnbextension~=3.5.0->ipywidgets) (21.2.0)\n",
      "Requirement already satisfied: cffi>=1.0.1 in /home/chris/anaconda3/lib/python3.9/site-packages (from argon2-cffi-bindings->argon2-cffi->notebook>=4.4.1->widgetsnbextension~=3.5.0->ipywidgets) (1.15.0)\n",
      "Requirement already satisfied: pycparser in /home/chris/anaconda3/lib/python3.9/site-packages (from cffi>=1.0.1->argon2-cffi-bindings->argon2-cffi->notebook>=4.4.1->widgetsnbextension~=3.5.0->ipywidgets) (2.21)\n",
      "Requirement already satisfied: MarkupSafe>=0.23 in /home/chris/anaconda3/lib/python3.9/site-packages (from jinja2->notebook>=4.4.1->widgetsnbextension~=3.5.0->ipywidgets) (2.0.1)\n",
      "Requirement already satisfied: entrypoints>=0.2.2 in /home/chris/anaconda3/lib/python3.9/site-packages (from nbconvert->notebook>=4.4.1->widgetsnbextension~=3.5.0->ipywidgets) (0.4)\n",
      "Requirement already satisfied: defusedxml in /home/chris/anaconda3/lib/python3.9/site-packages (from nbconvert->notebook>=4.4.1->widgetsnbextension~=3.5.0->ipywidgets) (0.7.1)\n",
      "Requirement already satisfied: mistune<2,>=0.8.1 in /home/chris/anaconda3/lib/python3.9/site-packages (from nbconvert->notebook>=4.4.1->widgetsnbextension~=3.5.0->ipywidgets) (0.8.4)\n",
      "Requirement already satisfied: beautifulsoup4 in /home/chris/anaconda3/lib/python3.9/site-packages (from nbconvert->notebook>=4.4.1->widgetsnbextension~=3.5.0->ipywidgets) (4.11.1)\n",
      "Requirement already satisfied: bleach in /home/chris/anaconda3/lib/python3.9/site-packages (from nbconvert->notebook>=4.4.1->widgetsnbextension~=3.5.0->ipywidgets) (4.1.0)\n",
      "Requirement already satisfied: jupyterlab-pygments in /home/chris/anaconda3/lib/python3.9/site-packages (from nbconvert->notebook>=4.4.1->widgetsnbextension~=3.5.0->ipywidgets) (0.1.2)\n",
      "Requirement already satisfied: testpath in /home/chris/anaconda3/lib/python3.9/site-packages (from nbconvert->notebook>=4.4.1->widgetsnbextension~=3.5.0->ipywidgets) (0.5.0)\n",
      "Requirement already satisfied: pandocfilters>=1.4.1 in /home/chris/anaconda3/lib/python3.9/site-packages (from nbconvert->notebook>=4.4.1->widgetsnbextension~=3.5.0->ipywidgets) (1.5.0)\n",
      "Requirement already satisfied: nbclient<0.6.0,>=0.5.0 in /home/chris/anaconda3/lib/python3.9/site-packages (from nbconvert->notebook>=4.4.1->widgetsnbextension~=3.5.0->ipywidgets) (0.5.13)\n",
      "Requirement already satisfied: soupsieve>1.2 in /home/chris/anaconda3/lib/python3.9/site-packages (from beautifulsoup4->nbconvert->notebook>=4.4.1->widgetsnbextension~=3.5.0->ipywidgets) (2.3.1)\n",
      "Requirement already satisfied: webencodings in /home/chris/anaconda3/lib/python3.9/site-packages (from bleach->nbconvert->notebook>=4.4.1->widgetsnbextension~=3.5.0->ipywidgets) (0.5.1)\n",
      "Requirement already satisfied: packaging in /home/chris/anaconda3/lib/python3.9/site-packages (from bleach->nbconvert->notebook>=4.4.1->widgetsnbextension~=3.5.0->ipywidgets) (21.3)\n",
      "Requirement already satisfied: pyparsing!=3.0.5,>=2.0.2 in /home/chris/anaconda3/lib/python3.9/site-packages (from packaging->bleach->nbconvert->notebook>=4.4.1->widgetsnbextension~=3.5.0->ipywidgets) (3.0.4)\n",
      "Requirement already satisfied: pure-eval in /home/chris/anaconda3/lib/python3.9/site-packages (from stack-data->ipython>=4.0.0->ipywidgets) (0.2.2)\n",
      "Requirement already satisfied: executing in /home/chris/anaconda3/lib/python3.9/site-packages (from stack-data->ipython>=4.0.0->ipywidgets) (0.8.3)\n",
      "Requirement already satisfied: asttokens in /home/chris/anaconda3/lib/python3.9/site-packages (from stack-data->ipython>=4.0.0->ipywidgets) (2.0.5)\n"
     ]
    }
   ],
   "source": [
    "#%%capture\n",
    "#!pip install cellworld==0.0.105\n",
    "#!pip install tqdm\n",
    "#!pip install pandas\n",
    "#!pip install scipy\n",
    "#!pip install rtree\n",
    "#!pip install ipywidgets"
   ]
  },
  {
   "cell_type": "code",
   "execution_count": 2,
   "id": "d37a655d",
   "metadata": {},
   "outputs": [],
   "source": [
    "from cellworld import *\n",
    "import numpy as np\n",
    "import matplotlib.pyplot as plt\n",
    "import glob\n",
    "from tqdm.notebook import tqdm\n",
    "from ipywidgets import *\n",
    "import pickle"
   ]
  },
  {
   "cell_type": "code",
   "execution_count": 3,
   "id": "abf7e4a0",
   "metadata": {},
   "outputs": [],
   "source": [
    "def sparse_subset(points,r):\n",
    "    \"\"\"Return a maximal list of elements of points such that no pairs of\n",
    "    points in the result have distance less than r.\"\"\"\n",
    "    result = []\n",
    "    index = rtree.index.Index()\n",
    "    for i, p in enumerate(points):\n",
    "        px, py = p\n",
    "        nearby = index.intersection((px - r, py - r, px + r, py + r))\n",
    "        if all(dist(p, points[j]) >= r for j in nearby):\n",
    "            result.append(p)\n",
    "            index.insert(i, (px, py, px, py))\n",
    "    return result\n",
    "\n",
    "def get_vis(e):\n",
    "    \"\"\"Gets world visibility object from experiment object.\"\"\"\n",
    "    w = World.get_from_parameters_names('hexagonal','canonical',e.occlusions)\n",
    "    occlusion_locations = w.cells.occluded_cells().get(\"location\")\n",
    "    occlusions_polygons = Polygon_list.get_polygons(occlusion_locations, w.configuration.cell_shape.sides, w.implementation.cell_transformation.size / 2, w.implementation.space.transformation.rotation + w.implementation.cell_transformation.rotation) # ploygon object\n",
    "    vis = Location_visibility(occlusions_polygons)\n",
    "    return vis,w\n",
    "\n",
    "def get_vertices(e):\n",
    "    \"\"\"Gets unique vertices from all polygons.\"\"\"\n",
    "    # make a list of all polygon vertices\n",
    "    w = World.get_from_parameters_names('hexagonal','canonical',e.occlusions)\n",
    "    all_polygons = Polygon_list.get_polygons(w.cells.get('location'),w.configuration.cell_shape.sides, w.implementation.cell_transformation.size / 2, w.implementation.space.transformation.rotation + w.implementation.cell_transformation.rotation)\n",
    "    x = []\n",
    "    y = []\n",
    "    for poly in all_polygons:\n",
    "        x.append(poly.vertices.get('x'))\n",
    "        y.append(poly.vertices.get('y'))\n",
    "    x = np.hstack(x).reshape(1,-1).T\n",
    "    y = np.hstack(y).reshape(1,-1).T\n",
    "    verts = np.concatenate((x,y),axis=1)\n",
    "    pts = verts.tolist()\n",
    "\n",
    "    # get unique vertices, removing those closeby\n",
    "    sparse_pts = sparse_subset(pts,0.01)\n",
    "    sparse_arr = np.vstack(sparse_pts)\n",
    "    return sparse_arr\n",
    "\n",
    "def get_tiles(n,e):\n",
    "    \"\"\"Get nxn locations tiled across the world in experiment object, then removes tiles\n",
    "    that are within obstacles in the world. (needs to Display the world to do so)\"\"\"\n",
    "    # generate world tiles\n",
    "    w = World.get_from_parameters_names('hexagonal','canonical',e.occlusions)\n",
    "    x = np.linspace(0,1,n)\n",
    "    xv,yv = np.meshgrid(x,x,indexing='ij')\n",
    "    xv = xv.reshape(1,-1)\n",
    "    yv = yv.reshape(1,-1)\n",
    "    points = np.concatenate((xv,yv)).T\n",
    "    \n",
    "    # get the wall limits\n",
    "    d = Display(w, fig_size=(1,1), padding=0, cell_edge_color=\"lightgrey\")\n",
    "    path = d.habitat_polygon.get_path()\n",
    "    transform = d.habitat_polygon.get_patch_transform()\n",
    "    newpath = transform.transform_path(path)\n",
    "    polygon = mpatches.PathPatch(newpath)\n",
    "    inside = []\n",
    "    inside.append(~newpath.contains_points(points))\n",
    "\n",
    "    # get the occlusion limits and remove points\n",
    "    for poly in d.cell_polygons:\n",
    "        if poly._facecolor[0]==0:\n",
    "            path = poly.get_path()\n",
    "            transform = poly.get_patch_transform()\n",
    "            newpath = transform.transform_path(path)\n",
    "            polygon = mpatches.PathPatch(newpath)\n",
    "            inside.append(newpath.contains_points(points,radius=0.025))\n",
    "    index = np.any(np.vstack(inside).T,axis=1)\n",
    "    return points[~index,:]\n",
    "\n",
    "def plot_tiles(pts,sparse_arr,e):\n",
    "    a = 1\n",
    "    w = World.get_from_parameters_names('hexagonal','canonical',e.occlusions)\n",
    "    \n",
    "    # display\n",
    "    fig,ax = plt.subplots(1,2,figsize=(10,5))\n",
    "    d = Display(w, fig_size=(5,5), padding=0, cell_edge_color=\"lightgrey\",ax=ax[0])\n",
    "    ax[0].scatter(pts[:,0],pts[:,1],5,'g',alpha = a)\n",
    "    ax[0].scatter(sparse_arr[:,0],sparse_arr[:,1],20,'m')\n",
    "\n",
    "    Display(w, fig_size=(5,5), padding=0, cell_edge_color=\"lightgrey\",ax=ax[1])\n",
    "    ax[1].scatter(pts[:,0],pts[:,1],5,'g',alpha = a)\n",
    "    ax[1].scatter(sparse_arr[:,0],sparse_arr[:,1],20,'m')\n",
    "    ax[1].set_xlim((.25,.3))\n",
    "    ax[1].set_ylim((.25,.3))\n",
    "    return [fig,ax]\n",
    "\n",
    "def compute_visibility(src,dst,vis):\n",
    "    \"\"\"returns a visibility graph (V) and angle graph (A) between every point in\n",
    "    src and dst according to visibility object vis\"\"\"\n",
    "    m = len(src)\n",
    "    p = len(dst)\n",
    "    V = np.empty((m,p))\n",
    "    A = np.empty((m,p))\n",
    "    for i in tqdm(range(m)):\n",
    "        loci = Location(src[i,0],src[i,1])\n",
    "        for j in range(p):\n",
    "            locj = Location(dst[j,0],dst[j,1])\n",
    "            V[i,j] = vis.is_visible(loci,locj)\n",
    "            A[i,j] = to_degrees(loci.atan(locj))\n",
    "    return V,A"
   ]
  },
  {
   "cell_type": "markdown",
   "id": "683aa6a6",
   "metadata": {},
   "source": [
    "## Load and Preprocess"
   ]
  },
  {
   "cell_type": "code",
   "execution_count": 4,
   "id": "82629c4a",
   "metadata": {},
   "outputs": [
    {
     "data": {
      "text/plain": [
       "[<Figure size 720x360 with 2 Axes>,\n",
       " array([<AxesSubplot:>, <AxesSubplot:>], dtype=object)]"
      ]
     },
     "execution_count": 4,
     "metadata": {},
     "output_type": "execute_result"
    },
    {
     "data": {
      "image/png": "[encoded data removed]",
      "text/plain": [
       "<Figure size 72x72 with 1 Axes>"
      ]
     },
     "metadata": {
      "needs_background": "light"
     },
     "output_type": "display_data"
    },
    {
     "data": {
      "image/png": "[encoded data removed]",
      "text/plain": [
       "<Figure size 720x360 with 2 Axes>"
      ]
     },
     "metadata": {
      "needs_background": "light"
     },
     "output_type": "display_data"
    },
    {
     "data": {
      "text/plain": [
       "<Figure size 360x360 with 0 Axes>"
      ]
     },
     "metadata": {},
     "output_type": "display_data"
    },
    {
     "data": {
      "text/plain": [
       "<Figure size 360x360 with 0 Axes>"
      ]
     },
     "metadata": {},
     "output_type": "display_data"
    }
   ],
   "source": [
    "e = Experiment.load_from_file('./MICE_20220608_1557_DMM3_21_05_SR5_experiment.json')\n",
    "vis,w = get_vis(e)\n",
    "sparse_arr = get_vertices(e)\n",
    "n = 1000\n",
    "pts = get_tiles(n,e)\n",
    "plot_tiles(pts,sparse_arr,e)"
   ]
  },
  {
   "cell_type": "markdown",
   "id": "8f9f3568",
   "metadata": {},
   "source": [
    "## Compute visibility graph\n",
    "Between tile locations and vertices"
   ]
  },
  {
   "cell_type": "code",
   "execution_count": 5,
   "id": "79589def",
   "metadata": {},
   "outputs": [
    {
     "name": "stdout",
     "output_type": "stream",
     "text": [
      "Loading visibility graph visibility-21_05-1000.pkl...\n"
     ]
    }
   ],
   "source": [
    "filename = f'visibility-{e.occlusions}-{n}.pkl'\n",
    "filepath = f'./{filename}'\n",
    "\n",
    "if not glob.glob(filepath):\n",
    "    print(f'Computing visibility graph using {n}x{n} resolution...')\n",
    "    V,A = compute_visibility(pts,sparse_arr,vis)\n",
    "    print(f'Saving visibility graph {filename}...')\n",
    "    pickle.dump([A,V,pts,sparse_arr],open(filepath,'wb'))\n",
    "    \n",
    "else:\n",
    "    print(f'Loading visibility graph {filename}...')\n",
    "    [A,V,pts,sparse_arr] = pickle.load(open(filepath,'rb'))\n",
    "    \n",
    "vis_graph = {'V':V,'A':A,'src':pts,'dst':sparse_arr}"
   ]
  },
  {
   "cell_type": "markdown",
   "id": "2ce7975b",
   "metadata": {},
   "source": [
    "## Test ITOR\n",
    "1. plot tiles\n",
    "2. simulate head and tail pose\n",
    "3. get nearest tile points\n",
    "\n",
    "First define some functions:"
   ]
  },
  {
   "cell_type": "code",
   "execution_count": 6,
   "id": "d7bf5704",
   "metadata": {},
   "outputs": [],
   "source": [
    "def get_closest_tile(loc,vis_graph):\n",
    "    \"\"\"Get closest tile location to given location.\"\"\"\n",
    "    idx = cdist(loc.reshape(1,-1),vis_graph['src']).argmin()\n",
    "    return vis_graph['src'][idx,:],idx\n",
    "\n",
    "def get_fov_points(head_pt,head_angle,vis_graph,fov = np.rad2deg(1.74533)):\n",
    "    \"\"\"Get tiles within the FOV.\"\"\"\n",
    "    _,idx = get_closest_tile(head_pt,vis_graph)\n",
    "    tA = np.deg2rad(vis_graph['A'][idx,:])\n",
    "    sA = np.deg2rad(head_angle)\n",
    "    a = np.min(np.concatenate(((2 * np.pi) - np.abs(tA - sA).reshape(-1,1),\n",
    "                               np.abs(tA - sA).reshape(-1,1)),axis=1),axis=1)\n",
    "    return (np.abs(np.rad2deg(a)) < fov)\n",
    "\n",
    "def get_visibility(loc,vis_graph):\n",
    "    \"\"\"Returns which points are visible from the provided location\"\"\"\n",
    "    pt,idx = get_closest_tile(loc,vis_graph)\n",
    "    return (vis_graph['V'][idx,:]==1),pt\n",
    "    \n",
    "\n",
    "def compute_itor(pose,head_angle,vis_graph,head_parts=['head_base'],body_parts=['body_mid'],fov = np.rad2deg(1.74533)):\n",
    "    \"\"\"Returns ITOR value and various visible points in the environment based on\n",
    "    pose, head angle, FOV\"\"\"\n",
    "    # get closest tiles for each part:\n",
    "    v = []\n",
    "    ppoints = []\n",
    "    for p in pose:\n",
    "        vis,pt = get_visibility(np.array(pose[p]),vis_graph)\n",
    "        v.append(vis)\n",
    "        ppoints.append(pt)\n",
    "    v = np.vstack(v)\n",
    "    ppoints = np.vstack(ppoints)\n",
    "    \n",
    "    # get head and body parts\n",
    "    head_ind = [i for i in range(len(list(pose.keys()))) if list(pose.keys())[i] in head_parts]\n",
    "    body_ind = [i for i in range(len(list(pose.keys()))) if list(pose.keys())[i] in body_parts]\n",
    "    \n",
    "    # get points in the FOV\n",
    "    fov_verts = get_fov_points(ppoints[head_ind,:],head_angle,vis_graph,fov)\n",
    "    \n",
    "    # which vertices that are visible to the head:\n",
    "    vis_verts = np.any(v[head_ind,:],axis=0) & fov_verts\n",
    "    \n",
    "    # of FOV visible vertices, which ones are visible to the body:\n",
    "    body_verts = np.any(v[body_ind,:],axis=0) & vis_verts\n",
    "    \n",
    "    # compute ITOR as 1-(visible_to_body/visible_to_head)\n",
    "    ITOR = 1 - np.sum(body_verts)/np.sum(vis_verts)\n",
    "    \n",
    "    return {'ITOR':ITOR, \n",
    "            'vis_omni': np.any(v[head_ind,:],axis=0),\n",
    "            'vis_head': vis_verts,\n",
    "            'vis_body': body_verts,\n",
    "            'head_parts': head_parts,\n",
    "            'head_idx': head_ind,\n",
    "            'body_parts': body_parts,\n",
    "            'body_idx': body_ind,\n",
    "            'pose_points': ppoints,\n",
    "            'head_angle': head_angle}\n",
    "\n",
    "    \n",
    "    \n",
    "    "
   ]
  },
  {
   "cell_type": "markdown",
   "id": "86cf3233",
   "metadata": {},
   "source": [
    "# ITOR SIMULATOR"
   ]
  },
  {
   "cell_type": "code",
   "execution_count": 7,
   "id": "864230ec",
   "metadata": {},
   "outputs": [
    {
     "name": "stdout",
     "output_type": "stream",
     "text": [
      "310.0\n"
     ]
    },
    {
     "data": {
      "image/png": "[encoded data removed]",
      "text/plain": [
       "<Figure size 504x360 with 1 Axes>"
      ]
     },
     "metadata": {
      "needs_background": "light"
     },
     "output_type": "display_data"
    }
   ],
   "source": [
    "def plot_itor(I,vis_graph,w,ax,fig):\n",
    "    # plot the world\n",
    "    d = Display(w, fig_size=(7,9), padding=0, cell_edge_color=\"lightgrey\",ax=ax,fig=fig)\n",
    "    # plot the pose used to compute ITOR\n",
    "    ppts = np.vstack(I['pose_points'])\n",
    "    h0 = ax.arrow(ppts[I['head_idx'],0][0],ppts[I['head_idx'],1][0],\n",
    "                  np.cos(np.deg2rad(90-I['head_angle']))*.025,\n",
    "                  np.sin(np.deg2rad(90-I['head_angle']))*.025,head_width=.01,zorder=4)\n",
    "    h1, = ax.plot(ppts[:,0],ppts[:,1],'grey',marker='.')\n",
    "    h2, = ax.plot(ppts[I['head_idx'],0],\n",
    "                  ppts[I['head_idx'],1],'m',marker='*',zorder=3)\n",
    "    h3, = ax.plot(ppts[I['body_idx'],0],\n",
    "                  ppts[I['body_idx'],1],'c',marker='*',zorder=3)\n",
    "    h4, = ax.plot(vis_graph['dst'][I['vis_omni'],0],\n",
    "                  vis_graph['dst'][I['vis_omni'],1],'g.',alpha=0.25)\n",
    "    h5, = ax.plot(vis_graph['dst'][I['vis_head'],0],\n",
    "                  vis_graph['dst'][I['vis_head'],1],'g.')\n",
    "    h6, = ax.plot(vis_graph['dst'][I['vis_body'],0],\n",
    "                  vis_graph['dst'][I['vis_body'],1],'ro',fillstyle='none')\n",
    "    h7 = ax.text(0.02,0.1,f'ITOR={np.round(I[\"ITOR\"],3)}')\n",
    "    \n",
    "    return h0,h1,h2,h3,h4,h5,h6,h7\n",
    "\n",
    "def update_plot_itor(I,vis_graph):\n",
    "    # get pose\n",
    "    ppts = np.vstack(I['pose_points'])\n",
    "    # plot\n",
    "    global h0\n",
    "    h0.remove()\n",
    "    h0 = ax.arrow(ppts[I['head_idx'],0][0],ppts[I['head_idx'],1][0],\n",
    "                  np.cos(np.deg2rad(90-I['head_angle']))*.025,\n",
    "                  np.sin(np.deg2rad(90-I['head_angle']))*.025,head_width=.01,zorder=4)\n",
    "    h1.set_xdata(ppts[:,0])\n",
    "    h1.set_ydata(ppts[:,1])\n",
    "    h2.set_xdata(ppts[I['head_idx'],0])\n",
    "    h2.set_ydata(ppts[I['head_idx'],1])\n",
    "    h3.set_xdata(ppts[I['body_idx'],0])\n",
    "    h3.set_ydata(ppts[I['body_idx'],1])\n",
    "    h4.set_xdata(vis_graph['dst'][I['vis_omni'],0])\n",
    "    h4.set_ydata(vis_graph['dst'][I['vis_omni'],1])\n",
    "    h5.set_xdata(vis_graph['dst'][I['vis_head'],0])\n",
    "    h5.set_ydata(vis_graph['dst'][I['vis_head'],1])\n",
    "    h6.set_xdata(vis_graph['dst'][I['vis_body'],0])\n",
    "    h6.set_ydata(vis_graph['dst'][I['vis_body'],1])\n",
    "    h7.set_text(f'ITOR={np.round(I[\"ITOR\"],3)}')\n",
    "    fig.canvas.draw()\n",
    "    fig.canvas.draw_idle()\n",
    "                      \n",
    "def update_sim_pose(head_x=0.55,head_y=0.12,body_angle=180,head_angle=45,fov=np.rad2deg(1.74533)):\n",
    "    pose = {'head_base':[head_x,head_y],\n",
    "            'body_mid':[head_x+np.cos(np.deg2rad(body_angle))*0.03,\n",
    "                        head_y+np.sin(np.deg2rad(body_angle))*0.03]}\n",
    "    return pose,head_angle,fov\n",
    "                      \n",
    "    \n",
    "\n",
    "# body update\n",
    "# fov=np.rad2deg(1.74533)\n",
    "fov = 310.0\n",
    "pose,head_angle,fov = update_sim_pose(fov=fov)\n",
    "print(fov)\n",
    "\n",
    "# compute ITOR\n",
    "I = compute_itor(pose,head_angle,vis_graph,fov=fov)\n",
    "\n",
    "# plot\n",
    "fig,ax = plt.subplots(1,1,figsize=(7,5))\n",
    "h0,h1,h2,h3,h4,h5,h6,h7 = plot_itor(I,vis_graph,w,ax,fig)"
   ]
  },
  {
   "cell_type": "code",
   "execution_count": 8,
   "id": "9a3d77ca",
   "metadata": {},
   "outputs": [
    {
     "data": {
      "application/javascript": [
       "/* Put everything inside the global mpl namespace */\n",
       "/* global mpl */\n",
       "window.mpl = {};\n",
       "\n",
       "mpl.get_websocket_type = function () {\n",
       "    if (typeof WebSocket !== 'undefined') {\n",
       "        return WebSocket;\n",
       "    } else if (typeof MozWebSocket !== 'undefined') {\n",
       "        return MozWebSocket;\n",
       "    } else {\n",
       "        alert(\n",
       "            'Your browser does not have WebSocket support. ' +\n",
       "                'Please try Chrome, Safari or Firefox ≥ 6. ' +\n",
       "                'Firefox 4 and 5 are also supported but you ' +\n",
       "                'have to enable WebSockets in about:config.'\n",
       "        );\n",
       "    }\n",
       "};\n",
       "\n",
       "mpl.figure = function (figure_id, websocket, ondownload, parent_element) {\n",
       "    this.id = figure_id;\n",
       "\n",
       "    this.ws = websocket;\n",
       "\n",
       "    this.supports_binary = this.ws.binaryType !== undefined;\n",
       "\n",
       "    if (!this.supports_binary) {\n",
       "        var warnings = document.getElementById('mpl-warnings');\n",
       "        if (warnings) {\n",
       "            warnings.style.display = 'block';\n",
       "            warnings.textContent =\n",
       "                'This browser does not support binary websocket messages. ' +\n",
       "                'Performance may be slow.';\n",
       "        }\n",
       "    }\n",
       "\n",
       "    this.imageObj = new Image();\n",
       "\n",
       "    this.context = undefined;\n",
       "    this.message = undefined;\n",
       "    this.canvas = undefined;\n",
       "    this.rubberband_canvas = undefined;\n",
       "    this.rubberband_context = undefined;\n",
       "    this.format_dropdown = undefined;\n",
       "\n",
       "    this.image_mode = 'full';\n",
       "\n",
       "    this.root = document.createElement('div');\n",
       "    this.root.setAttribute('style', 'display: inline-block');\n",
       "    this._root_extra_style(this.root);\n",
       "\n",
       "    parent_element.appendChild(this.root);\n",
       "\n",
       "    this._init_header(this);\n",
       "    this._init_canvas(this);\n",
       "    this._init_toolbar(this);\n",
       "\n",
       "    var fig = this;\n",
       "\n",
       "    this.waiting = false;\n",
       "\n",
       "    this.ws.onopen = function () {\n",
       "        fig.send_message('supports_binary', { value: fig.supports_binary });\n",
       "        fig.send_message('send_image_mode', {});\n",
       "        if (fig.ratio !== 1) {\n",
       "            fig.send_message('set_device_pixel_ratio', {\n",
       "                device_pixel_ratio: fig.ratio,\n",
       "            });\n",
       "        }\n",
       "        fig.send_message('refresh', {});\n",
       "    };\n",
       "\n",
       "    this.imageObj.onload = function () {\n",
       "        if (fig.image_mode === 'full') {\n",
       "            // Full images could contain transparency (where diff images\n",
       "            // almost always do), so we need to clear the canvas so that\n",
       "            // there is no ghosting.\n",
       "            fig.context.clearRect(0, 0, fig.canvas.width, fig.canvas.height);\n",
       "        }\n",
       "        fig.context.drawImage(fig.imageObj, 0, 0);\n",
       "    };\n",
       "\n",
       "    this.imageObj.onunload = function () {\n",
       "        fig.ws.close();\n",
       "    };\n",
       "\n",
       "    this.ws.onmessage = this._make_on_message_function(this);\n",
       "\n",
       "    this.ondownload = ondownload;\n",
       "};\n",
       "\n",
       "mpl.figure.prototype._init_header = function () {\n",
       "    var titlebar = document.createElement('div');\n",
       "    titlebar.classList =\n",
       "        'ui-dialog-titlebar ui-widget-header ui-corner-all ui-helper-clearfix';\n",
       "    var titletext = document.createElement('div');\n",
       "    titletext.classList = 'ui-dialog-title';\n",
       "    titletext.setAttribute(\n",
       "        'style',\n",
       "        'width: 100%; text-align: center; padding: 3px;'\n",
       "    );\n",
       "    titlebar.appendChild(titletext);\n",
       "    this.root.appendChild(titlebar);\n",
       "    this.header = titletext;\n",
       "};\n",
       "\n",
       "mpl.figure.prototype._canvas_extra_style = function (_canvas_div) {};\n",
       "\n",
       "mpl.figure.prototype._root_extra_style = function (_canvas_div) {};\n",
       "\n",
       "mpl.figure.prototype._init_canvas = function () {\n",
       "    var fig = this;\n",
       "\n",
       "    var canvas_div = (this.canvas_div = document.createElement('div'));\n",
       "    canvas_div.setAttribute(\n",
       "        'style',\n",
       "        'border: 1px solid #ddd;' +\n",
       "            'box-sizing: content-box;' +\n",
       "            'clear: both;' +\n",
       "            'min-height: 1px;' +\n",
       "            'min-width: 1px;' +\n",
       "            'outline: 0;' +\n",
       "            'overflow: hidden;' +\n",
       "            'position: relative;' +\n",
       "            'resize: both;'\n",
       "    );\n",
       "\n",
       "    function on_keyboard_event_closure(name) {\n",
       "        return function (event) {\n",
       "            return fig.key_event(event, name);\n",
       "        };\n",
       "    }\n",
       "\n",
       "    canvas_div.addEventListener(\n",
       "        'keydown',\n",
       "        on_keyboard_event_closure('key_press')\n",
       "    );\n",
       "    canvas_div.addEventListener(\n",
       "        'keyup',\n",
       "        on_keyboard_event_closure('key_release')\n",
       "    );\n",
       "\n",
       "    this._canvas_extra_style(canvas_div);\n",
       "    this.root.appendChild(canvas_div);\n",
       "\n",
       "    var canvas = (this.canvas = document.createElement('canvas'));\n",
       "    canvas.classList.add('mpl-canvas');\n",
       "    canvas.setAttribute('style', 'box-sizing: content-box;');\n",
       "\n",
       "    this.context = canvas.getContext('2d');\n",
       "\n",
       "    var backingStore =\n",
       "        this.context.backingStorePixelRatio ||\n",
       "        this.context.webkitBackingStorePixelRatio ||\n",
       "        this.context.mozBackingStorePixelRatio ||\n",
       "        this.context.msBackingStorePixelRatio ||\n",
       "        this.context.oBackingStorePixelRatio ||\n",
       "        this.context.backingStorePixelRatio ||\n",
       "        1;\n",
       "\n",
       "    this.ratio = (window.devicePixelRatio || 1) / backingStore;\n",
       "\n",
       "    var rubberband_canvas = (this.rubberband_canvas = document.createElement(\n",
       "        'canvas'\n",
       "    ));\n",
       "    rubberband_canvas.setAttribute(\n",
       "        'style',\n",
       "        'box-sizing: content-box; position: absolute; left: 0; top: 0; z-index: 1;'\n",
       "    );\n",
       "\n",
       "    // Apply a ponyfill if ResizeObserver is not implemented by browser.\n",
       "    if (this.ResizeObserver === undefined) {\n",
       "        if (window.ResizeObserver !== undefined) {\n",
       "            this.ResizeObserver = window.ResizeObserver;\n",
       "        } else {\n",
       "            var obs = _JSXTOOLS_RESIZE_OBSERVER({});\n",
       "            this.ResizeObserver = obs.ResizeObserver;\n",
       "        }\n",
       "    }\n",
       "\n",
       "    this.resizeObserverInstance = new this.ResizeObserver(function (entries) {\n",
       "        var nentries = entries.length;\n",
       "        for (var i = 0; i < nentries; i++) {\n",
       "            var entry = entries[i];\n",
       "            var width, height;\n",
       "            if (entry.contentBoxSize) {\n",
       "                if (entry.contentBoxSize instanceof Array) {\n",
       "                    // Chrome 84 implements new version of spec.\n",
       "                    width = entry.contentBoxSize[0].inlineSize;\n",
       "                    height = entry.contentBoxSize[0].blockSize;\n",
       "                } else {\n",
       "                    // Firefox implements old version of spec.\n",
       "                    width = entry.contentBoxSize.inlineSize;\n",
       "                    height = entry.contentBoxSize.blockSize;\n",
       "                }\n",
       "            } else {\n",
       "                // Chrome <84 implements even older version of spec.\n",
       "                width = entry.contentRect.width;\n",
       "                height = entry.contentRect.height;\n",
       "            }\n",
       "\n",
       "            // Keep the size of the canvas and rubber band canvas in sync with\n",
       "            // the canvas container.\n",
       "            if (entry.devicePixelContentBoxSize) {\n",
       "                // Chrome 84 implements new version of spec.\n",
       "                canvas.setAttribute(\n",
       "                    'width',\n",
       "                    entry.devicePixelContentBoxSize[0].inlineSize\n",
       "                );\n",
       "                canvas.setAttribute(\n",
       "                    'height',\n",
       "                    entry.devicePixelContentBoxSize[0].blockSize\n",
       "                );\n",
       "            } else {\n",
       "                canvas.setAttribute('width', width * fig.ratio);\n",
       "                canvas.setAttribute('height', height * fig.ratio);\n",
       "            }\n",
       "            canvas.setAttribute(\n",
       "                'style',\n",
       "                'width: ' + width + 'px; height: ' + height + 'px;'\n",
       "            );\n",
       "\n",
       "            rubberband_canvas.setAttribute('width', width);\n",
       "            rubberband_canvas.setAttribute('height', height);\n",
       "\n",
       "            // And update the size in Python. We ignore the initial 0/0 size\n",
       "            // that occurs as the element is placed into the DOM, which should\n",
       "            // otherwise not happen due to the minimum size styling.\n",
       "            if (fig.ws.readyState == 1 && width != 0 && height != 0) {\n",
       "                fig.request_resize(width, height);\n",
       "            }\n",
       "        }\n",
       "    });\n",
       "    this.resizeObserverInstance.observe(canvas_div);\n",
       "\n",
       "    function on_mouse_event_closure(name) {\n",
       "        return function (event) {\n",
       "            return fig.mouse_event(event, name);\n",
       "        };\n",
       "    }\n",
       "\n",
       "    rubberband_canvas.addEventListener(\n",
       "        'mousedown',\n",
       "        on_mouse_event_closure('button_press')\n",
       "    );\n",
       "    rubberband_canvas.addEventListener(\n",
       "        'mouseup',\n",
       "        on_mouse_event_closure('button_release')\n",
       "    );\n",
       "    rubberband_canvas.addEventListener(\n",
       "        'dblclick',\n",
       "        on_mouse_event_closure('dblclick')\n",
       "    );\n",
       "    // Throttle sequential mouse events to 1 every 20ms.\n",
       "    rubberband_canvas.addEventListener(\n",
       "        'mousemove',\n",
       "        on_mouse_event_closure('motion_notify')\n",
       "    );\n",
       "\n",
       "    rubberband_canvas.addEventListener(\n",
       "        'mouseenter',\n",
       "        on_mouse_event_closure('figure_enter')\n",
       "    );\n",
       "    rubberband_canvas.addEventListener(\n",
       "        'mouseleave',\n",
       "        on_mouse_event_closure('figure_leave')\n",
       "    );\n",
       "\n",
       "    canvas_div.addEventListener('wheel', function (event) {\n",
       "        if (event.deltaY < 0) {\n",
       "            event.step = 1;\n",
       "        } else {\n",
       "            event.step = -1;\n",
       "        }\n",
       "        on_mouse_event_closure('scroll')(event);\n",
       "    });\n",
       "\n",
       "    canvas_div.appendChild(canvas);\n",
       "    canvas_div.appendChild(rubberband_canvas);\n",
       "\n",
       "    this.rubberband_context = rubberband_canvas.getContext('2d');\n",
       "    this.rubberband_context.strokeStyle = '#000000';\n",
       "\n",
       "    this._resize_canvas = function (width, height, forward) {\n",
       "        if (forward) {\n",
       "            canvas_div.style.width = width + 'px';\n",
       "            canvas_div.style.height = height + 'px';\n",
       "        }\n",
       "    };\n",
       "\n",
       "    // Disable right mouse context menu.\n",
       "    this.rubberband_canvas.addEventListener('contextmenu', function (_e) {\n",
       "        event.preventDefault();\n",
       "        return false;\n",
       "    });\n",
       "\n",
       "    function set_focus() {\n",
       "        canvas.focus();\n",
       "        canvas_div.focus();\n",
       "    }\n",
       "\n",
       "    window.setTimeout(set_focus, 100);\n",
       "};\n",
       "\n",
       "mpl.figure.prototype._init_toolbar = function () {\n",
       "    var fig = this;\n",
       "\n",
       "    var toolbar = document.createElement('div');\n",
       "    toolbar.classList = 'mpl-toolbar';\n",
       "    this.root.appendChild(toolbar);\n",
       "\n",
       "    function on_click_closure(name) {\n",
       "        return function (_event) {\n",
       "            return fig.toolbar_button_onclick(name);\n",
       "        };\n",
       "    }\n",
       "\n",
       "    function on_mouseover_closure(tooltip) {\n",
       "        return function (event) {\n",
       "            if (!event.currentTarget.disabled) {\n",
       "                return fig.toolbar_button_onmouseover(tooltip);\n",
       "            }\n",
       "        };\n",
       "    }\n",
       "\n",
       "    fig.buttons = {};\n",
       "    var buttonGroup = document.createElement('div');\n",
       "    buttonGroup.classList = 'mpl-button-group';\n",
       "    for (var toolbar_ind in mpl.toolbar_items) {\n",
       "        var name = mpl.toolbar_items[toolbar_ind][0];\n",
       "        var tooltip = mpl.toolbar_items[toolbar_ind][1];\n",
       "        var image = mpl.toolbar_items[toolbar_ind][2];\n",
       "        var method_name = mpl.toolbar_items[toolbar_ind][3];\n",
       "\n",
       "        if (!name) {\n",
       "            /* Instead of a spacer, we start a new button group. */\n",
       "            if (buttonGroup.hasChildNodes()) {\n",
       "                toolbar.appendChild(buttonGroup);\n",
       "            }\n",
       "            buttonGroup = document.createElement('div');\n",
       "            buttonGroup.classList = 'mpl-button-group';\n",
       "            continue;\n",
       "        }\n",
       "\n",
       "        var button = (fig.buttons[name] = document.createElement('button'));\n",
       "        button.classList = 'mpl-widget';\n",
       "        button.setAttribute('role', 'button');\n",
       "        button.setAttribute('aria-disabled', 'false');\n",
       "        button.addEventListener('click', on_click_closure(method_name));\n",
       "        button.addEventListener('mouseover', on_mouseover_closure(tooltip));\n",
       "\n",
       "        var icon_img = document.createElement('img');\n",
       "        icon_img.src = '_images/' + image + '.png';\n",
       "        icon_img.srcset = '_images/' + image + '_large.png 2x';\n",
       "        icon_img.alt = tooltip;\n",
       "        button.appendChild(icon_img);\n",
       "\n",
       "        buttonGroup.appendChild(button);\n",
       "    }\n",
       "\n",
       "    if (buttonGroup.hasChildNodes()) {\n",
       "        toolbar.appendChild(buttonGroup);\n",
       "    }\n",
       "\n",
       "    var fmt_picker = document.createElement('select');\n",
       "    fmt_picker.classList = 'mpl-widget';\n",
       "    toolbar.appendChild(fmt_picker);\n",
       "    this.format_dropdown = fmt_picker;\n",
       "\n",
       "    for (var ind in mpl.extensions) {\n",
       "        var fmt = mpl.extensions[ind];\n",
       "        var option = document.createElement('option');\n",
       "        option.selected = fmt === mpl.default_extension;\n",
       "        option.innerHTML = fmt;\n",
       "        fmt_picker.appendChild(option);\n",
       "    }\n",
       "\n",
       "    var status_bar = document.createElement('span');\n",
       "    status_bar.classList = 'mpl-message';\n",
       "    toolbar.appendChild(status_bar);\n",
       "    this.message = status_bar;\n",
       "};\n",
       "\n",
       "mpl.figure.prototype.request_resize = function (x_pixels, y_pixels) {\n",
       "    // Request matplotlib to resize the figure. Matplotlib will then trigger a resize in the client,\n",
       "    // which will in turn request a refresh of the image.\n",
       "    this.send_message('resize', { width: x_pixels, height: y_pixels });\n",
       "};\n",
       "\n",
       "mpl.figure.prototype.send_message = function (type, properties) {\n",
       "    properties['type'] = type;\n",
       "    properties['figure_id'] = this.id;\n",
       "    this.ws.send(JSON.stringify(properties));\n",
       "};\n",
       "\n",
       "mpl.figure.prototype.send_draw_message = function () {\n",
       "    if (!this.waiting) {\n",
       "        this.waiting = true;\n",
       "        this.ws.send(JSON.stringify({ type: 'draw', figure_id: this.id }));\n",
       "    }\n",
       "};\n",
       "\n",
       "mpl.figure.prototype.handle_save = function (fig, _msg) {\n",
       "    var format_dropdown = fig.format_dropdown;\n",
       "    var format = format_dropdown.options[format_dropdown.selectedIndex].value;\n",
       "    fig.ondownload(fig, format);\n",
       "};\n",
       "\n",
       "mpl.figure.prototype.handle_resize = function (fig, msg) {\n",
       "    var size = msg['size'];\n",
       "    if (size[0] !== fig.canvas.width || size[1] !== fig.canvas.height) {\n",
       "        fig._resize_canvas(size[0], size[1], msg['forward']);\n",
       "        fig.send_message('refresh', {});\n",
       "    }\n",
       "};\n",
       "\n",
       "mpl.figure.prototype.handle_rubberband = function (fig, msg) {\n",
       "    var x0 = msg['x0'] / fig.ratio;\n",
       "    var y0 = (fig.canvas.height - msg['y0']) / fig.ratio;\n",
       "    var x1 = msg['x1'] / fig.ratio;\n",
       "    var y1 = (fig.canvas.height - msg['y1']) / fig.ratio;\n",
       "    x0 = Math.floor(x0) + 0.5;\n",
       "    y0 = Math.floor(y0) + 0.5;\n",
       "    x1 = Math.floor(x1) + 0.5;\n",
       "    y1 = Math.floor(y1) + 0.5;\n",
       "    var min_x = Math.min(x0, x1);\n",
       "    var min_y = Math.min(y0, y1);\n",
       "    var width = Math.abs(x1 - x0);\n",
       "    var height = Math.abs(y1 - y0);\n",
       "\n",
       "    fig.rubberband_context.clearRect(\n",
       "        0,\n",
       "        0,\n",
       "        fig.canvas.width / fig.ratio,\n",
       "        fig.canvas.height / fig.ratio\n",
       "    );\n",
       "\n",
       "    fig.rubberband_context.strokeRect(min_x, min_y, width, height);\n",
       "};\n",
       "\n",
       "mpl.figure.prototype.handle_figure_label = function (fig, msg) {\n",
       "    // Updates the figure title.\n",
       "    fig.header.textContent = msg['label'];\n",
       "};\n",
       "\n",
       "mpl.figure.prototype.handle_cursor = function (fig, msg) {\n",
       "    fig.rubberband_canvas.style.cursor = msg['cursor'];\n",
       "};\n",
       "\n",
       "mpl.figure.prototype.handle_message = function (fig, msg) {\n",
       "    fig.message.textContent = msg['message'];\n",
       "};\n",
       "\n",
       "mpl.figure.prototype.handle_draw = function (fig, _msg) {\n",
       "    // Request the server to send over a new figure.\n",
       "    fig.send_draw_message();\n",
       "};\n",
       "\n",
       "mpl.figure.prototype.handle_image_mode = function (fig, msg) {\n",
       "    fig.image_mode = msg['mode'];\n",
       "};\n",
       "\n",
       "mpl.figure.prototype.handle_history_buttons = function (fig, msg) {\n",
       "    for (var key in msg) {\n",
       "        if (!(key in fig.buttons)) {\n",
       "            continue;\n",
       "        }\n",
       "        fig.buttons[key].disabled = !msg[key];\n",
       "        fig.buttons[key].setAttribute('aria-disabled', !msg[key]);\n",
       "    }\n",
       "};\n",
       "\n",
       "mpl.figure.prototype.handle_navigate_mode = function (fig, msg) {\n",
       "    if (msg['mode'] === 'PAN') {\n",
       "        fig.buttons['Pan'].classList.add('active');\n",
       "        fig.buttons['Zoom'].classList.remove('active');\n",
       "    } else if (msg['mode'] === 'ZOOM') {\n",
       "        fig.buttons['Pan'].classList.remove('active');\n",
       "        fig.buttons['Zoom'].classList.add('active');\n",
       "    } else {\n",
       "        fig.buttons['Pan'].classList.remove('active');\n",
       "        fig.buttons['Zoom'].classList.remove('active');\n",
       "    }\n",
       "};\n",
       "\n",
       "mpl.figure.prototype.updated_canvas_event = function () {\n",
       "    // Called whenever the canvas gets updated.\n",
       "    this.send_message('ack', {});\n",
       "};\n",
       "\n",
       "// A function to construct a web socket function for onmessage handling.\n",
       "// Called in the figure constructor.\n",
       "mpl.figure.prototype._make_on_message_function = function (fig) {\n",
       "    return function socket_on_message(evt) {\n",
       "        if (evt.data instanceof Blob) {\n",
       "            var img = evt.data;\n",
       "            if (img.type !== 'image/png') {\n",
       "                /* FIXME: We get \"Resource interpreted as Image but\n",
       "                 * transferred with MIME type text/plain:\" errors on\n",
       "                 * Chrome.  But how to set the MIME type?  It doesn't seem\n",
       "                 * to be part of the websocket stream */\n",
       "                img.type = 'image/png';\n",
       "            }\n",
       "\n",
       "            /* Free the memory for the previous frames */\n",
       "            if (fig.imageObj.src) {\n",
       "                (window.URL || window.webkitURL).revokeObjectURL(\n",
       "                    fig.imageObj.src\n",
       "                );\n",
       "            }\n",
       "\n",
       "            fig.imageObj.src = (window.URL || window.webkitURL).createObjectURL(\n",
       "                img\n",
       "            );\n",
       "            fig.updated_canvas_event();\n",
       "            fig.waiting = false;\n",
       "            return;\n",
       "        } else if (\n",
       "            typeof evt.data === 'string' &&\n",
       "            evt.data.slice(0, 21) === 'data:image/png;base64'\n",
       "        ) {\n",
       "            fig.imageObj.src = evt.data;\n",
       "            fig.updated_canvas_event();\n",
       "            fig.waiting = false;\n",
       "            return;\n",
       "        }\n",
       "\n",
       "        var msg = JSON.parse(evt.data);\n",
       "        var msg_type = msg['type'];\n",
       "\n",
       "        // Call the  \"handle_{type}\" callback, which takes\n",
       "        // the figure and JSON message as its only arguments.\n",
       "        try {\n",
       "            var callback = fig['handle_' + msg_type];\n",
       "        } catch (e) {\n",
       "            console.log(\n",
       "                \"No handler for the '\" + msg_type + \"' message type: \",\n",
       "                msg\n",
       "            );\n",
       "            return;\n",
       "        }\n",
       "\n",
       "        if (callback) {\n",
       "            try {\n",
       "                // console.log(\"Handling '\" + msg_type + \"' message: \", msg);\n",
       "                callback(fig, msg);\n",
       "            } catch (e) {\n",
       "                console.log(\n",
       "                    \"Exception inside the 'handler_\" + msg_type + \"' callback:\",\n",
       "                    e,\n",
       "                    e.stack,\n",
       "                    msg\n",
       "                );\n",
       "            }\n",
       "        }\n",
       "    };\n",
       "};\n",
       "\n",
       "// from https://stackoverflow.com/questions/1114465/getting-mouse-location-in-canvas\n",
       "mpl.findpos = function (e) {\n",
       "    //this section is from http://www.quirksmode.org/js/events_properties.html\n",
       "    var targ;\n",
       "    if (!e) {\n",
       "        e = window.event;\n",
       "    }\n",
       "    if (e.target) {\n",
       "        targ = e.target;\n",
       "    } else if (e.srcElement) {\n",
       "        targ = e.srcElement;\n",
       "    }\n",
       "    if (targ.nodeType === 3) {\n",
       "        // defeat Safari bug\n",
       "        targ = targ.parentNode;\n",
       "    }\n",
       "\n",
       "    // pageX,Y are the mouse positions relative to the document\n",
       "    var boundingRect = targ.getBoundingClientRect();\n",
       "    var x = e.pageX - (boundingRect.left + document.body.scrollLeft);\n",
       "    var y = e.pageY - (boundingRect.top + document.body.scrollTop);\n",
       "\n",
       "    return { x: x, y: y };\n",
       "};\n",
       "\n",
       "/*\n",
       " * return a copy of an object with only non-object keys\n",
       " * we need this to avoid circular references\n",
       " * https://stackoverflow.com/a/24161582/3208463\n",
       " */\n",
       "function simpleKeys(original) {\n",
       "    return Object.keys(original).reduce(function (obj, key) {\n",
       "        if (typeof original[key] !== 'object') {\n",
       "            obj[key] = original[key];\n",
       "        }\n",
       "        return obj;\n",
       "    }, {});\n",
       "}\n",
       "\n",
       "mpl.figure.prototype.mouse_event = function (event, name) {\n",
       "    var canvas_pos = mpl.findpos(event);\n",
       "\n",
       "    if (name === 'button_press') {\n",
       "        this.canvas.focus();\n",
       "        this.canvas_div.focus();\n",
       "    }\n",
       "\n",
       "    var x = canvas_pos.x * this.ratio;\n",
       "    var y = canvas_pos.y * this.ratio;\n",
       "\n",
       "    this.send_message(name, {\n",
       "        x: x,\n",
       "        y: y,\n",
       "        button: event.button,\n",
       "        step: event.step,\n",
       "        guiEvent: simpleKeys(event),\n",
       "    });\n",
       "\n",
       "    /* This prevents the web browser from automatically changing to\n",
       "     * the text insertion cursor when the button is pressed.  We want\n",
       "     * to control all of the cursor setting manually through the\n",
       "     * 'cursor' event from matplotlib */\n",
       "    event.preventDefault();\n",
       "    return false;\n",
       "};\n",
       "\n",
       "mpl.figure.prototype._key_event_extra = function (_event, _name) {\n",
       "    // Handle any extra behaviour associated with a key event\n",
       "};\n",
       "\n",
       "mpl.figure.prototype.key_event = function (event, name) {\n",
       "    // Prevent repeat events\n",
       "    if (name === 'key_press') {\n",
       "        if (event.key === this._key) {\n",
       "            return;\n",
       "        } else {\n",
       "            this._key = event.key;\n",
       "        }\n",
       "    }\n",
       "    if (name === 'key_release') {\n",
       "        this._key = null;\n",
       "    }\n",
       "\n",
       "    var value = '';\n",
       "    if (event.ctrlKey && event.key !== 'Control') {\n",
       "        value += 'ctrl+';\n",
       "    }\n",
       "    else if (event.altKey && event.key !== 'Alt') {\n",
       "        value += 'alt+';\n",
       "    }\n",
       "    else if (event.shiftKey && event.key !== 'Shift') {\n",
       "        value += 'shift+';\n",
       "    }\n",
       "\n",
       "    value += 'k' + event.key;\n",
       "\n",
       "    this._key_event_extra(event, name);\n",
       "\n",
       "    this.send_message(name, { key: value, guiEvent: simpleKeys(event) });\n",
       "    return false;\n",
       "};\n",
       "\n",
       "mpl.figure.prototype.toolbar_button_onclick = function (name) {\n",
       "    if (name === 'download') {\n",
       "        this.handle_save(this, null);\n",
       "    } else {\n",
       "        this.send_message('toolbar_button', { name: name });\n",
       "    }\n",
       "};\n",
       "\n",
       "mpl.figure.prototype.toolbar_button_onmouseover = function (tooltip) {\n",
       "    this.message.textContent = tooltip;\n",
       "};\n",
       "\n",
       "///////////////// REMAINING CONTENT GENERATED BY embed_js.py /////////////////\n",
       "// prettier-ignore\n",
       "var _JSXTOOLS_RESIZE_OBSERVER=function(A){var t,i=new WeakMap,n=new WeakMap,a=new WeakMap,r=new WeakMap,o=new Set;function s(e){if(!(this instanceof s))throw new TypeError(\"Constructor requires 'new' operator\");i.set(this,e)}function h(){throw new TypeError(\"Function is not a constructor\")}function c(e,t,i,n){e=0 in arguments?Number(arguments[0]):0,t=1 in arguments?Number(arguments[1]):0,i=2 in arguments?Number(arguments[2]):0,n=3 in arguments?Number(arguments[3]):0,this.right=(this.x=this.left=e)+(this.width=i),this.bottom=(this.y=this.top=t)+(this.height=n),Object.freeze(this)}function d(){t=requestAnimationFrame(d);var s=new WeakMap,p=new Set;o.forEach((function(t){r.get(t).forEach((function(i){var r=t instanceof window.SVGElement,o=a.get(t),d=r?0:parseFloat(o.paddingTop),f=r?0:parseFloat(o.paddingRight),l=r?0:parseFloat(o.paddingBottom),u=r?0:parseFloat(o.paddingLeft),g=r?0:parseFloat(o.borderTopWidth),m=r?0:parseFloat(o.borderRightWidth),w=r?0:parseFloat(o.borderBottomWidth),b=u+f,F=d+l,v=(r?0:parseFloat(o.borderLeftWidth))+m,W=g+w,y=r?0:t.offsetHeight-W-t.clientHeight,E=r?0:t.offsetWidth-v-t.clientWidth,R=b+v,z=F+W,M=r?t.width:parseFloat(o.width)-R-E,O=r?t.height:parseFloat(o.height)-z-y;if(n.has(t)){var k=n.get(t);if(k[0]===M&&k[1]===O)return}n.set(t,[M,O]);var S=Object.create(h.prototype);S.target=t,S.contentRect=new c(u,d,M,O),s.has(i)||(s.set(i,[]),p.add(i)),s.get(i).push(S)}))})),p.forEach((function(e){i.get(e).call(e,s.get(e),e)}))}return s.prototype.observe=function(i){if(i instanceof window.Element){r.has(i)||(r.set(i,new Set),o.add(i),a.set(i,window.getComputedStyle(i)));var n=r.get(i);n.has(this)||n.add(this),cancelAnimationFrame(t),t=requestAnimationFrame(d)}},s.prototype.unobserve=function(i){if(i instanceof window.Element&&r.has(i)){var n=r.get(i);n.has(this)&&(n.delete(this),n.size||(r.delete(i),o.delete(i))),n.size||r.delete(i),o.size||cancelAnimationFrame(t)}},A.DOMRectReadOnly=c,A.ResizeObserver=s,A.ResizeObserverEntry=h,A}; // eslint-disable-line\n",
       "mpl.toolbar_items = [[\"Home\", \"Reset original view\", \"fa fa-home icon-home\", \"home\"], [\"Back\", \"Back to previous view\", \"fa fa-arrow-left icon-arrow-left\", \"back\"], [\"Forward\", \"Forward to next view\", \"fa fa-arrow-right icon-arrow-right\", \"forward\"], [\"\", \"\", \"\", \"\"], [\"Pan\", \"Left button pans, Right button zooms\\nx/y fixes axis, CTRL fixes aspect\", \"fa fa-arrows icon-move\", \"pan\"], [\"Zoom\", \"Zoom to rectangle\\nx/y fixes axis\", \"fa fa-square-o icon-check-empty\", \"zoom\"], [\"\", \"\", \"\", \"\"], [\"Download\", \"Download plot\", \"fa fa-floppy-o icon-save\", \"download\"]];\n",
       "\n",
       "mpl.extensions = [\"eps\", \"jpeg\", \"pgf\", \"pdf\", \"png\", \"ps\", \"raw\", \"svg\", \"tif\"];\n",
       "\n",
       "mpl.default_extension = \"png\";/* global mpl */\n",
       "\n",
       "var comm_websocket_adapter = function (comm) {\n",
       "    // Create a \"websocket\"-like object which calls the given IPython comm\n",
       "    // object with the appropriate methods. Currently this is a non binary\n",
       "    // socket, so there is still some room for performance tuning.\n",
       "    var ws = {};\n",
       "\n",
       "    ws.binaryType = comm.kernel.ws.binaryType;\n",
       "    ws.readyState = comm.kernel.ws.readyState;\n",
       "    function updateReadyState(_event) {\n",
       "        if (comm.kernel.ws) {\n",
       "            ws.readyState = comm.kernel.ws.readyState;\n",
       "        } else {\n",
       "            ws.readyState = 3; // Closed state.\n",
       "        }\n",
       "    }\n",
       "    comm.kernel.ws.addEventListener('open', updateReadyState);\n",
       "    comm.kernel.ws.addEventListener('close', updateReadyState);\n",
       "    comm.kernel.ws.addEventListener('error', updateReadyState);\n",
       "\n",
       "    ws.close = function () {\n",
       "        comm.close();\n",
       "    };\n",
       "    ws.send = function (m) {\n",
       "        //console.log('sending', m);\n",
       "        comm.send(m);\n",
       "    };\n",
       "    // Register the callback with on_msg.\n",
       "    comm.on_msg(function (msg) {\n",
       "        //console.log('receiving', msg['content']['data'], msg);\n",
       "        var data = msg['content']['data'];\n",
       "        if (data['blob'] !== undefined) {\n",
       "            data = {\n",
       "                data: new Blob(msg['buffers'], { type: data['blob'] }),\n",
       "            };\n",
       "        }\n",
       "        // Pass the mpl event to the overridden (by mpl) onmessage function.\n",
       "        ws.onmessage(data);\n",
       "    });\n",
       "    return ws;\n",
       "};\n",
       "\n",
       "mpl.mpl_figure_comm = function (comm, msg) {\n",
       "    // This is the function which gets called when the mpl process\n",
       "    // starts-up an IPython Comm through the \"matplotlib\" channel.\n",
       "\n",
       "    var id = msg.content.data.id;\n",
       "    // Get hold of the div created by the display call when the Comm\n",
       "    // socket was opened in Python.\n",
       "    var element = document.getElementById(id);\n",
       "    var ws_proxy = comm_websocket_adapter(comm);\n",
       "\n",
       "    function ondownload(figure, _format) {\n",
       "        window.open(figure.canvas.toDataURL());\n",
       "    }\n",
       "\n",
       "    var fig = new mpl.figure(id, ws_proxy, ondownload, element);\n",
       "\n",
       "    // Call onopen now - mpl needs it, as it is assuming we've passed it a real\n",
       "    // web socket which is closed, not our websocket->open comm proxy.\n",
       "    ws_proxy.onopen();\n",
       "\n",
       "    fig.parent_element = element;\n",
       "    fig.cell_info = mpl.find_output_cell(\"<div id='\" + id + \"'></div>\");\n",
       "    if (!fig.cell_info) {\n",
       "        console.error('Failed to find cell for figure', id, fig);\n",
       "        return;\n",
       "    }\n",
       "    fig.cell_info[0].output_area.element.on(\n",
       "        'cleared',\n",
       "        { fig: fig },\n",
       "        fig._remove_fig_handler\n",
       "    );\n",
       "};\n",
       "\n",
       "mpl.figure.prototype.handle_close = function (fig, msg) {\n",
       "    var width = fig.canvas.width / fig.ratio;\n",
       "    fig.cell_info[0].output_area.element.off(\n",
       "        'cleared',\n",
       "        fig._remove_fig_handler\n",
       "    );\n",
       "    fig.resizeObserverInstance.unobserve(fig.canvas_div);\n",
       "\n",
       "    // Update the output cell to use the data from the current canvas.\n",
       "    fig.push_to_output();\n",
       "    var dataURL = fig.canvas.toDataURL();\n",
       "    // Re-enable the keyboard manager in IPython - without this line, in FF,\n",
       "    // the notebook keyboard shortcuts fail.\n",
       "    IPython.keyboard_manager.enable();\n",
       "    fig.parent_element.innerHTML =\n",
       "        '<img src=\"' + dataURL + '\" width=\"' + width + '\">';\n",
       "    fig.close_ws(fig, msg);\n",
       "};\n",
       "\n",
       "mpl.figure.prototype.close_ws = function (fig, msg) {\n",
       "    fig.send_message('closing', msg);\n",
       "    // fig.ws.close()\n",
       "};\n",
       "\n",
       "mpl.figure.prototype.push_to_output = function (_remove_interactive) {\n",
       "    // Turn the data on the canvas into data in the output cell.\n",
       "    var width = this.canvas.width / this.ratio;\n",
       "    var dataURL = this.canvas.toDataURL();\n",
       "    this.cell_info[1]['text/html'] =\n",
       "        '<img src=\"' + dataURL + '\" width=\"' + width + '\">';\n",
       "};\n",
       "\n",
       "mpl.figure.prototype.updated_canvas_event = function () {\n",
       "    // Tell IPython that the notebook contents must change.\n",
       "    IPython.notebook.set_dirty(true);\n",
       "    this.send_message('ack', {});\n",
       "    var fig = this;\n",
       "    // Wait a second, then push the new image to the DOM so\n",
       "    // that it is saved nicely (might be nice to debounce this).\n",
       "    setTimeout(function () {\n",
       "        fig.push_to_output();\n",
       "    }, 1000);\n",
       "};\n",
       "\n",
       "mpl.figure.prototype._init_toolbar = function () {\n",
       "    var fig = this;\n",
       "\n",
       "    var toolbar = document.createElement('div');\n",
       "    toolbar.classList = 'btn-toolbar';\n",
       "    this.root.appendChild(toolbar);\n",
       "\n",
       "    function on_click_closure(name) {\n",
       "        return function (_event) {\n",
       "            return fig.toolbar_button_onclick(name);\n",
       "        };\n",
       "    }\n",
       "\n",
       "    function on_mouseover_closure(tooltip) {\n",
       "        return function (event) {\n",
       "            if (!event.currentTarget.disabled) {\n",
       "                return fig.toolbar_button_onmouseover(tooltip);\n",
       "            }\n",
       "        };\n",
       "    }\n",
       "\n",
       "    fig.buttons = {};\n",
       "    var buttonGroup = document.createElement('div');\n",
       "    buttonGroup.classList = 'btn-group';\n",
       "    var button;\n",
       "    for (var toolbar_ind in mpl.toolbar_items) {\n",
       "        var name = mpl.toolbar_items[toolbar_ind][0];\n",
       "        var tooltip = mpl.toolbar_items[toolbar_ind][1];\n",
       "        var image = mpl.toolbar_items[toolbar_ind][2];\n",
       "        var method_name = mpl.toolbar_items[toolbar_ind][3];\n",
       "\n",
       "        if (!name) {\n",
       "            /* Instead of a spacer, we start a new button group. */\n",
       "            if (buttonGroup.hasChildNodes()) {\n",
       "                toolbar.appendChild(buttonGroup);\n",
       "            }\n",
       "            buttonGroup = document.createElement('div');\n",
       "            buttonGroup.classList = 'btn-group';\n",
       "            continue;\n",
       "        }\n",
       "\n",
       "        button = fig.buttons[name] = document.createElement('button');\n",
       "        button.classList = 'btn btn-default';\n",
       "        button.href = '#';\n",
       "        button.title = name;\n",
       "        button.innerHTML = '<i class=\"fa ' + image + ' fa-lg\"></i>';\n",
       "        button.addEventListener('click', on_click_closure(method_name));\n",
       "        button.addEventListener('mouseover', on_mouseover_closure(tooltip));\n",
       "        buttonGroup.appendChild(button);\n",
       "    }\n",
       "\n",
       "    if (buttonGroup.hasChildNodes()) {\n",
       "        toolbar.appendChild(buttonGroup);\n",
       "    }\n",
       "\n",
       "    // Add the status bar.\n",
       "    var status_bar = document.createElement('span');\n",
       "    status_bar.classList = 'mpl-message pull-right';\n",
       "    toolbar.appendChild(status_bar);\n",
       "    this.message = status_bar;\n",
       "\n",
       "    // Add the close button to the window.\n",
       "    var buttongrp = document.createElement('div');\n",
       "    buttongrp.classList = 'btn-group inline pull-right';\n",
       "    button = document.createElement('button');\n",
       "    button.classList = 'btn btn-mini btn-primary';\n",
       "    button.href = '#';\n",
       "    button.title = 'Stop Interaction';\n",
       "    button.innerHTML = '<i class=\"fa fa-power-off icon-remove icon-large\"></i>';\n",
       "    button.addEventListener('click', function (_evt) {\n",
       "        fig.handle_close(fig, {});\n",
       "    });\n",
       "    button.addEventListener(\n",
       "        'mouseover',\n",
       "        on_mouseover_closure('Stop Interaction')\n",
       "    );\n",
       "    buttongrp.appendChild(button);\n",
       "    var titlebar = this.root.querySelector('.ui-dialog-titlebar');\n",
       "    titlebar.insertBefore(buttongrp, titlebar.firstChild);\n",
       "};\n",
       "\n",
       "mpl.figure.prototype._remove_fig_handler = function (event) {\n",
       "    var fig = event.data.fig;\n",
       "    if (event.target !== this) {\n",
       "        // Ignore bubbled events from children.\n",
       "        return;\n",
       "    }\n",
       "    fig.close_ws(fig, {});\n",
       "};\n",
       "\n",
       "mpl.figure.prototype._root_extra_style = function (el) {\n",
       "    el.style.boxSizing = 'content-box'; // override notebook setting of border-box.\n",
       "};\n",
       "\n",
       "mpl.figure.prototype._canvas_extra_style = function (el) {\n",
       "    // this is important to make the div 'focusable\n",
       "    el.setAttribute('tabindex', 0);\n",
       "    // reach out to IPython and tell the keyboard manager to turn it's self\n",
       "    // off when our div gets focus\n",
       "\n",
       "    // location in version 3\n",
       "    if (IPython.notebook.keyboard_manager) {\n",
       "        IPython.notebook.keyboard_manager.register_events(el);\n",
       "    } else {\n",
       "        // location in version 2\n",
       "        IPython.keyboard_manager.register_events(el);\n",
       "    }\n",
       "};\n",
       "\n",
       "mpl.figure.prototype._key_event_extra = function (event, _name) {\n",
       "    // Check for shift+enter\n",
       "    if (event.shiftKey && event.which === 13) {\n",
       "        this.canvas_div.blur();\n",
       "        // select the cell after this one\n",
       "        var index = IPython.notebook.find_cell_index(this.cell_info[0]);\n",
       "        IPython.notebook.select(index + 1);\n",
       "    }\n",
       "};\n",
       "\n",
       "mpl.figure.prototype.handle_save = function (fig, _msg) {\n",
       "    fig.ondownload(fig, null);\n",
       "};\n",
       "\n",
       "mpl.find_output_cell = function (html_output) {\n",
       "    // Return the cell and output element which can be found *uniquely* in the notebook.\n",
       "    // Note - this is a bit hacky, but it is done because the \"notebook_saving.Notebook\"\n",
       "    // IPython event is triggered only after the cells have been serialised, which for\n",
       "    // our purposes (turning an active figure into a static one), is too late.\n",
       "    var cells = IPython.notebook.get_cells();\n",
       "    var ncells = cells.length;\n",
       "    for (var i = 0; i < ncells; i++) {\n",
       "        var cell = cells[i];\n",
       "        if (cell.cell_type === 'code') {\n",
       "            for (var j = 0; j < cell.output_area.outputs.length; j++) {\n",
       "                var data = cell.output_area.outputs[j];\n",
       "                if (data.data) {\n",
       "                    // IPython >= 3 moved mimebundle to data attribute of output\n",
       "                    data = data.data;\n",
       "                }\n",
       "                if (data['text/html'] === html_output) {\n",
       "                    return [cell, data, j];\n",
       "                }\n",
       "            }\n",
       "        }\n",
       "    }\n",
       "};\n",
       "\n",
       "// Register the function which deals with the matplotlib target/channel.\n",
       "// The kernel may be null if the page has been refreshed.\n",
       "if (IPython.notebook.kernel !== null) {\n",
       "    IPython.notebook.kernel.comm_manager.register_target(\n",
       "        'matplotlib',\n",
       "        mpl.mpl_figure_comm\n",
       "    );\n",
       "}\n"
      ],
      "text/plain": [
       "<IPython.core.display.Javascript object>"
      ]
     },
     "metadata": {},
     "output_type": "display_data"
    },
    {
     "data": {
      "text/html": [
       "<img src=\"data:image/png;base64,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\" width=\"700\">"
      ],
      "text/plain": [
       "<IPython.core.display.HTML object>"
      ]
     },
     "metadata": {},
     "output_type": "display_data"
    },
    {
     "data": {
      "application/vnd.jupyter.widget-view+json": {
       "model_id": "5c952ea10c29415e86cd783fb1050e8d",
       "version_major": 2,
       "version_minor": 0
      },
      "text/plain": [
       "interactive(children=(IntSlider(value=45, description='head_angle', max=180, min=-180), IntSlider(value=180, d…"
      ]
     },
     "metadata": {},
     "output_type": "display_data"
    }
   ],
   "source": [
    "%matplotlib notebook\n",
    "\n",
    "def update_sim(head_angle = 45, body_angle=180, head_x = 0.55, head_y = 0.12, fov = 310.0/2):\n",
    "    # body update\n",
    "    pose,head_angle,_ = update_sim_pose(head_x,head_y,body_angle,head_angle)\n",
    "\n",
    "    # compute ITOR\n",
    "    I = compute_itor(pose,head_angle,vis_graph,fov=fov)\n",
    "    \n",
    "    # update the plot\n",
    "    update_plot_itor(I,vis_graph)\n",
    "\n",
    "# settings\n",
    "full_fov = np.rad2deg(1.74533)\n",
    "binocular_fov = np.rad2deg(0.349066)\n",
    "\n",
    "# body update\n",
    "pose,head_angle,fov = update_sim_pose(fov = 310.0/2)\n",
    "\n",
    "# compute ITOR\n",
    "I = compute_itor(pose,head_angle,vis_graph,fov=fov)\n",
    "\n",
    "# plot\n",
    "fig,ax = plt.subplots(1,1,figsize=(7,5))\n",
    "h0,h1,h2,h3,h4,h5,h6,h7 = plot_itor(I,vis_graph,w,ax,fig)\n",
    "\n",
    "\n",
    "interact(update_sim,head_angle=widgets.IntSlider(min=-180, max=180, step=1, value=45),\n",
    "        body_angle=widgets.IntSlider(min=0, max=360, step=1, value=180),\n",
    "        head_x=widgets.FloatSlider(min=0, max=1, step=0.01, value=0.55),\n",
    "        head_y=widgets.FloatSlider(min=0, max=1, step=0.01, value=0.12),\n",
    "        fov=widgets.RadioButtons(options=[np.rad2deg(1.74533)+50,np.rad2deg(1.74533),np.rad2deg(0.349066)],description='FOV',disabled=False));\n"
   ]
  },
  {
   "cell_type": "markdown",
   "id": "ce6103a8",
   "metadata": {},
   "source": [
    "# POSE STATISTICS\n",
    "\n",
    "We want to know:\n",
    "1. What is the typical head-nose distance\n",
    "2. Given a head direction, what are the limits of various body parts (rotate by head direction and look at distributions of other parts)"
   ]
  },
  {
   "cell_type": "code",
   "execution_count": 11,
   "id": "f3f4139f",
   "metadata": {},
   "outputs": [],
   "source": [
    "%matplotlib inline\n",
    "# functions to extract pose data\n",
    "class PoseList(JsonList):\n",
    "  def __init__(self):\n",
    "    super().__init__(list_type=PosePart)\n",
    "\n",
    "class PosePart(JsonObject):\n",
    "  def __init__(self):\n",
    "    self.part = str()\n",
    "    self.location = Location()\n",
    "    self.camera = int()\n",
    "    self.score = float()\n",
    "    \n",
    "def rotate(p, origin=(0, 0), degrees=0):\n",
    "    angle = np.deg2rad(degrees)\n",
    "    R = np.array([[np.cos(angle), -np.sin(angle)],\n",
    "                  [np.sin(angle),  np.cos(angle)]])\n",
    "    o = np.atleast_2d(origin)\n",
    "    p = np.atleast_2d(p)\n",
    "    return np.squeeze((R @ (p.T-o.T) + o.T).T)\n",
    "\n",
    "def get_pose(step):\n",
    "    p = PoseList.parse(step.data)\n",
    "    pose = {}\n",
    "    for i in range(len(p)):\n",
    "        pose.update({p[i].part:[p[i].location.x,p[i].location.y]})\n",
    "    return pose\n",
    "\n",
    "def get_pose_angle(pose=[], parts=['head_base','nose']):\n",
    "    posec = pose.copy()\n",
    "    loca = [i.location for i in posec if i.part==parts[0]][0]\n",
    "    locb = [i.location for i in posec if i.part==parts[1]][0]\n",
    "    #loca.y = loca.y*-1\n",
    "    #locb.y = locb.y*-1\n",
    "    angle = to_degrees(loca.atan(locb))\n",
    "    return angle\n",
    "\n",
    "        \n",
    "\n",
    "# poselist = PoseList.parse(t.get('data'))\n",
    "# poselist[0].part\n",
    "# poselist[0].location\n",
    "# score threshold probably use .8"
   ]
  },
  {
   "cell_type": "markdown",
   "id": "5d76b757",
   "metadata": {},
   "source": [
    "## Visualization\n",
    "\n",
    "- plot pose distributions conditioned on head direction and position\n",
    "- compute distribution of head lengths"
   ]
  },
  {
   "cell_type": "code",
   "execution_count": 12,
   "id": "2189afc7",
   "metadata": {},
   "outputs": [],
   "source": [
    "# extract pose from data\n",
    "POSEx = []\n",
    "POSEy = []\n",
    "SCORE = []\n",
    "for ep in e.episodes:\n",
    "    pt = ep.trajectories.where('agent_name','prey').get_unique_steps()\n",
    "    for step in pt:\n",
    "        posex = []\n",
    "        posey = []\n",
    "        score = []\n",
    "        if step.data:\n",
    "            pose = PoseList.parse(step.data)\n",
    "            for i in range(len(pose)):\n",
    "                posex.append(pose[i].location.x)\n",
    "                posey.append(pose[i].location.y)\n",
    "                score.append(pose[i].score)\n",
    "            POSEx.append(posex)\n",
    "            POSEy.append(posey)\n",
    "            SCORE.append(score)\n",
    "poseX = np.vstack(POSEx)\n",
    "poseY = np.vstack(POSEy)\n",
    "score = np.vstack(SCORE)\n",
    "\n",
    "# remove bad scores\n",
    "poseX[score < 0.8] = np.nan\n",
    "poseY[score < 0.8] = np.nan"
   ]
  },
  {
   "cell_type": "code",
   "execution_count": 13,
   "id": "94f019ef",
   "metadata": {},
   "outputs": [
    {
     "name": "stdout",
     "output_type": "stream",
     "text": [
      "['body_mid', 'head_base', 'nose', 'tail_base', 'tail_post_base', 'tail_pre_tip', 'tail_tip']\n"
     ]
    }
   ],
   "source": [
    "parts = ['body_mid','head_base','nose','tail_base','tail_post_base','tail_pre_tip','tail_tip']\n",
    "order = np.array((6,5,4,3,0,1,2))\n",
    "print(parts)\n",
    "\n",
    "# parts to use for position and angle norms\n",
    "norm_part = 'head_base'\n",
    "rot_parts = [norm_part, 'nose'] #[norm_part,'body_mid']"
   ]
  },
  {
   "cell_type": "code",
   "execution_count": 14,
   "id": "6a665483",
   "metadata": {},
   "outputs": [],
   "source": [
    "# normalize position\n",
    "normI = parts.index(norm_part)\n",
    "px_norm = poseX[:,:] - poseX[:,normI].reshape(-1,1)\n",
    "py_norm = poseY[:,:] - poseY[:,normI].reshape(-1,1)\n",
    "#_ = plt.plot(px_norm.T,py_norm.T)\n",
    "\n",
    "# rotate\n",
    "rotI = [parts.index(x) for i,x in enumerate(rot_parts)]\n",
    "angle = np.rad2deg(np.arctan2(\n",
    "    [py_norm[:,rotI[0]],py_norm[:,rotI[1]]],\n",
    "    [px_norm[:,rotI[0]],px_norm[:,rotI[1]]])[1])\n",
    "\n",
    "px_rot = np.empty((len(px_norm),len(parts)))\n",
    "py_rot = np.empty((len(px_norm),len(parts)))\n",
    "for i in range(len(px_norm)):\n",
    "    pts = np.concatenate((px_norm[i,:].reshape(-1,1),py_norm[i,:].reshape(-1,1)),axis=1)\n",
    "    pts_rot = rotate(pts,degrees=-angle[i])\n",
    "    px_rot[i,:] = pts_rot[:,0]\n",
    "    py_rot[i,:] = pts_rot[:,1]"
   ]
  },
  {
   "cell_type": "code",
   "execution_count": 15,
   "id": "a9288659",
   "metadata": {},
   "outputs": [
    {
     "name": "stdout",
     "output_type": "stream",
     "text": [
      "0 6 body_mid\n",
      "1 5 head_base\n",
      "2 4 nose\n",
      "3 3 tail_base\n",
      "4 0 tail_post_base\n",
      "5 1 tail_pre_tip\n",
      "6 2 tail_tip\n"
     ]
    },
    {
     "data": {
      "image/png": "[encoded data removed]",
      "text/plain": [
       "<Figure size 864x288 with 2 Axes>"
      ]
     },
     "metadata": {
      "needs_background": "light"
     },
     "output_type": "display_data"
    }
   ],
   "source": [
    "%matplotlib inline\n",
    "fig,ax = plt.subplots(1,2,figsize=(12,4))\n",
    "\n",
    "col = plt.cm.jet(np.linspace(0,1,7))\n",
    "ax[0].axhline(0,color='k',linewidth=0.5,linestyle='--')\n",
    "ax[0].axvline(0,color='k',linewidth=0.5,linestyle='--')\n",
    "for i,o in enumerate(order):\n",
    "    print(i,o,parts[i])\n",
    "    ax[0].plot(px_rot[:,o],py_rot[:,o],'.',markersize=1,alpha=0.2,color=col[i])\n",
    "    ax[0].plot(px_rot[0,o]+100,py_rot[0,o]+100,'.',markersize=10,alpha=1,color=col[i],label=parts[o])\n",
    "ax[0].set_xlim([-0.075,0.075])\n",
    "ax[0].set_ylim([-0.05,0.05])\n",
    "ax[0].set_xlabel(f'x rel. {rot_parts[0]} (canonical)')\n",
    "ax[0].set_ylabel(f'y rel. {rot_parts[0]} (canonical)')\n",
    "ax[0].legend()\n",
    "\n",
    "_ = ax[1].hist(px_rot[:,rotI[1]],bins=np.linspace(0,0.015,50))\n",
    "ax[1].set_xlabel(f'{rot_parts[0]}->{rot_parts[1]} distance (canonical)')\n",
    "\n",
    "fig.savefig('pose_stats.pdf')\n"
   ]
  },
  {
   "cell_type": "markdown",
   "id": "81dff76e",
   "metadata": {},
   "source": [
    "## Random sampling\n",
    "\n",
    "*Thinking out loud*: One way to sample would be to randomly mix pose points from all of the pose samples. However, this would inevitably lead to a strange mixture of pose relations that would not necessarily represent real poses.\n",
    "\n",
    "*Some alternatives (from easiest to hardest)*:\n",
    "- ignore most of the pose and only sample from \"body_mid\" distribution for ITOR bootstrap -- this would simplify ITOR calculation anyway and we don't have to worry about \"realistic pose\" because it is not contingent on chaining multiple parts together in a realistic way\n",
    "- sample directly from all pose points (maybe excluding the current episode to avoid repeats) -- this would guarantee realistic poses\n",
    "- learn some high dimensional pose space (ie. relationships between the parts, maybe via PCA) and create poses using weighted combinations of PCs plus noise?\n",
    "\n",
    "... for now lets just build a pose library for this mouse\n",
    "\n",
    "The library will have the following columns:\n",
    "\n",
    "1. experiment name\n",
    "2. episode\n",
    "3. POSEx\n",
    "4. POXEy\n",
    "5. score\n"
   ]
  },
  {
   "cell_type": "code",
   "execution_count": 16,
   "id": "793901e7",
   "metadata": {},
   "outputs": [],
   "source": [
    "EXP = []\n",
    "EPI = []\n",
    "POSEx = []\n",
    "POSEy = []\n",
    "SCORE = []\n",
    "POSE = []\n",
    "for j,ep in enumerate(e.episodes):\n",
    "    pt = ep.trajectories.where('agent_name','prey').get_unique_steps()\n",
    "    for step in pt:\n",
    "        posex = []\n",
    "        posey = []\n",
    "        score = []\n",
    "        if step.data:\n",
    "            pose = PoseList.parse(step.data)\n",
    "            for i in range(len(pose)):\n",
    "                posex.append(pose[i].location.x)\n",
    "                posey.append(pose[i].location.y)\n",
    "                score.append(pose[i].score)\n",
    "            EXP.append(e.name)\n",
    "            EPI.append(j)\n",
    "            POSEx.append(posex)\n",
    "            POSEy.append(posey)\n",
    "            SCORE.append(score)\n",
    "            POSE.append(pose)\n",
    "experiment = np.vstack(EXP)\n",
    "episodes = np.vstack(EPI)\n",
    "poseX = np.vstack(POSEx)\n",
    "poseY = np.vstack(POSEy)\n",
    "score = np.vstack(SCORE)\n"
   ]
  },
  {
   "cell_type": "markdown",
   "id": "6e8ec2ea",
   "metadata": {},
   "source": [
    "Define ITOR from raw pose structure:"
   ]
  },
  {
   "cell_type": "code",
   "execution_count": 17,
   "id": "b4c501c5",
   "metadata": {},
   "outputs": [],
   "source": [
    "def compute_itor_pose(pose,head_angle,vis_graph,head_parts=['head_base'],body_parts=['body_mid'],fov = np.rad2deg(1.74533)):\n",
    "    \"\"\"Returns ITOR value pose points in the environment based on\n",
    "    pose, head angle, FOV\"\"\"\n",
    "    # get closest tiles for each part:\n",
    "    v = []\n",
    "    ppoints = []\n",
    "    part = []\n",
    "    for p in pose:\n",
    "        if p.score > 0.8:\n",
    "            part.append(p.part)\n",
    "            vis,pt = get_visibility(np.array([p.location.x,p.location.y]),vis_graph)\n",
    "            v.append(vis)\n",
    "            ppoints.append(pt)\n",
    "            \n",
    "    if v:\n",
    "        v = np.vstack(v)\n",
    "        ppoints = np.vstack(ppoints)\n",
    "\n",
    "        # get head and body parts\n",
    "        head_ind = [i for i in range(len(part)) if part[i] in head_parts]\n",
    "        body_ind = [i for i in range(len(part)) if part[i] in body_parts]\n",
    "\n",
    "        if head_ind:\n",
    "            # get points in the FOV\n",
    "            fov_verts = get_fov_points(ppoints[head_ind,:],head_angle,vis_graph,fov)\n",
    "\n",
    "            # which vertices that are visible to the head:\n",
    "            vis_verts = np.any(v[head_ind,:],axis=0) & fov_verts\n",
    "\n",
    "            # of FOV visible vertices, which ones are visible to the body:\n",
    "            body_verts = np.any(v[body_ind,:],axis=0) & vis_verts\n",
    "\n",
    "            # compute ITOR as 1-(visible_to_body/visible_to_head)\n",
    "            ITOR = 1 - np.sum(body_verts)/np.sum(vis_verts)\n",
    "            \n",
    "        else:\n",
    "            ITOR = np.nan\n",
    "            ppoints = np.array([np.nan,np.nan])\n",
    "    else:\n",
    "        ITOR = np.nan\n",
    "        ppoints = np.array([np.nan,np.nan])\n",
    "    \n",
    "    return {'ITOR':ITOR,\n",
    "            'pose_points': ppoints}\n",
    "\n",
    "def plot_pose(pose,ax=plt,**plt_kwargs):\n",
    "    ppoints = []\n",
    "    npoint = []\n",
    "    hpoint = []\n",
    "    for p in pose:\n",
    "        if 'nose' in p.part:\n",
    "            npoint = [p.location.x,p.location.y]\n",
    "        elif 'head' in p.part:\n",
    "            hpoint = [p.location.x,p.location.y]\n",
    "        else:\n",
    "            ppoints.append([p.location.x,p.location.y])\n",
    "    ppoints = np.vstack(ppoints)\n",
    "    hpoint = np.hstack(hpoint)\n",
    "    npoint = np.hstack(npoint)\n",
    "    h = []\n",
    "    h.append(ax.scatter(ppoints[:,0],ppoints[:,1],**plt_kwargs))\n",
    "    h.append(ax.plot(hpoint[0],hpoint[1],'*',color=h[0].get_facecolors()[0]))\n",
    "    h.append(ax.plot(npoint[0],npoint[1],'^',color=h[0].get_facecolors()[0]))\n",
    "    return(h)\n",
    "\n",
    "def transform_pose(pose, origin=Location(0,0), offset=Location(0,0), angle=0):\n",
    "    '''Transforms a pose object by offsetting and rotating around an origin'''\n",
    "    pose_norm = pose.copy()\n",
    "    for i,p in enumerate(pose_norm):\n",
    "        p.location = p.location + offset\n",
    "        r = rotate([p.location.x,p.location.y], \n",
    "                   origin=[origin.x,origin.y], \n",
    "                   degrees=-angle)\n",
    "        p.location = Location(r[0],r[1])\n",
    "    return pose_norm\n",
    "    \n",
    "    \n",
    "\n",
    "def match_pose(pose0,pose1,ref_part='head_base'):\n",
    "    '''Transforms pose1 to match pose0 based on reference part location and head angle'''\n",
    "    # get reference location and angle\n",
    "    ref_loc = [i.location for i in pose0 if i.part==ref_part][0]\n",
    "    ref_angle = get_pose_angle(pose0)\n",
    "    \n",
    "    # get the source location and angle\n",
    "    src_loc = [i.location for i in pose1 if i.part==ref_part][0]\n",
    "    src_angle = get_pose_angle(pose1)\n",
    "    \n",
    "    # calculate location and angle offset\n",
    "    a = ref_angle - src_angle\n",
    "    if a > 180:\n",
    "        a -= 360\n",
    "    if a < -180:\n",
    "        a += 360\n",
    "    offset = (ref_loc - src_loc)\n",
    "    \n",
    "    # offset and rotate\n",
    "    pose_norm = transform_pose(pose1,origin=ref_loc,offset=offset,angle=a)\n",
    "    \n",
    "    return pose_norm,src_angle,src_loc,ref_angle,ref_loc\n",
    "\n"
   ]
  },
  {
   "cell_type": "code",
   "execution_count": 20,
   "id": "895d5559",
   "metadata": {},
   "outputs": [
    {
     "name": "stdout",
     "output_type": "stream",
     "text": [
      "frame 184 / 345\n"
     ]
    },
    {
     "data": {
      "application/vnd.jupyter.widget-view+json": {
       "model_id": "3ea1cc8b3cc34ed486533021ea3501ea",
       "version_major": 2,
       "version_minor": 0
      },
      "text/plain": [
       "  0%|          | 0/500 [00:00<?, ?it/s]"
      ]
     },
     "metadata": {},
     "output_type": "display_data"
    },
    {
     "name": "stdout",
     "output_type": "stream",
     "text": [
      "frame 185 / 345\n"
     ]
    },
    {
     "data": {
      "application/vnd.jupyter.widget-view+json": {
       "model_id": "26064dceb26144fab790286ef1032cd9",
       "version_major": 2,
       "version_minor": 0
      },
      "text/plain": [
       "  0%|          | 0/500 [00:00<?, ?it/s]"
      ]
     },
     "metadata": {},
     "output_type": "display_data"
    },
    {
     "name": "stdout",
     "output_type": "stream",
     "text": [
      "frame 186 / 345\n"
     ]
    },
    {
     "data": {
      "application/vnd.jupyter.widget-view+json": {
       "model_id": "1cb9403b9fd94834aee6fb8fb429881e",
       "version_major": 2,
       "version_minor": 0
      },
      "text/plain": [
       "  0%|          | 0/500 [00:00<?, ?it/s]"
      ]
     },
     "metadata": {},
     "output_type": "display_data"
    },
    {
     "name": "stdout",
     "output_type": "stream",
     "text": [
      "frame 187 / 345\n"
     ]
    },
    {
     "data": {
      "application/vnd.jupyter.widget-view+json": {
       "model_id": "c3b344f4e22741b9a19e9061d6ac5284",
       "version_major": 2,
       "version_minor": 0
      },
      "text/plain": [
       "  0%|          | 0/500 [00:00<?, ?it/s]"
      ]
     },
     "metadata": {},
     "output_type": "display_data"
    },
    {
     "name": "stdout",
     "output_type": "stream",
     "text": [
      "frame 188 / 345\n"
     ]
    },
    {
     "data": {
      "application/vnd.jupyter.widget-view+json": {
       "model_id": "09c450f6e3974a0ba3466345897331b5",
       "version_major": 2,
       "version_minor": 0
      },
      "text/plain": [
       "  0%|          | 0/500 [00:00<?, ?it/s]"
      ]
     },
     "metadata": {},
     "output_type": "display_data"
    },
    {
     "name": "stdout",
     "output_type": "stream",
     "text": [
      "frame 189 / 345\n"
     ]
    },
    {
     "data": {
      "application/vnd.jupyter.widget-view+json": {
       "model_id": "39cef89a3fc643a1bdcfab1bfe107a96",
       "version_major": 2,
       "version_minor": 0
      },
      "text/plain": [
       "  0%|          | 0/500 [00:00<?, ?it/s]"
      ]
     },
     "metadata": {},
     "output_type": "display_data"
    },
    {
     "name": "stdout",
     "output_type": "stream",
     "text": [
      "frame 190 / 345\n"
     ]
    },
    {
     "data": {
      "application/vnd.jupyter.widget-view+json": {
       "model_id": "78a784c22f70478daf7fdac979707557",
       "version_major": 2,
       "version_minor": 0
      },
      "text/plain": [
       "  0%|          | 0/500 [00:00<?, ?it/s]"
      ]
     },
     "metadata": {},
     "output_type": "display_data"
    },
    {
     "name": "stdout",
     "output_type": "stream",
     "text": [
      "frame 191 / 345\n"
     ]
    },
    {
     "data": {
      "application/vnd.jupyter.widget-view+json": {
       "model_id": "c71f8eec71b24b90a197b0ec8f0660fc",
       "version_major": 2,
       "version_minor": 0
      },
      "text/plain": [
       "  0%|          | 0/500 [00:00<?, ?it/s]"
      ]
     },
     "metadata": {},
     "output_type": "display_data"
    },
    {
     "name": "stdout",
     "output_type": "stream",
     "text": [
      "frame 192 / 345\n"
     ]
    },
    {
     "data": {
      "application/vnd.jupyter.widget-view+json": {
       "model_id": "69c8eb10e82948ba9911c9455626e96a",
       "version_major": 2,
       "version_minor": 0
      },
      "text/plain": [
       "  0%|          | 0/500 [00:00<?, ?it/s]"
      ]
     },
     "metadata": {},
     "output_type": "display_data"
    },
    {
     "name": "stdout",
     "output_type": "stream",
     "text": [
      "frame 193 / 345\n"
     ]
    },
    {
     "data": {
      "application/vnd.jupyter.widget-view+json": {
       "model_id": "aee08ccc630346c587270c70375a3da3",
       "version_major": 2,
       "version_minor": 0
      },
      "text/plain": [
       "  0%|          | 0/500 [00:00<?, ?it/s]"
      ]
     },
     "metadata": {},
     "output_type": "display_data"
    },
    {
     "name": "stdout",
     "output_type": "stream",
     "text": [
      "frame 194 / 345\n"
     ]
    },
    {
     "data": {
      "application/vnd.jupyter.widget-view+json": {
       "model_id": "f41eaddc30fd441fa6e8e511bac56fa1",
       "version_major": 2,
       "version_minor": 0
      },
      "text/plain": [
       "  0%|          | 0/500 [00:00<?, ?it/s]"
      ]
     },
     "metadata": {},
     "output_type": "display_data"
    },
    {
     "name": "stdout",
     "output_type": "stream",
     "text": [
      "frame 195 / 345\n"
     ]
    },
    {
     "data": {
      "application/vnd.jupyter.widget-view+json": {
       "model_id": "d56d19bbb5604d87b2a7af61cb189f67",
       "version_major": 2,
       "version_minor": 0
      },
      "text/plain": [
       "  0%|          | 0/500 [00:00<?, ?it/s]"
      ]
     },
     "metadata": {},
     "output_type": "display_data"
    },
    {
     "name": "stdout",
     "output_type": "stream",
     "text": [
      "frame 196 / 345\n"
     ]
    },
    {
     "data": {
      "application/vnd.jupyter.widget-view+json": {
       "model_id": "73c9f64866d2490ebb4c513c0b2bac46",
       "version_major": 2,
       "version_minor": 0
      },
      "text/plain": [
       "  0%|          | 0/500 [00:00<?, ?it/s]"
      ]
     },
     "metadata": {},
     "output_type": "display_data"
    },
    {
     "name": "stdout",
     "output_type": "stream",
     "text": [
      "frame 197 / 345\n"
     ]
    },
    {
     "data": {
      "application/vnd.jupyter.widget-view+json": {
       "model_id": "1befd60fd149406b9da66bc9984956bc",
       "version_major": 2,
       "version_minor": 0
      },
      "text/plain": [
       "  0%|          | 0/500 [00:00<?, ?it/s]"
      ]
     },
     "metadata": {},
     "output_type": "display_data"
    },
    {
     "name": "stdout",
     "output_type": "stream",
     "text": [
      "frame 198 / 345\n"
     ]
    },
    {
     "data": {
      "application/vnd.jupyter.widget-view+json": {
       "model_id": "8a7e45e79fef46fbafd213b4051c8b76",
       "version_major": 2,
       "version_minor": 0
      },
      "text/plain": [
       "  0%|          | 0/500 [00:00<?, ?it/s]"
      ]
     },
     "metadata": {},
     "output_type": "display_data"
    },
    {
     "name": "stdout",
     "output_type": "stream",
     "text": [
      "frame 199 / 345\n"
     ]
    },
    {
     "data": {
      "application/vnd.jupyter.widget-view+json": {
       "model_id": "ff0d9e6e45ea4bd9a95dd7a12b394fc0",
       "version_major": 2,
       "version_minor": 0
      },
      "text/plain": [
       "  0%|          | 0/500 [00:00<?, ?it/s]"
      ]
     },
     "metadata": {},
     "output_type": "display_data"
    },
    {
     "name": "stdout",
     "output_type": "stream",
     "text": [
      "frame 200 / 345\n"
     ]
    },
    {
     "data": {
      "application/vnd.jupyter.widget-view+json": {
       "model_id": "2c47ba2fe0be49ccbdcbdb95c8fce1f5",
       "version_major": 2,
       "version_minor": 0
      },
      "text/plain": [
       "  0%|          | 0/500 [00:00<?, ?it/s]"
      ]
     },
     "metadata": {},
     "output_type": "display_data"
    },
    {
     "name": "stdout",
     "output_type": "stream",
     "text": [
      "frame 201 / 345\n"
     ]
    },
    {
     "data": {
      "application/vnd.jupyter.widget-view+json": {
       "model_id": "90fd0f4722f54d97a1e4719e0752fdf0",
       "version_major": 2,
       "version_minor": 0
      },
      "text/plain": [
       "  0%|          | 0/500 [00:00<?, ?it/s]"
      ]
     },
     "metadata": {},
     "output_type": "display_data"
    },
    {
     "name": "stdout",
     "output_type": "stream",
     "text": [
      "frame 202 / 345\n"
     ]
    },
    {
     "data": {
      "application/vnd.jupyter.widget-view+json": {
       "model_id": "41a0147230bd4a48918831e7b348f516",
       "version_major": 2,
       "version_minor": 0
      },
      "text/plain": [
       "  0%|          | 0/500 [00:00<?, ?it/s]"
      ]
     },
     "metadata": {},
     "output_type": "display_data"
    },
    {
     "name": "stdout",
     "output_type": "stream",
     "text": [
      "frame 203 / 345\n"
     ]
    },
    {
     "data": {
      "application/vnd.jupyter.widget-view+json": {
       "model_id": "49a5a80cfeaf4e9fb783c270dd05cfaf",
       "version_major": 2,
       "version_minor": 0
      },
      "text/plain": [
       "  0%|          | 0/500 [00:00<?, ?it/s]"
      ]
     },
     "metadata": {},
     "output_type": "display_data"
    },
    {
     "name": "stdout",
     "output_type": "stream",
     "text": [
      "frame 204 / 345\n"
     ]
    },
    {
     "data": {
      "application/vnd.jupyter.widget-view+json": {
       "model_id": "61a2c9b553164a42bf30ef85f67776c3",
       "version_major": 2,
       "version_minor": 0
      },
      "text/plain": [
       "  0%|          | 0/500 [00:00<?, ?it/s]"
      ]
     },
     "metadata": {},
     "output_type": "display_data"
    },
    {
     "name": "stdout",
     "output_type": "stream",
     "text": [
      "frame 205 / 345\n"
     ]
    },
    {
     "data": {
      "application/vnd.jupyter.widget-view+json": {
       "model_id": "16ce422ef27b47a0a70f2d25cb4ff5e8",
       "version_major": 2,
       "version_minor": 0
      },
      "text/plain": [
       "  0%|          | 0/500 [00:00<?, ?it/s]"
      ]
     },
     "metadata": {},
     "output_type": "display_data"
    },
    {
     "name": "stdout",
     "output_type": "stream",
     "text": [
      "frame 206 / 345\n"
     ]
    },
    {
     "data": {
      "application/vnd.jupyter.widget-view+json": {
       "model_id": "a7a6bd8503334deda2504f14ad89f650",
       "version_major": 2,
       "version_minor": 0
      },
      "text/plain": [
       "  0%|          | 0/500 [00:00<?, ?it/s]"
      ]
     },
     "metadata": {},
     "output_type": "display_data"
    },
    {
     "name": "stdout",
     "output_type": "stream",
     "text": [
      "frame 207 / 345\n"
     ]
    },
    {
     "data": {
      "application/vnd.jupyter.widget-view+json": {
       "model_id": "3f6dcf6b441145899fada5a31116c4ee",
       "version_major": 2,
       "version_minor": 0
      },
      "text/plain": [
       "  0%|          | 0/500 [00:00<?, ?it/s]"
      ]
     },
     "metadata": {},
     "output_type": "display_data"
    },
    {
     "name": "stdout",
     "output_type": "stream",
     "text": [
      "frame 208 / 345\n"
     ]
    },
    {
     "data": {
      "application/vnd.jupyter.widget-view+json": {
       "model_id": "e53c1734c9e347ad98485daa681f2903",
       "version_major": 2,
       "version_minor": 0
      },
      "text/plain": [
       "  0%|          | 0/500 [00:00<?, ?it/s]"
      ]
     },
     "metadata": {},
     "output_type": "display_data"
    },
    {
     "name": "stdout",
     "output_type": "stream",
     "text": [
      "frame 209 / 345\n"
     ]
    },
    {
     "data": {
      "application/vnd.jupyter.widget-view+json": {
       "model_id": "738c6715ae9545dba68345626968de4c",
       "version_major": 2,
       "version_minor": 0
      },
      "text/plain": [
       "  0%|          | 0/500 [00:00<?, ?it/s]"
      ]
     },
     "metadata": {},
     "output_type": "display_data"
    },
    {
     "name": "stdout",
     "output_type": "stream",
     "text": [
      "frame 210 / 345\n"
     ]
    },
    {
     "data": {
      "application/vnd.jupyter.widget-view+json": {
       "model_id": "602b5f2625b84099bc5d3bd90300e5ef",
       "version_major": 2,
       "version_minor": 0
      },
      "text/plain": [
       "  0%|          | 0/500 [00:00<?, ?it/s]"
      ]
     },
     "metadata": {},
     "output_type": "display_data"
    },
    {
     "name": "stdout",
     "output_type": "stream",
     "text": [
      "frame 211 / 345\n"
     ]
    },
    {
     "data": {
      "application/vnd.jupyter.widget-view+json": {
       "model_id": "6aa3bdd2234343b1ba1770011994911f",
       "version_major": 2,
       "version_minor": 0
      },
      "text/plain": [
       "  0%|          | 0/500 [00:00<?, ?it/s]"
      ]
     },
     "metadata": {},
     "output_type": "display_data"
    },
    {
     "name": "stdout",
     "output_type": "stream",
     "text": [
      "frame 212 / 345\n"
     ]
    },
    {
     "data": {
      "application/vnd.jupyter.widget-view+json": {
       "model_id": "a6195ad898ce4351bb8b11bbef24580c",
       "version_major": 2,
       "version_minor": 0
      },
      "text/plain": [
       "  0%|          | 0/500 [00:00<?, ?it/s]"
      ]
     },
     "metadata": {},
     "output_type": "display_data"
    },
    {
     "name": "stdout",
     "output_type": "stream",
     "text": [
      "frame 213 / 345\n"
     ]
    },
    {
     "data": {
      "application/vnd.jupyter.widget-view+json": {
       "model_id": "f18d30af41554e2785515ff1fab26f5d",
       "version_major": 2,
       "version_minor": 0
      },
      "text/plain": [
       "  0%|          | 0/500 [00:00<?, ?it/s]"
      ]
     },
     "metadata": {},
     "output_type": "display_data"
    },
    {
     "name": "stdout",
     "output_type": "stream",
     "text": [
      "frame 214 / 345\n"
     ]
    },
    {
     "data": {
      "application/vnd.jupyter.widget-view+json": {
       "model_id": "3cc9df490692486b942c789800f00530",
       "version_major": 2,
       "version_minor": 0
      },
      "text/plain": [
       "  0%|          | 0/500 [00:00<?, ?it/s]"
      ]
     },
     "metadata": {},
     "output_type": "display_data"
    },
    {
     "name": "stdout",
     "output_type": "stream",
     "text": [
      "frame 215 / 345\n"
     ]
    },
    {
     "data": {
      "application/vnd.jupyter.widget-view+json": {
       "model_id": "0f136584837043d1bc2288b7bd5aa238",
       "version_major": 2,
       "version_minor": 0
      },
      "text/plain": [
       "  0%|          | 0/500 [00:00<?, ?it/s]"
      ]
     },
     "metadata": {},
     "output_type": "display_data"
    },
    {
     "name": "stdout",
     "output_type": "stream",
     "text": [
      "frame 216 / 345\n"
     ]
    },
    {
     "data": {
      "application/vnd.jupyter.widget-view+json": {
       "model_id": "31f2610c24994eb785801bb0bbff9637",
       "version_major": 2,
       "version_minor": 0
      },
      "text/plain": [
       "  0%|          | 0/500 [00:00<?, ?it/s]"
      ]
     },
     "metadata": {},
     "output_type": "display_data"
    },
    {
     "name": "stdout",
     "output_type": "stream",
     "text": [
      "frame 217 / 345\n"
     ]
    },
    {
     "data": {
      "application/vnd.jupyter.widget-view+json": {
       "model_id": "824db83afe7e454da9f2e377bb2ec24f",
       "version_major": 2,
       "version_minor": 0
      },
      "text/plain": [
       "  0%|          | 0/500 [00:00<?, ?it/s]"
      ]
     },
     "metadata": {},
     "output_type": "display_data"
    },
    {
     "name": "stdout",
     "output_type": "stream",
     "text": [
      "frame 218 / 345\n"
     ]
    },
    {
     "data": {
      "application/vnd.jupyter.widget-view+json": {
       "model_id": "9b2667369aa94c26b7a8adeeb713b9d8",
       "version_major": 2,
       "version_minor": 0
      },
      "text/plain": [
       "  0%|          | 0/500 [00:00<?, ?it/s]"
      ]
     },
     "metadata": {},
     "output_type": "display_data"
    },
    {
     "name": "stdout",
     "output_type": "stream",
     "text": [
      "frame 219 / 345\n"
     ]
    },
    {
     "data": {
      "application/vnd.jupyter.widget-view+json": {
       "model_id": "e34461738004471c8ee74c60bca0cffe",
       "version_major": 2,
       "version_minor": 0
      },
      "text/plain": [
       "  0%|          | 0/500 [00:00<?, ?it/s]"
      ]
     },
     "metadata": {},
     "output_type": "display_data"
    },
    {
     "name": "stdout",
     "output_type": "stream",
     "text": [
      "frame 220 / 345\n"
     ]
    },
    {
     "data": {
      "application/vnd.jupyter.widget-view+json": {
       "model_id": "3eb0605e4644402a9aa4036972ddf244",
       "version_major": 2,
       "version_minor": 0
      },
      "text/plain": [
       "  0%|          | 0/500 [00:00<?, ?it/s]"
      ]
     },
     "metadata": {},
     "output_type": "display_data"
    },
    {
     "name": "stdout",
     "output_type": "stream",
     "text": [
      "frame 221 / 345\n"
     ]
    },
    {
     "data": {
      "application/vnd.jupyter.widget-view+json": {
       "model_id": "c2417db8f4904a17aeafe82954ccde7f",
       "version_major": 2,
       "version_minor": 0
      },
      "text/plain": [
       "  0%|          | 0/500 [00:00<?, ?it/s]"
      ]
     },
     "metadata": {},
     "output_type": "display_data"
    },
    {
     "name": "stdout",
     "output_type": "stream",
     "text": [
      "frame 222 / 345\n"
     ]
    },
    {
     "data": {
      "application/vnd.jupyter.widget-view+json": {
       "model_id": "06a652cf62af4ce8962e8869dc3653b6",
       "version_major": 2,
       "version_minor": 0
      },
      "text/plain": [
       "  0%|          | 0/500 [00:00<?, ?it/s]"
      ]
     },
     "metadata": {},
     "output_type": "display_data"
    },
    {
     "name": "stdout",
     "output_type": "stream",
     "text": [
      "frame 223 / 345\n"
     ]
    },
    {
     "data": {
      "application/vnd.jupyter.widget-view+json": {
       "model_id": "73c3c1fd4df947fd84d74491b7b334ba",
       "version_major": 2,
       "version_minor": 0
      },
      "text/plain": [
       "  0%|          | 0/500 [00:00<?, ?it/s]"
      ]
     },
     "metadata": {},
     "output_type": "display_data"
    },
    {
     "name": "stdout",
     "output_type": "stream",
     "text": [
      "frame 224 / 345\n"
     ]
    },
    {
     "data": {
      "application/vnd.jupyter.widget-view+json": {
       "model_id": "6d56786d7d8a430b986b03ebf54b65da",
       "version_major": 2,
       "version_minor": 0
      },
      "text/plain": [
       "  0%|          | 0/500 [00:00<?, ?it/s]"
      ]
     },
     "metadata": {},
     "output_type": "display_data"
    },
    {
     "name": "stdout",
     "output_type": "stream",
     "text": [
      "frame 225 / 345\n"
     ]
    },
    {
     "data": {
      "application/vnd.jupyter.widget-view+json": {
       "model_id": "02710d58637246b0b62dc4ed3365b4c1",
       "version_major": 2,
       "version_minor": 0
      },
      "text/plain": [
       "  0%|          | 0/500 [00:00<?, ?it/s]"
      ]
     },
     "metadata": {},
     "output_type": "display_data"
    },
    {
     "name": "stdout",
     "output_type": "stream",
     "text": [
      "frame 226 / 345\n"
     ]
    },
    {
     "data": {
      "application/vnd.jupyter.widget-view+json": {
       "model_id": "198ff5158bc34fb6bd72f7c3e152acd8",
       "version_major": 2,
       "version_minor": 0
      },
      "text/plain": [
       "  0%|          | 0/500 [00:00<?, ?it/s]"
      ]
     },
     "metadata": {},
     "output_type": "display_data"
    },
    {
     "name": "stdout",
     "output_type": "stream",
     "text": [
      "frame 227 / 345\n"
     ]
    },
    {
     "data": {
      "application/vnd.jupyter.widget-view+json": {
       "model_id": "d83bcde594bc4183bd733c077a5be1ff",
       "version_major": 2,
       "version_minor": 0
      },
      "text/plain": [
       "  0%|          | 0/500 [00:00<?, ?it/s]"
      ]
     },
     "metadata": {},
     "output_type": "display_data"
    },
    {
     "name": "stdout",
     "output_type": "stream",
     "text": [
      "frame 228 / 345\n"
     ]
    },
    {
     "data": {
      "application/vnd.jupyter.widget-view+json": {
       "model_id": "ddece5669fff4e6ea774f0f315dbd65d",
       "version_major": 2,
       "version_minor": 0
      },
      "text/plain": [
       "  0%|          | 0/500 [00:00<?, ?it/s]"
      ]
     },
     "metadata": {},
     "output_type": "display_data"
    },
    {
     "name": "stdout",
     "output_type": "stream",
     "text": [
      "frame 229 / 345\n"
     ]
    },
    {
     "data": {
      "application/vnd.jupyter.widget-view+json": {
       "model_id": "64f051accebd4c19aab8a7b314db8d36",
       "version_major": 2,
       "version_minor": 0
      },
      "text/plain": [
       "  0%|          | 0/500 [00:00<?, ?it/s]"
      ]
     },
     "metadata": {},
     "output_type": "display_data"
    },
    {
     "name": "stdout",
     "output_type": "stream",
     "text": [
      "frame 230 / 345\n"
     ]
    },
    {
     "data": {
      "application/vnd.jupyter.widget-view+json": {
       "model_id": "d25bc639757141bbbdf28fbe4fccdde4",
       "version_major": 2,
       "version_minor": 0
      },
      "text/plain": [
       "  0%|          | 0/500 [00:00<?, ?it/s]"
      ]
     },
     "metadata": {},
     "output_type": "display_data"
    },
    {
     "name": "stdout",
     "output_type": "stream",
     "text": [
      "frame 231 / 345\n"
     ]
    },
    {
     "data": {
      "application/vnd.jupyter.widget-view+json": {
       "model_id": "870792b0539f4ba393646715410002fc",
       "version_major": 2,
       "version_minor": 0
      },
      "text/plain": [
       "  0%|          | 0/500 [00:00<?, ?it/s]"
      ]
     },
     "metadata": {},
     "output_type": "display_data"
    },
    {
     "name": "stdout",
     "output_type": "stream",
     "text": [
      "frame 232 / 345\n"
     ]
    },
    {
     "data": {
      "application/vnd.jupyter.widget-view+json": {
       "model_id": "cd4955bed9654a149fc2752b13449afc",
       "version_major": 2,
       "version_minor": 0
      },
      "text/plain": [
       "  0%|          | 0/500 [00:00<?, ?it/s]"
      ]
     },
     "metadata": {},
     "output_type": "display_data"
    },
    {
     "name": "stdout",
     "output_type": "stream",
     "text": [
      "frame 233 / 345\n"
     ]
    },
    {
     "data": {
      "application/vnd.jupyter.widget-view+json": {
       "model_id": "7a632e8c7f1d4f7c8de08b1c40fc55b3",
       "version_major": 2,
       "version_minor": 0
      },
      "text/plain": [
       "  0%|          | 0/500 [00:00<?, ?it/s]"
      ]
     },
     "metadata": {},
     "output_type": "display_data"
    },
    {
     "name": "stdout",
     "output_type": "stream",
     "text": [
      "frame 234 / 345\n"
     ]
    },
    {
     "data": {
      "application/vnd.jupyter.widget-view+json": {
       "model_id": "ccb515414f3f4588b936abcf30efe0ce",
       "version_major": 2,
       "version_minor": 0
      },
      "text/plain": [
       "  0%|          | 0/500 [00:00<?, ?it/s]"
      ]
     },
     "metadata": {},
     "output_type": "display_data"
    },
    {
     "name": "stdout",
     "output_type": "stream",
     "text": [
      "frame 235 / 345\n"
     ]
    },
    {
     "data": {
      "application/vnd.jupyter.widget-view+json": {
       "model_id": "ddb0cd2a91134aedb3ad7111ab542b76",
       "version_major": 2,
       "version_minor": 0
      },
      "text/plain": [
       "  0%|          | 0/500 [00:00<?, ?it/s]"
      ]
     },
     "metadata": {},
     "output_type": "display_data"
    },
    {
     "name": "stdout",
     "output_type": "stream",
     "text": [
      "frame 236 / 345\n"
     ]
    },
    {
     "data": {
      "application/vnd.jupyter.widget-view+json": {
       "model_id": "befe823540f44e81a5e483905bd23ced",
       "version_major": 2,
       "version_minor": 0
      },
      "text/plain": [
       "  0%|          | 0/500 [00:00<?, ?it/s]"
      ]
     },
     "metadata": {},
     "output_type": "display_data"
    },
    {
     "name": "stdout",
     "output_type": "stream",
     "text": [
      "frame 237 / 345\n"
     ]
    },
    {
     "data": {
      "application/vnd.jupyter.widget-view+json": {
       "model_id": "cd54c9b9f17a4ce8ac2729c415df21a3",
       "version_major": 2,
       "version_minor": 0
      },
      "text/plain": [
       "  0%|          | 0/500 [00:00<?, ?it/s]"
      ]
     },
     "metadata": {},
     "output_type": "display_data"
    },
    {
     "name": "stdout",
     "output_type": "stream",
     "text": [
      "frame 238 / 345\n"
     ]
    },
    {
     "data": {
      "application/vnd.jupyter.widget-view+json": {
       "model_id": "38100913f0814a0da2e4fd65aa66e928",
       "version_major": 2,
       "version_minor": 0
      },
      "text/plain": [
       "  0%|          | 0/500 [00:00<?, ?it/s]"
      ]
     },
     "metadata": {},
     "output_type": "display_data"
    },
    {
     "name": "stdout",
     "output_type": "stream",
     "text": [
      "frame 239 / 345\n"
     ]
    },
    {
     "data": {
      "application/vnd.jupyter.widget-view+json": {
       "model_id": "5a43206fd07e4929ad34b501d0c62924",
       "version_major": 2,
       "version_minor": 0
      },
      "text/plain": [
       "  0%|          | 0/500 [00:00<?, ?it/s]"
      ]
     },
     "metadata": {},
     "output_type": "display_data"
    },
    {
     "name": "stdout",
     "output_type": "stream",
     "text": [
      "frame 240 / 345\n"
     ]
    },
    {
     "data": {
      "application/vnd.jupyter.widget-view+json": {
       "model_id": "0ea0a1d8264e4db3a946b27a2cf77e90",
       "version_major": 2,
       "version_minor": 0
      },
      "text/plain": [
       "  0%|          | 0/500 [00:00<?, ?it/s]"
      ]
     },
     "metadata": {},
     "output_type": "display_data"
    },
    {
     "name": "stdout",
     "output_type": "stream",
     "text": [
      "frame 241 / 345\n"
     ]
    },
    {
     "data": {
      "application/vnd.jupyter.widget-view+json": {
       "model_id": "c9bc8db017d24737858d6eab11e59ebc",
       "version_major": 2,
       "version_minor": 0
      },
      "text/plain": [
       "  0%|          | 0/500 [00:00<?, ?it/s]"
      ]
     },
     "metadata": {},
     "output_type": "display_data"
    },
    {
     "name": "stdout",
     "output_type": "stream",
     "text": [
      "frame 242 / 345\n"
     ]
    },
    {
     "data": {
      "application/vnd.jupyter.widget-view+json": {
       "model_id": "cd76ad395200403ca471c2228418643e",
       "version_major": 2,
       "version_minor": 0
      },
      "text/plain": [
       "  0%|          | 0/500 [00:00<?, ?it/s]"
      ]
     },
     "metadata": {},
     "output_type": "display_data"
    },
    {
     "name": "stdout",
     "output_type": "stream",
     "text": [
      "frame 243 / 345\n"
     ]
    },
    {
     "data": {
      "application/vnd.jupyter.widget-view+json": {
       "model_id": "f24cf4005f544bf2bb0167131b09f1b9",
       "version_major": 2,
       "version_minor": 0
      },
      "text/plain": [
       "  0%|          | 0/500 [00:00<?, ?it/s]"
      ]
     },
     "metadata": {},
     "output_type": "display_data"
    },
    {
     "name": "stdout",
     "output_type": "stream",
     "text": [
      "frame 244 / 345\n"
     ]
    },
    {
     "data": {
      "application/vnd.jupyter.widget-view+json": {
       "model_id": "9b6a5b5e345b4fe88afca746d4b72251",
       "version_major": 2,
       "version_minor": 0
      },
      "text/plain": [
       "  0%|          | 0/500 [00:00<?, ?it/s]"
      ]
     },
     "metadata": {},
     "output_type": "display_data"
    },
    {
     "name": "stdout",
     "output_type": "stream",
     "text": [
      "frame 245 / 345\n"
     ]
    },
    {
     "data": {
      "application/vnd.jupyter.widget-view+json": {
       "model_id": "a621d1f0bcff471f8955c782b2eccd1e",
       "version_major": 2,
       "version_minor": 0
      },
      "text/plain": [
       "  0%|          | 0/500 [00:00<?, ?it/s]"
      ]
     },
     "metadata": {},
     "output_type": "display_data"
    },
    {
     "name": "stdout",
     "output_type": "stream",
     "text": [
      "frame 246 / 345\n"
     ]
    },
    {
     "data": {
      "application/vnd.jupyter.widget-view+json": {
       "model_id": "38259dc3e8b84c08b0af7c393667a486",
       "version_major": 2,
       "version_minor": 0
      },
      "text/plain": [
       "  0%|          | 0/500 [00:00<?, ?it/s]"
      ]
     },
     "metadata": {},
     "output_type": "display_data"
    },
    {
     "name": "stdout",
     "output_type": "stream",
     "text": [
      "frame 247 / 345\n"
     ]
    },
    {
     "data": {
      "application/vnd.jupyter.widget-view+json": {
       "model_id": "930ccf9653d74a98aa105a778e24dc01",
       "version_major": 2,
       "version_minor": 0
      },
      "text/plain": [
       "  0%|          | 0/500 [00:00<?, ?it/s]"
      ]
     },
     "metadata": {},
     "output_type": "display_data"
    },
    {
     "name": "stdout",
     "output_type": "stream",
     "text": [
      "frame 248 / 345\n"
     ]
    },
    {
     "data": {
      "application/vnd.jupyter.widget-view+json": {
       "model_id": "992dc03f05f74065bad2fcab86ad5106",
       "version_major": 2,
       "version_minor": 0
      },
      "text/plain": [
       "  0%|          | 0/500 [00:00<?, ?it/s]"
      ]
     },
     "metadata": {},
     "output_type": "display_data"
    },
    {
     "name": "stdout",
     "output_type": "stream",
     "text": [
      "frame 249 / 345\n"
     ]
    },
    {
     "data": {
      "application/vnd.jupyter.widget-view+json": {
       "model_id": "a032286bdb874a15a5423f212d11c89e",
       "version_major": 2,
       "version_minor": 0
      },
      "text/plain": [
       "  0%|          | 0/500 [00:00<?, ?it/s]"
      ]
     },
     "metadata": {},
     "output_type": "display_data"
    },
    {
     "name": "stdout",
     "output_type": "stream",
     "text": [
      "frame 250 / 345\n"
     ]
    },
    {
     "data": {
      "application/vnd.jupyter.widget-view+json": {
       "model_id": "c33923193357489485f924322c600b5d",
       "version_major": 2,
       "version_minor": 0
      },
      "text/plain": [
       "  0%|          | 0/500 [00:00<?, ?it/s]"
      ]
     },
     "metadata": {},
     "output_type": "display_data"
    },
    {
     "name": "stdout",
     "output_type": "stream",
     "text": [
      "frame 251 / 345\n"
     ]
    },
    {
     "data": {
      "application/vnd.jupyter.widget-view+json": {
       "model_id": "93f99d1f32c043bfbd7113a57d007a9c",
       "version_major": 2,
       "version_minor": 0
      },
      "text/plain": [
       "  0%|          | 0/500 [00:00<?, ?it/s]"
      ]
     },
     "metadata": {},
     "output_type": "display_data"
    },
    {
     "name": "stdout",
     "output_type": "stream",
     "text": [
      "frame 252 / 345\n"
     ]
    },
    {
     "data": {
      "application/vnd.jupyter.widget-view+json": {
       "model_id": "2e43f5cbb97046518780b363e42827b7",
       "version_major": 2,
       "version_minor": 0
      },
      "text/plain": [
       "  0%|          | 0/500 [00:00<?, ?it/s]"
      ]
     },
     "metadata": {},
     "output_type": "display_data"
    },
    {
     "name": "stdout",
     "output_type": "stream",
     "text": [
      "frame 253 / 345\n"
     ]
    },
    {
     "data": {
      "application/vnd.jupyter.widget-view+json": {
       "model_id": "721086faa4e14619805eacd9a226eb82",
       "version_major": 2,
       "version_minor": 0
      },
      "text/plain": [
       "  0%|          | 0/500 [00:00<?, ?it/s]"
      ]
     },
     "metadata": {},
     "output_type": "display_data"
    },
    {
     "name": "stdout",
     "output_type": "stream",
     "text": [
      "frame 254 / 345\n"
     ]
    },
    {
     "data": {
      "application/vnd.jupyter.widget-view+json": {
       "model_id": "b39e331b6bf342c0855bc817e3d0d137",
       "version_major": 2,
       "version_minor": 0
      },
      "text/plain": [
       "  0%|          | 0/500 [00:00<?, ?it/s]"
      ]
     },
     "metadata": {},
     "output_type": "display_data"
    },
    {
     "name": "stdout",
     "output_type": "stream",
     "text": [
      "frame 255 / 345\n"
     ]
    },
    {
     "data": {
      "application/vnd.jupyter.widget-view+json": {
       "model_id": "82f863024ac0409895241643533a2bff",
       "version_major": 2,
       "version_minor": 0
      },
      "text/plain": [
       "  0%|          | 0/500 [00:00<?, ?it/s]"
      ]
     },
     "metadata": {},
     "output_type": "display_data"
    },
    {
     "name": "stdout",
     "output_type": "stream",
     "text": [
      "frame 256 / 345\n"
     ]
    },
    {
     "data": {
      "application/vnd.jupyter.widget-view+json": {
       "model_id": "8f92888064624ce7992ad9cb903d2cdd",
       "version_major": 2,
       "version_minor": 0
      },
      "text/plain": [
       "  0%|          | 0/500 [00:00<?, ?it/s]"
      ]
     },
     "metadata": {},
     "output_type": "display_data"
    },
    {
     "name": "stdout",
     "output_type": "stream",
     "text": [
      "frame 257 / 345\n"
     ]
    },
    {
     "data": {
      "application/vnd.jupyter.widget-view+json": {
       "model_id": "7d9826451cd146688507ad379772a237",
       "version_major": 2,
       "version_minor": 0
      },
      "text/plain": [
       "  0%|          | 0/500 [00:00<?, ?it/s]"
      ]
     },
     "metadata": {},
     "output_type": "display_data"
    },
    {
     "name": "stdout",
     "output_type": "stream",
     "text": [
      "frame 258 / 345\n"
     ]
    },
    {
     "data": {
      "application/vnd.jupyter.widget-view+json": {
       "model_id": "bf676a20a6d847da831431a5096aff74",
       "version_major": 2,
       "version_minor": 0
      },
      "text/plain": [
       "  0%|          | 0/500 [00:00<?, ?it/s]"
      ]
     },
     "metadata": {},
     "output_type": "display_data"
    },
    {
     "name": "stdout",
     "output_type": "stream",
     "text": [
      "frame 259 / 345\n"
     ]
    },
    {
     "data": {
      "application/vnd.jupyter.widget-view+json": {
       "model_id": "2095cac3744e42a1bc9000744835237d",
       "version_major": 2,
       "version_minor": 0
      },
      "text/plain": [
       "  0%|          | 0/500 [00:00<?, ?it/s]"
      ]
     },
     "metadata": {},
     "output_type": "display_data"
    },
    {
     "name": "stdout",
     "output_type": "stream",
     "text": [
      "frame 260 / 345\n"
     ]
    },
    {
     "data": {
      "application/vnd.jupyter.widget-view+json": {
       "model_id": "19c9293e95fc4f878134963e243fc73a",
       "version_major": 2,
       "version_minor": 0
      },
      "text/plain": [
       "  0%|          | 0/500 [00:00<?, ?it/s]"
      ]
     },
     "metadata": {},
     "output_type": "display_data"
    },
    {
     "name": "stdout",
     "output_type": "stream",
     "text": [
      "frame 261 / 345\n"
     ]
    },
    {
     "data": {
      "application/vnd.jupyter.widget-view+json": {
       "model_id": "bf50f8f5692e4e15a46c100ad2e070f1",
       "version_major": 2,
       "version_minor": 0
      },
      "text/plain": [
       "  0%|          | 0/500 [00:00<?, ?it/s]"
      ]
     },
     "metadata": {},
     "output_type": "display_data"
    },
    {
     "name": "stdout",
     "output_type": "stream",
     "text": [
      "frame 262 / 345\n"
     ]
    },
    {
     "data": {
      "application/vnd.jupyter.widget-view+json": {
       "model_id": "2810d60f74e94752ac406c0c5564daf8",
       "version_major": 2,
       "version_minor": 0
      },
      "text/plain": [
       "  0%|          | 0/500 [00:00<?, ?it/s]"
      ]
     },
     "metadata": {},
     "output_type": "display_data"
    },
    {
     "name": "stdout",
     "output_type": "stream",
     "text": [
      "frame 263 / 345\n"
     ]
    },
    {
     "data": {
      "application/vnd.jupyter.widget-view+json": {
       "model_id": "519d78badabc4e70855eb3a115d71447",
       "version_major": 2,
       "version_minor": 0
      },
      "text/plain": [
       "  0%|          | 0/500 [00:00<?, ?it/s]"
      ]
     },
     "metadata": {},
     "output_type": "display_data"
    },
    {
     "name": "stdout",
     "output_type": "stream",
     "text": [
      "frame 264 / 345\n"
     ]
    },
    {
     "data": {
      "application/vnd.jupyter.widget-view+json": {
       "model_id": "84b97b55faaa444686576d1f370f3255",
       "version_major": 2,
       "version_minor": 0
      },
      "text/plain": [
       "  0%|          | 0/500 [00:00<?, ?it/s]"
      ]
     },
     "metadata": {},
     "output_type": "display_data"
    },
    {
     "name": "stdout",
     "output_type": "stream",
     "text": [
      "frame 265 / 345\n"
     ]
    },
    {
     "data": {
      "application/vnd.jupyter.widget-view+json": {
       "model_id": "d18af249bcc54bf5b0cf64b37c1afef3",
       "version_major": 2,
       "version_minor": 0
      },
      "text/plain": [
       "  0%|          | 0/500 [00:00<?, ?it/s]"
      ]
     },
     "metadata": {},
     "output_type": "display_data"
    },
    {
     "name": "stdout",
     "output_type": "stream",
     "text": [
      "frame 266 / 345\n"
     ]
    },
    {
     "data": {
      "application/vnd.jupyter.widget-view+json": {
       "model_id": "6ece920d0ef5484d91d650a81d89bf32",
       "version_major": 2,
       "version_minor": 0
      },
      "text/plain": [
       "  0%|          | 0/500 [00:00<?, ?it/s]"
      ]
     },
     "metadata": {},
     "output_type": "display_data"
    },
    {
     "name": "stdout",
     "output_type": "stream",
     "text": [
      "frame 267 / 345\n"
     ]
    },
    {
     "data": {
      "application/vnd.jupyter.widget-view+json": {
       "model_id": "8f01a43bd95646c7b3ba53dc5d6b8542",
       "version_major": 2,
       "version_minor": 0
      },
      "text/plain": [
       "  0%|          | 0/500 [00:00<?, ?it/s]"
      ]
     },
     "metadata": {},
     "output_type": "display_data"
    },
    {
     "name": "stdout",
     "output_type": "stream",
     "text": [
      "frame 268 / 345\n"
     ]
    },
    {
     "data": {
      "application/vnd.jupyter.widget-view+json": {
       "model_id": "04c1e0a0f6d1490495e299288fb120d6",
       "version_major": 2,
       "version_minor": 0
      },
      "text/plain": [
       "  0%|          | 0/500 [00:00<?, ?it/s]"
      ]
     },
     "metadata": {},
     "output_type": "display_data"
    },
    {
     "name": "stdout",
     "output_type": "stream",
     "text": [
      "frame 269 / 345\n"
     ]
    },
    {
     "data": {
      "application/vnd.jupyter.widget-view+json": {
       "model_id": "215a1ba4fec14b24951729d2844d0d81",
       "version_major": 2,
       "version_minor": 0
      },
      "text/plain": [
       "  0%|          | 0/500 [00:00<?, ?it/s]"
      ]
     },
     "metadata": {},
     "output_type": "display_data"
    },
    {
     "name": "stdout",
     "output_type": "stream",
     "text": [
      "frame 270 / 345\n"
     ]
    },
    {
     "data": {
      "application/vnd.jupyter.widget-view+json": {
       "model_id": "b59c6b370c0f41b6a011775f43ad441c",
       "version_major": 2,
       "version_minor": 0
      },
      "text/plain": [
       "  0%|          | 0/500 [00:00<?, ?it/s]"
      ]
     },
     "metadata": {},
     "output_type": "display_data"
    },
    {
     "name": "stdout",
     "output_type": "stream",
     "text": [
      "frame 271 / 345\n"
     ]
    },
    {
     "data": {
      "application/vnd.jupyter.widget-view+json": {
       "model_id": "86dec7e40c5b4e8fbdc04791d51bd01d",
       "version_major": 2,
       "version_minor": 0
      },
      "text/plain": [
       "  0%|          | 0/500 [00:00<?, ?it/s]"
      ]
     },
     "metadata": {},
     "output_type": "display_data"
    },
    {
     "name": "stdout",
     "output_type": "stream",
     "text": [
      "frame 272 / 345\n"
     ]
    },
    {
     "data": {
      "application/vnd.jupyter.widget-view+json": {
       "model_id": "6f1cfd24891e439eb7998f26ca309954",
       "version_major": 2,
       "version_minor": 0
      },
      "text/plain": [
       "  0%|          | 0/500 [00:00<?, ?it/s]"
      ]
     },
     "metadata": {},
     "output_type": "display_data"
    },
    {
     "name": "stdout",
     "output_type": "stream",
     "text": [
      "frame 273 / 345\n"
     ]
    },
    {
     "data": {
      "application/vnd.jupyter.widget-view+json": {
       "model_id": "cbdcb7e7fb3944c09ffdfc6bff15eb46",
       "version_major": 2,
       "version_minor": 0
      },
      "text/plain": [
       "  0%|          | 0/500 [00:00<?, ?it/s]"
      ]
     },
     "metadata": {},
     "output_type": "display_data"
    },
    {
     "name": "stdout",
     "output_type": "stream",
     "text": [
      "frame 274 / 345\n"
     ]
    },
    {
     "data": {
      "application/vnd.jupyter.widget-view+json": {
       "model_id": "0ee202b842c64d74a792efbc33353012",
       "version_major": 2,
       "version_minor": 0
      },
      "text/plain": [
       "  0%|          | 0/500 [00:00<?, ?it/s]"
      ]
     },
     "metadata": {},
     "output_type": "display_data"
    },
    {
     "name": "stdout",
     "output_type": "stream",
     "text": [
      "frame 275 / 345\n"
     ]
    },
    {
     "data": {
      "application/vnd.jupyter.widget-view+json": {
       "model_id": "e60e37331c7a450595c4e4db5ea595d4",
       "version_major": 2,
       "version_minor": 0
      },
      "text/plain": [
       "  0%|          | 0/500 [00:00<?, ?it/s]"
      ]
     },
     "metadata": {},
     "output_type": "display_data"
    },
    {
     "name": "stdout",
     "output_type": "stream",
     "text": [
      "frame 276 / 345\n"
     ]
    },
    {
     "data": {
      "application/vnd.jupyter.widget-view+json": {
       "model_id": "7def2806368446b892283867f29758ac",
       "version_major": 2,
       "version_minor": 0
      },
      "text/plain": [
       "  0%|          | 0/500 [00:00<?, ?it/s]"
      ]
     },
     "metadata": {},
     "output_type": "display_data"
    },
    {
     "name": "stdout",
     "output_type": "stream",
     "text": [
      "frame 277 / 345\n"
     ]
    },
    {
     "data": {
      "application/vnd.jupyter.widget-view+json": {
       "model_id": "fa7f343ebecc43d09e5fa5d3e88b3e0b",
       "version_major": 2,
       "version_minor": 0
      },
      "text/plain": [
       "  0%|          | 0/500 [00:00<?, ?it/s]"
      ]
     },
     "metadata": {},
     "output_type": "display_data"
    },
    {
     "name": "stdout",
     "output_type": "stream",
     "text": [
      "frame 278 / 345\n"
     ]
    },
    {
     "data": {
      "application/vnd.jupyter.widget-view+json": {
       "model_id": "1b7f5feb88a8481b888fa3eff6217fe5",
       "version_major": 2,
       "version_minor": 0
      },
      "text/plain": [
       "  0%|          | 0/500 [00:00<?, ?it/s]"
      ]
     },
     "metadata": {},
     "output_type": "display_data"
    },
    {
     "name": "stdout",
     "output_type": "stream",
     "text": [
      "frame 279 / 345\n"
     ]
    },
    {
     "data": {
      "application/vnd.jupyter.widget-view+json": {
       "model_id": "eff588a812c74981aa943e8938b32989",
       "version_major": 2,
       "version_minor": 0
      },
      "text/plain": [
       "  0%|          | 0/500 [00:00<?, ?it/s]"
      ]
     },
     "metadata": {},
     "output_type": "display_data"
    },
    {
     "name": "stdout",
     "output_type": "stream",
     "text": [
      "frame 280 / 345\n"
     ]
    },
    {
     "data": {
      "application/vnd.jupyter.widget-view+json": {
       "model_id": "3f819e6f5d9c421bb0e52761e9e96556",
       "version_major": 2,
       "version_minor": 0
      },
      "text/plain": [
       "  0%|          | 0/500 [00:00<?, ?it/s]"
      ]
     },
     "metadata": {},
     "output_type": "display_data"
    },
    {
     "name": "stdout",
     "output_type": "stream",
     "text": [
      "frame 281 / 345\n"
     ]
    },
    {
     "data": {
      "application/vnd.jupyter.widget-view+json": {
       "model_id": "e5e1ca8dc2c840be969720ec95ea17a5",
       "version_major": 2,
       "version_minor": 0
      },
      "text/plain": [
       "  0%|          | 0/500 [00:00<?, ?it/s]"
      ]
     },
     "metadata": {},
     "output_type": "display_data"
    },
    {
     "name": "stdout",
     "output_type": "stream",
     "text": [
      "frame 282 / 345\n"
     ]
    },
    {
     "data": {
      "application/vnd.jupyter.widget-view+json": {
       "model_id": "b32efef2503f40758bbb32e22e6a65e4",
       "version_major": 2,
       "version_minor": 0
      },
      "text/plain": [
       "  0%|          | 0/500 [00:00<?, ?it/s]"
      ]
     },
     "metadata": {},
     "output_type": "display_data"
    },
    {
     "name": "stdout",
     "output_type": "stream",
     "text": [
      "frame 283 / 345\n"
     ]
    },
    {
     "data": {
      "application/vnd.jupyter.widget-view+json": {
       "model_id": "3d56f9a432e043639e7a4631d0f0f324",
       "version_major": 2,
       "version_minor": 0
      },
      "text/plain": [
       "  0%|          | 0/500 [00:00<?, ?it/s]"
      ]
     },
     "metadata": {},
     "output_type": "display_data"
    },
    {
     "name": "stdout",
     "output_type": "stream",
     "text": [
      "frame 284 / 345\n"
     ]
    },
    {
     "data": {
      "application/vnd.jupyter.widget-view+json": {
       "model_id": "cc1aec4214d14a2dba70b7df8fd01c20",
       "version_major": 2,
       "version_minor": 0
      },
      "text/plain": [
       "  0%|          | 0/500 [00:00<?, ?it/s]"
      ]
     },
     "metadata": {},
     "output_type": "display_data"
    },
    {
     "name": "stdout",
     "output_type": "stream",
     "text": [
      "frame 285 / 345\n"
     ]
    },
    {
     "data": {
      "application/vnd.jupyter.widget-view+json": {
       "model_id": "9a907e63333348b6b0035a89d5104d27",
       "version_major": 2,
       "version_minor": 0
      },
      "text/plain": [
       "  0%|          | 0/500 [00:00<?, ?it/s]"
      ]
     },
     "metadata": {},
     "output_type": "display_data"
    },
    {
     "name": "stdout",
     "output_type": "stream",
     "text": [
      "frame 286 / 345\n"
     ]
    },
    {
     "data": {
      "application/vnd.jupyter.widget-view+json": {
       "model_id": "584d1398779e408fb72d55ffb8d62d4d",
       "version_major": 2,
       "version_minor": 0
      },
      "text/plain": [
       "  0%|          | 0/500 [00:00<?, ?it/s]"
      ]
     },
     "metadata": {},
     "output_type": "display_data"
    },
    {
     "name": "stdout",
     "output_type": "stream",
     "text": [
      "frame 287 / 345\n"
     ]
    },
    {
     "data": {
      "application/vnd.jupyter.widget-view+json": {
       "model_id": "34811beab96d457ea508b65ad771bb60",
       "version_major": 2,
       "version_minor": 0
      },
      "text/plain": [
       "  0%|          | 0/500 [00:00<?, ?it/s]"
      ]
     },
     "metadata": {},
     "output_type": "display_data"
    },
    {
     "name": "stdout",
     "output_type": "stream",
     "text": [
      "frame 288 / 345\n"
     ]
    },
    {
     "data": {
      "application/vnd.jupyter.widget-view+json": {
       "model_id": "4095248c75744c32bdd04e178cc64d8e",
       "version_major": 2,
       "version_minor": 0
      },
      "text/plain": [
       "  0%|          | 0/500 [00:00<?, ?it/s]"
      ]
     },
     "metadata": {},
     "output_type": "display_data"
    },
    {
     "name": "stdout",
     "output_type": "stream",
     "text": [
      "frame 289 / 345\n"
     ]
    },
    {
     "data": {
      "application/vnd.jupyter.widget-view+json": {
       "model_id": "edcdb95b96dc4d9983619312649401eb",
       "version_major": 2,
       "version_minor": 0
      },
      "text/plain": [
       "  0%|          | 0/500 [00:00<?, ?it/s]"
      ]
     },
     "metadata": {},
     "output_type": "display_data"
    },
    {
     "name": "stdout",
     "output_type": "stream",
     "text": [
      "frame 290 / 345\n"
     ]
    },
    {
     "data": {
      "application/vnd.jupyter.widget-view+json": {
       "model_id": "4ec91f87512149d9aadbdeb6243e1fdd",
       "version_major": 2,
       "version_minor": 0
      },
      "text/plain": [
       "  0%|          | 0/500 [00:00<?, ?it/s]"
      ]
     },
     "metadata": {},
     "output_type": "display_data"
    },
    {
     "name": "stdout",
     "output_type": "stream",
     "text": [
      "frame 291 / 345\n"
     ]
    },
    {
     "data": {
      "application/vnd.jupyter.widget-view+json": {
       "model_id": "b8d04bc35dd543b6b862511c554dd0fb",
       "version_major": 2,
       "version_minor": 0
      },
      "text/plain": [
       "  0%|          | 0/500 [00:00<?, ?it/s]"
      ]
     },
     "metadata": {},
     "output_type": "display_data"
    },
    {
     "name": "stdout",
     "output_type": "stream",
     "text": [
      "frame 292 / 345\n"
     ]
    },
    {
     "data": {
      "application/vnd.jupyter.widget-view+json": {
       "model_id": "786ac4cd02104d48a47cf46b30299479",
       "version_major": 2,
       "version_minor": 0
      },
      "text/plain": [
       "  0%|          | 0/500 [00:00<?, ?it/s]"
      ]
     },
     "metadata": {},
     "output_type": "display_data"
    },
    {
     "name": "stdout",
     "output_type": "stream",
     "text": [
      "frame 293 / 345\n"
     ]
    },
    {
     "data": {
      "application/vnd.jupyter.widget-view+json": {
       "model_id": "015e77629a5f42f3b5b3519ca6b789c4",
       "version_major": 2,
       "version_minor": 0
      },
      "text/plain": [
       "  0%|          | 0/500 [00:00<?, ?it/s]"
      ]
     },
     "metadata": {},
     "output_type": "display_data"
    },
    {
     "name": "stdout",
     "output_type": "stream",
     "text": [
      "frame 294 / 345\n"
     ]
    },
    {
     "data": {
      "application/vnd.jupyter.widget-view+json": {
       "model_id": "43febe7732ee407a964774a0d94d7e90",
       "version_major": 2,
       "version_minor": 0
      },
      "text/plain": [
       "  0%|          | 0/500 [00:00<?, ?it/s]"
      ]
     },
     "metadata": {},
     "output_type": "display_data"
    },
    {
     "name": "stdout",
     "output_type": "stream",
     "text": [
      "frame 295 / 345\n"
     ]
    },
    {
     "data": {
      "application/vnd.jupyter.widget-view+json": {
       "model_id": "04a543c7f1b14e5eaca6b109fa0d929a",
       "version_major": 2,
       "version_minor": 0
      },
      "text/plain": [
       "  0%|          | 0/500 [00:00<?, ?it/s]"
      ]
     },
     "metadata": {},
     "output_type": "display_data"
    },
    {
     "name": "stdout",
     "output_type": "stream",
     "text": [
      "frame 296 / 345\n"
     ]
    },
    {
     "data": {
      "application/vnd.jupyter.widget-view+json": {
       "model_id": "d127790981744dddb5a62a10a43dec89",
       "version_major": 2,
       "version_minor": 0
      },
      "text/plain": [
       "  0%|          | 0/500 [00:00<?, ?it/s]"
      ]
     },
     "metadata": {},
     "output_type": "display_data"
    },
    {
     "name": "stdout",
     "output_type": "stream",
     "text": [
      "frame 297 / 345\n"
     ]
    },
    {
     "data": {
      "application/vnd.jupyter.widget-view+json": {
       "model_id": "e954383adb9641b6a5bbcfc148991172",
       "version_major": 2,
       "version_minor": 0
      },
      "text/plain": [
       "  0%|          | 0/500 [00:00<?, ?it/s]"
      ]
     },
     "metadata": {},
     "output_type": "display_data"
    },
    {
     "name": "stdout",
     "output_type": "stream",
     "text": [
      "frame 298 / 345\n"
     ]
    },
    {
     "data": {
      "application/vnd.jupyter.widget-view+json": {
       "model_id": "1a549d3b2af14ba6be2bebb9b41aa7bd",
       "version_major": 2,
       "version_minor": 0
      },
      "text/plain": [
       "  0%|          | 0/500 [00:00<?, ?it/s]"
      ]
     },
     "metadata": {},
     "output_type": "display_data"
    },
    {
     "name": "stdout",
     "output_type": "stream",
     "text": [
      "frame 299 / 345\n"
     ]
    },
    {
     "data": {
      "application/vnd.jupyter.widget-view+json": {
       "model_id": "31c8ff6c748e43bf9fbe7d28765e8867",
       "version_major": 2,
       "version_minor": 0
      },
      "text/plain": [
       "  0%|          | 0/500 [00:00<?, ?it/s]"
      ]
     },
     "metadata": {},
     "output_type": "display_data"
    },
    {
     "name": "stdout",
     "output_type": "stream",
     "text": [
      "frame 300 / 345\n"
     ]
    },
    {
     "data": {
      "application/vnd.jupyter.widget-view+json": {
       "model_id": "1a2490f1b56440db9da58b39d45b7544",
       "version_major": 2,
       "version_minor": 0
      },
      "text/plain": [
       "  0%|          | 0/500 [00:00<?, ?it/s]"
      ]
     },
     "metadata": {},
     "output_type": "display_data"
    },
    {
     "name": "stdout",
     "output_type": "stream",
     "text": [
      "frame 301 / 345\n"
     ]
    },
    {
     "data": {
      "application/vnd.jupyter.widget-view+json": {
       "model_id": "a79c944b3a5046cda8bf3fda669be66f",
       "version_major": 2,
       "version_minor": 0
      },
      "text/plain": [
       "  0%|          | 0/500 [00:00<?, ?it/s]"
      ]
     },
     "metadata": {},
     "output_type": "display_data"
    },
    {
     "name": "stdout",
     "output_type": "stream",
     "text": [
      "frame 302 / 345\n"
     ]
    },
    {
     "data": {
      "application/vnd.jupyter.widget-view+json": {
       "model_id": "da1284d063a447f09c4b1673783b42b3",
       "version_major": 2,
       "version_minor": 0
      },
      "text/plain": [
       "  0%|          | 0/500 [00:00<?, ?it/s]"
      ]
     },
     "metadata": {},
     "output_type": "display_data"
    },
    {
     "name": "stdout",
     "output_type": "stream",
     "text": [
      "frame 303 / 345\n"
     ]
    },
    {
     "data": {
      "application/vnd.jupyter.widget-view+json": {
       "model_id": "b66d8102bc4b481db20748936f2558da",
       "version_major": 2,
       "version_minor": 0
      },
      "text/plain": [
       "  0%|          | 0/500 [00:00<?, ?it/s]"
      ]
     },
     "metadata": {},
     "output_type": "display_data"
    },
    {
     "name": "stdout",
     "output_type": "stream",
     "text": [
      "frame 304 / 345\n"
     ]
    },
    {
     "data": {
      "application/vnd.jupyter.widget-view+json": {
       "model_id": "db90c87168ec434281e44f2f7d665001",
       "version_major": 2,
       "version_minor": 0
      },
      "text/plain": [
       "  0%|          | 0/500 [00:00<?, ?it/s]"
      ]
     },
     "metadata": {},
     "output_type": "display_data"
    },
    {
     "name": "stdout",
     "output_type": "stream",
     "text": [
      "frame 305 / 345\n"
     ]
    },
    {
     "data": {
      "application/vnd.jupyter.widget-view+json": {
       "model_id": "764c985289b549fca365a99e3bbbc5a6",
       "version_major": 2,
       "version_minor": 0
      },
      "text/plain": [
       "  0%|          | 0/500 [00:00<?, ?it/s]"
      ]
     },
     "metadata": {},
     "output_type": "display_data"
    },
    {
     "name": "stdout",
     "output_type": "stream",
     "text": [
      "frame 306 / 345\n"
     ]
    },
    {
     "data": {
      "application/vnd.jupyter.widget-view+json": {
       "model_id": "24fdb5d2c57c4841884a6de4d17939c8",
       "version_major": 2,
       "version_minor": 0
      },
      "text/plain": [
       "  0%|          | 0/500 [00:00<?, ?it/s]"
      ]
     },
     "metadata": {},
     "output_type": "display_data"
    },
    {
     "name": "stdout",
     "output_type": "stream",
     "text": [
      "frame 307 / 345\n"
     ]
    },
    {
     "data": {
      "application/vnd.jupyter.widget-view+json": {
       "model_id": "90016a4f5d654d5f94f30a49f2680e59",
       "version_major": 2,
       "version_minor": 0
      },
      "text/plain": [
       "  0%|          | 0/500 [00:00<?, ?it/s]"
      ]
     },
     "metadata": {},
     "output_type": "display_data"
    },
    {
     "name": "stdout",
     "output_type": "stream",
     "text": [
      "frame 308 / 345\n"
     ]
    },
    {
     "data": {
      "application/vnd.jupyter.widget-view+json": {
       "model_id": "33db17e9cf5c46b6a7fd8a311e277872",
       "version_major": 2,
       "version_minor": 0
      },
      "text/plain": [
       "  0%|          | 0/500 [00:00<?, ?it/s]"
      ]
     },
     "metadata": {},
     "output_type": "display_data"
    },
    {
     "name": "stdout",
     "output_type": "stream",
     "text": [
      "frame 309 / 345\n"
     ]
    },
    {
     "data": {
      "application/vnd.jupyter.widget-view+json": {
       "model_id": "5488528aaa864f5c9ade5044f6c02590",
       "version_major": 2,
       "version_minor": 0
      },
      "text/plain": [
       "  0%|          | 0/500 [00:00<?, ?it/s]"
      ]
     },
     "metadata": {},
     "output_type": "display_data"
    },
    {
     "name": "stdout",
     "output_type": "stream",
     "text": [
      "frame 310 / 345\n"
     ]
    },
    {
     "data": {
      "application/vnd.jupyter.widget-view+json": {
       "model_id": "ceccd1a065ef4470b4f51020e1debdf9",
       "version_major": 2,
       "version_minor": 0
      },
      "text/plain": [
       "  0%|          | 0/500 [00:00<?, ?it/s]"
      ]
     },
     "metadata": {},
     "output_type": "display_data"
    },
    {
     "name": "stdout",
     "output_type": "stream",
     "text": [
      "frame 311 / 345\n"
     ]
    },
    {
     "data": {
      "application/vnd.jupyter.widget-view+json": {
       "model_id": "072355caef924c3297775eba9e2ccf18",
       "version_major": 2,
       "version_minor": 0
      },
      "text/plain": [
       "  0%|          | 0/500 [00:00<?, ?it/s]"
      ]
     },
     "metadata": {},
     "output_type": "display_data"
    },
    {
     "name": "stdout",
     "output_type": "stream",
     "text": [
      "frame 312 / 345\n"
     ]
    },
    {
     "data": {
      "application/vnd.jupyter.widget-view+json": {
       "model_id": "213fc3e31bfe4d45be1eb46805dd16e6",
       "version_major": 2,
       "version_minor": 0
      },
      "text/plain": [
       "  0%|          | 0/500 [00:00<?, ?it/s]"
      ]
     },
     "metadata": {},
     "output_type": "display_data"
    },
    {
     "name": "stdout",
     "output_type": "stream",
     "text": [
      "frame 313 / 345\n"
     ]
    },
    {
     "data": {
      "application/vnd.jupyter.widget-view+json": {
       "model_id": "ee4bc96fe6804dc6a19591cccb0e8b07",
       "version_major": 2,
       "version_minor": 0
      },
      "text/plain": [
       "  0%|          | 0/500 [00:00<?, ?it/s]"
      ]
     },
     "metadata": {},
     "output_type": "display_data"
    },
    {
     "name": "stdout",
     "output_type": "stream",
     "text": [
      "frame 314 / 345\n"
     ]
    },
    {
     "data": {
      "application/vnd.jupyter.widget-view+json": {
       "model_id": "aeb342a2a4de4655ae8841e09a947c21",
       "version_major": 2,
       "version_minor": 0
      },
      "text/plain": [
       "  0%|          | 0/500 [00:00<?, ?it/s]"
      ]
     },
     "metadata": {},
     "output_type": "display_data"
    },
    {
     "name": "stdout",
     "output_type": "stream",
     "text": [
      "frame 315 / 345\n"
     ]
    },
    {
     "data": {
      "application/vnd.jupyter.widget-view+json": {
       "model_id": "5351a630876a481fba5e723bda9ba6b5",
       "version_major": 2,
       "version_minor": 0
      },
      "text/plain": [
       "  0%|          | 0/500 [00:00<?, ?it/s]"
      ]
     },
     "metadata": {},
     "output_type": "display_data"
    },
    {
     "name": "stdout",
     "output_type": "stream",
     "text": [
      "frame 316 / 345\n"
     ]
    },
    {
     "data": {
      "application/vnd.jupyter.widget-view+json": {
       "model_id": "5835ad85c4074effb0fd1beb8d301f0f",
       "version_major": 2,
       "version_minor": 0
      },
      "text/plain": [
       "  0%|          | 0/500 [00:00<?, ?it/s]"
      ]
     },
     "metadata": {},
     "output_type": "display_data"
    },
    {
     "name": "stdout",
     "output_type": "stream",
     "text": [
      "frame 317 / 345\n"
     ]
    },
    {
     "data": {
      "application/vnd.jupyter.widget-view+json": {
       "model_id": "769bf75b58844c6eb09c7f36e5d3b9b3",
       "version_major": 2,
       "version_minor": 0
      },
      "text/plain": [
       "  0%|          | 0/500 [00:00<?, ?it/s]"
      ]
     },
     "metadata": {},
     "output_type": "display_data"
    },
    {
     "name": "stdout",
     "output_type": "stream",
     "text": [
      "frame 318 / 345\n"
     ]
    },
    {
     "data": {
      "application/vnd.jupyter.widget-view+json": {
       "model_id": "050c3bdf9d4d4ba5bd8a9d2bd7e16043",
       "version_major": 2,
       "version_minor": 0
      },
      "text/plain": [
       "  0%|          | 0/500 [00:00<?, ?it/s]"
      ]
     },
     "metadata": {},
     "output_type": "display_data"
    },
    {
     "name": "stdout",
     "output_type": "stream",
     "text": [
      "frame 319 / 345\n"
     ]
    },
    {
     "data": {
      "application/vnd.jupyter.widget-view+json": {
       "model_id": "ed3b6da029254c7abf77206acaad9565",
       "version_major": 2,
       "version_minor": 0
      },
      "text/plain": [
       "  0%|          | 0/500 [00:00<?, ?it/s]"
      ]
     },
     "metadata": {},
     "output_type": "display_data"
    },
    {
     "name": "stdout",
     "output_type": "stream",
     "text": [
      "frame 320 / 345\n"
     ]
    },
    {
     "data": {
      "application/vnd.jupyter.widget-view+json": {
       "model_id": "4a52fb4924524d319511ed1fefca6347",
       "version_major": 2,
       "version_minor": 0
      },
      "text/plain": [
       "  0%|          | 0/500 [00:00<?, ?it/s]"
      ]
     },
     "metadata": {},
     "output_type": "display_data"
    },
    {
     "name": "stdout",
     "output_type": "stream",
     "text": [
      "frame 321 / 345\n"
     ]
    },
    {
     "data": {
      "application/vnd.jupyter.widget-view+json": {
       "model_id": "6ad80a5f5374433eb971485184089174",
       "version_major": 2,
       "version_minor": 0
      },
      "text/plain": [
       "  0%|          | 0/500 [00:00<?, ?it/s]"
      ]
     },
     "metadata": {},
     "output_type": "display_data"
    },
    {
     "name": "stdout",
     "output_type": "stream",
     "text": [
      "frame 322 / 345\n"
     ]
    },
    {
     "data": {
      "application/vnd.jupyter.widget-view+json": {
       "model_id": "122014ab13264925b92fa6f686810e69",
       "version_major": 2,
       "version_minor": 0
      },
      "text/plain": [
       "  0%|          | 0/500 [00:00<?, ?it/s]"
      ]
     },
     "metadata": {},
     "output_type": "display_data"
    },
    {
     "name": "stdout",
     "output_type": "stream",
     "text": [
      "frame 323 / 345\n"
     ]
    },
    {
     "data": {
      "application/vnd.jupyter.widget-view+json": {
       "model_id": "5a0eaa49a64d4f3795d7924559ddb7c0",
       "version_major": 2,
       "version_minor": 0
      },
      "text/plain": [
       "  0%|          | 0/500 [00:00<?, ?it/s]"
      ]
     },
     "metadata": {},
     "output_type": "display_data"
    },
    {
     "name": "stdout",
     "output_type": "stream",
     "text": [
      "frame 324 / 345\n"
     ]
    },
    {
     "data": {
      "application/vnd.jupyter.widget-view+json": {
       "model_id": "73b89bb274954243ab4d8f59362397de",
       "version_major": 2,
       "version_minor": 0
      },
      "text/plain": [
       "  0%|          | 0/500 [00:00<?, ?it/s]"
      ]
     },
     "metadata": {},
     "output_type": "display_data"
    },
    {
     "name": "stdout",
     "output_type": "stream",
     "text": [
      "frame 325 / 345\n"
     ]
    },
    {
     "data": {
      "application/vnd.jupyter.widget-view+json": {
       "model_id": "8a627121284e45ecb52fd06a7b4974c0",
       "version_major": 2,
       "version_minor": 0
      },
      "text/plain": [
       "  0%|          | 0/500 [00:00<?, ?it/s]"
      ]
     },
     "metadata": {},
     "output_type": "display_data"
    },
    {
     "name": "stdout",
     "output_type": "stream",
     "text": [
      "frame 326 / 345\n"
     ]
    },
    {
     "data": {
      "application/vnd.jupyter.widget-view+json": {
       "model_id": "57ab55f86ee84618b932aa7b13f69cd1",
       "version_major": 2,
       "version_minor": 0
      },
      "text/plain": [
       "  0%|          | 0/500 [00:00<?, ?it/s]"
      ]
     },
     "metadata": {},
     "output_type": "display_data"
    },
    {
     "name": "stdout",
     "output_type": "stream",
     "text": [
      "frame 327 / 345\n"
     ]
    },
    {
     "data": {
      "application/vnd.jupyter.widget-view+json": {
       "model_id": "0fbb34c1b9574f3e9dbefbbb31e2bb1a",
       "version_major": 2,
       "version_minor": 0
      },
      "text/plain": [
       "  0%|          | 0/500 [00:00<?, ?it/s]"
      ]
     },
     "metadata": {},
     "output_type": "display_data"
    },
    {
     "name": "stdout",
     "output_type": "stream",
     "text": [
      "frame 328 / 345\n"
     ]
    },
    {
     "data": {
      "application/vnd.jupyter.widget-view+json": {
       "model_id": "2d2158b329014020a8e420f55512e218",
       "version_major": 2,
       "version_minor": 0
      },
      "text/plain": [
       "  0%|          | 0/500 [00:00<?, ?it/s]"
      ]
     },
     "metadata": {},
     "output_type": "display_data"
    },
    {
     "name": "stdout",
     "output_type": "stream",
     "text": [
      "frame 329 / 345\n"
     ]
    },
    {
     "data": {
      "application/vnd.jupyter.widget-view+json": {
       "model_id": "5933279718324396a5c4ad5c8156f1c2",
       "version_major": 2,
       "version_minor": 0
      },
      "text/plain": [
       "  0%|          | 0/500 [00:00<?, ?it/s]"
      ]
     },
     "metadata": {},
     "output_type": "display_data"
    },
    {
     "name": "stdout",
     "output_type": "stream",
     "text": [
      "frame 330 / 345\n"
     ]
    },
    {
     "data": {
      "application/vnd.jupyter.widget-view+json": {
       "model_id": "9f6126e407af40c08678c1a6ec13ba71",
       "version_major": 2,
       "version_minor": 0
      },
      "text/plain": [
       "  0%|          | 0/500 [00:00<?, ?it/s]"
      ]
     },
     "metadata": {},
     "output_type": "display_data"
    },
    {
     "name": "stdout",
     "output_type": "stream",
     "text": [
      "frame 331 / 345\n"
     ]
    },
    {
     "data": {
      "application/vnd.jupyter.widget-view+json": {
       "model_id": "682df0a9082a4724a8fa84a3dc23fb92",
       "version_major": 2,
       "version_minor": 0
      },
      "text/plain": [
       "  0%|          | 0/500 [00:00<?, ?it/s]"
      ]
     },
     "metadata": {},
     "output_type": "display_data"
    },
    {
     "name": "stdout",
     "output_type": "stream",
     "text": [
      "frame 332 / 345\n"
     ]
    },
    {
     "data": {
      "application/vnd.jupyter.widget-view+json": {
       "model_id": "8ac4bd2bba484e888f5227afd48a9ea3",
       "version_major": 2,
       "version_minor": 0
      },
      "text/plain": [
       "  0%|          | 0/500 [00:00<?, ?it/s]"
      ]
     },
     "metadata": {},
     "output_type": "display_data"
    },
    {
     "name": "stdout",
     "output_type": "stream",
     "text": [
      "frame 333 / 345\n"
     ]
    },
    {
     "data": {
      "application/vnd.jupyter.widget-view+json": {
       "model_id": "b1477d60603c417fa4196e8ef3dca59a",
       "version_major": 2,
       "version_minor": 0
      },
      "text/plain": [
       "  0%|          | 0/500 [00:00<?, ?it/s]"
      ]
     },
     "metadata": {},
     "output_type": "display_data"
    },
    {
     "name": "stdout",
     "output_type": "stream",
     "text": [
      "frame 334 / 345\n"
     ]
    },
    {
     "data": {
      "application/vnd.jupyter.widget-view+json": {
       "model_id": "e1f62d6560c54f08a5f9a40cb7bc258d",
       "version_major": 2,
       "version_minor": 0
      },
      "text/plain": [
       "  0%|          | 0/500 [00:00<?, ?it/s]"
      ]
     },
     "metadata": {},
     "output_type": "display_data"
    },
    {
     "name": "stdout",
     "output_type": "stream",
     "text": [
      "frame 335 / 345\n"
     ]
    },
    {
     "data": {
      "application/vnd.jupyter.widget-view+json": {
       "model_id": "73cf5b21eaec4e669abec6147ae81d9d",
       "version_major": 2,
       "version_minor": 0
      },
      "text/plain": [
       "  0%|          | 0/500 [00:00<?, ?it/s]"
      ]
     },
     "metadata": {},
     "output_type": "display_data"
    },
    {
     "name": "stdout",
     "output_type": "stream",
     "text": [
      "frame 336 / 345\n"
     ]
    },
    {
     "data": {
      "application/vnd.jupyter.widget-view+json": {
       "model_id": "9a13c95f2d4240e8a074fd81e57861fc",
       "version_major": 2,
       "version_minor": 0
      },
      "text/plain": [
       "  0%|          | 0/500 [00:00<?, ?it/s]"
      ]
     },
     "metadata": {},
     "output_type": "display_data"
    },
    {
     "name": "stdout",
     "output_type": "stream",
     "text": [
      "frame 337 / 345\n"
     ]
    },
    {
     "data": {
      "application/vnd.jupyter.widget-view+json": {
       "model_id": "4497a79ca91c4705862f9efac4921a1e",
       "version_major": 2,
       "version_minor": 0
      },
      "text/plain": [
       "  0%|          | 0/500 [00:00<?, ?it/s]"
      ]
     },
     "metadata": {},
     "output_type": "display_data"
    },
    {
     "name": "stdout",
     "output_type": "stream",
     "text": [
      "frame 338 / 345\n"
     ]
    },
    {
     "data": {
      "application/vnd.jupyter.widget-view+json": {
       "model_id": "4fb04454ce7b4ef490849dddcd399bc2",
       "version_major": 2,
       "version_minor": 0
      },
      "text/plain": [
       "  0%|          | 0/500 [00:00<?, ?it/s]"
      ]
     },
     "metadata": {},
     "output_type": "display_data"
    },
    {
     "name": "stdout",
     "output_type": "stream",
     "text": [
      "frame 339 / 345\n"
     ]
    },
    {
     "data": {
      "application/vnd.jupyter.widget-view+json": {
       "model_id": "34383ab7b3c8429982aa5949fe038f06",
       "version_major": 2,
       "version_minor": 0
      },
      "text/plain": [
       "  0%|          | 0/500 [00:00<?, ?it/s]"
      ]
     },
     "metadata": {},
     "output_type": "display_data"
    },
    {
     "name": "stdout",
     "output_type": "stream",
     "text": [
      "frame 340 / 345\n"
     ]
    },
    {
     "data": {
      "application/vnd.jupyter.widget-view+json": {
       "model_id": "669b95597138481ab218725e5c7cc822",
       "version_major": 2,
       "version_minor": 0
      },
      "text/plain": [
       "  0%|          | 0/500 [00:00<?, ?it/s]"
      ]
     },
     "metadata": {},
     "output_type": "display_data"
    },
    {
     "name": "stdout",
     "output_type": "stream",
     "text": [
      "frame 341 / 345\n"
     ]
    },
    {
     "data": {
      "application/vnd.jupyter.widget-view+json": {
       "model_id": "199dd2f5127e46d0ad00f86263853e54",
       "version_major": 2,
       "version_minor": 0
      },
      "text/plain": [
       "  0%|          | 0/500 [00:00<?, ?it/s]"
      ]
     },
     "metadata": {},
     "output_type": "display_data"
    },
    {
     "name": "stdout",
     "output_type": "stream",
     "text": [
      "frame 342 / 345\n"
     ]
    },
    {
     "data": {
      "application/vnd.jupyter.widget-view+json": {
       "model_id": "0ed6e85ad7604c99b7fa73bc70d01b56",
       "version_major": 2,
       "version_minor": 0
      },
      "text/plain": [
       "  0%|          | 0/500 [00:00<?, ?it/s]"
      ]
     },
     "metadata": {},
     "output_type": "display_data"
    },
    {
     "name": "stdout",
     "output_type": "stream",
     "text": [
      "frame 343 / 345\n"
     ]
    },
    {
     "data": {
      "application/vnd.jupyter.widget-view+json": {
       "model_id": "3938af8d525c4537a10b8c6afc92c1af",
       "version_major": 2,
       "version_minor": 0
      },
      "text/plain": [
       "  0%|          | 0/500 [00:00<?, ?it/s]"
      ]
     },
     "metadata": {},
     "output_type": "display_data"
    },
    {
     "name": "stdout",
     "output_type": "stream",
     "text": [
      "frame 344 / 345\n"
     ]
    },
    {
     "ename": "TypeError",
     "evalue": "wrong type for json_list",
     "output_type": "error",
     "traceback": [
      "\u001b[0;31m---------------------------------------------------------------------------\u001b[0m",
      "\u001b[0;31mTypeError\u001b[0m                                 Traceback (most recent call last)",
      "Input \u001b[0;32mIn [20]\u001b[0m, in \u001b[0;36m<cell line: 105>\u001b[0;34m()\u001b[0m\n\u001b[1;32m    104\u001b[0m start \u001b[38;5;241m=\u001b[39m \u001b[38;5;241m184\u001b[39m\n\u001b[1;32m    105\u001b[0m \u001b[38;5;28;01mfor\u001b[39;00m i \u001b[38;5;129;01min\u001b[39;00m \u001b[38;5;28mrange\u001b[39m(start,\u001b[38;5;28mlen\u001b[39m(pt)):\n\u001b[0;32m--> 106\u001b[0m     \u001b[43mmake_frame\u001b[49m\u001b[43m(\u001b[49m\u001b[43mi\u001b[49m\u001b[43m)\u001b[49m\n",
      "Input \u001b[0;32mIn [20]\u001b[0m, in \u001b[0;36mmake_frame\u001b[0;34m(ind)\u001b[0m\n\u001b[1;32m     17\u001b[0m \u001b[38;5;66;03m# copy original pose\u001b[39;00m\n\u001b[1;32m     18\u001b[0m step \u001b[38;5;241m=\u001b[39m pt[ind]\n\u001b[0;32m---> 19\u001b[0m pose \u001b[38;5;241m=\u001b[39m \u001b[43mPoseList\u001b[49m\u001b[38;5;241;43m.\u001b[39;49m\u001b[43mparse\u001b[49m\u001b[43m(\u001b[49m\u001b[43mstep\u001b[49m\u001b[38;5;241;43m.\u001b[39;49m\u001b[43mdata\u001b[49m\u001b[43m)\u001b[49m\n\u001b[1;32m     20\u001b[0m pose0 \u001b[38;5;241m=\u001b[39m pose\u001b[38;5;241m.\u001b[39mcopy()\n\u001b[1;32m     22\u001b[0m \u001b[38;5;66;03m# plot each display\u001b[39;00m\n",
      "File \u001b[0;32m~/anaconda3/lib/python3.9/site-packages/json_cpp/json_object.py:256\u001b[0m, in \u001b[0;36mJsonList.parse\u001b[0;34m(cls_or_self, json_string, json_list)\u001b[0m\n\u001b[1;32m    254\u001b[0m     check_type(json_string, \u001b[38;5;28mstr\u001b[39m, \u001b[38;5;124m\"\u001b[39m\u001b[38;5;124mwrong type for json_string\u001b[39m\u001b[38;5;124m\"\u001b[39m)\n\u001b[1;32m    255\u001b[0m     json_list \u001b[38;5;241m=\u001b[39m json\u001b[38;5;241m.\u001b[39mloads(json_string)\n\u001b[0;32m--> 256\u001b[0m \u001b[43mcheck_type\u001b[49m\u001b[43m(\u001b[49m\u001b[43mjson_list\u001b[49m\u001b[43m,\u001b[49m\u001b[43m \u001b[49m\u001b[38;5;28;43mlist\u001b[39;49m\u001b[43m,\u001b[49m\u001b[43m \u001b[49m\u001b[38;5;124;43m\"\u001b[39;49m\u001b[38;5;124;43mwrong type for json_list\u001b[39;49m\u001b[38;5;124;43m\"\u001b[39;49m\u001b[43m)\u001b[49m\n\u001b[1;32m    257\u001b[0m \u001b[38;5;28;01mif\u001b[39;00m \u001b[38;5;28mtype\u001b[39m(cls_or_self) \u001b[38;5;129;01mis\u001b[39;00m \u001b[38;5;28mtype\u001b[39m:\n\u001b[1;32m    258\u001b[0m     new_list \u001b[38;5;241m=\u001b[39m cls_or_self()\n",
      "File \u001b[0;32m~/anaconda3/lib/python3.9/site-packages/json_cpp/util.py:7\u001b[0m, in \u001b[0;36mcheck_type\u001b[0;34m(v, t, m)\u001b[0m\n\u001b[1;32m      5\u001b[0m \u001b[38;5;28;01mdef\u001b[39;00m \u001b[38;5;21mcheck_type\u001b[39m(v, t, m):\n\u001b[1;32m      6\u001b[0m     \u001b[38;5;28;01mif\u001b[39;00m \u001b[38;5;129;01mnot\u001b[39;00m \u001b[38;5;28misinstance\u001b[39m(v, t):\n\u001b[0;32m----> 7\u001b[0m             \u001b[38;5;28;01mraise\u001b[39;00m \u001b[38;5;167;01mTypeError\u001b[39;00m(m)\n",
      "\u001b[0;31mTypeError\u001b[0m: wrong type for json_list"
     ]
    },
    {
     "data": {
      "image/png": "[encoded data removed]",
      "text/plain": [
       "<Figure size 720x720 with 4 Axes>"
      ]
     },
     "metadata": {
      "needs_background": "light"
     },
     "output_type": "display_data"
    }
   ],
   "source": [
    "from random import choices\n",
    "import matplotlib.colors as colors\n",
    "import matplotlib.cm as cmx\n",
    "\n",
    "# set episode, samples etc\n",
    "k = 500\n",
    "episode = 14\n",
    "pt = e.episodes[episode].trajectories.where('agent_name','prey').get_unique_steps()\n",
    "rt = e.episodes[episode].trajectories.where('agent_name','predator')\n",
    "duration = len(pt) / 30 # convert to time\n",
    "\n",
    "def make_frame(ind):\n",
    "    \n",
    "    print(f'frame {ind} / {len(pt)}')\n",
    "    fig,ax = plt.subplots(2,2,figsize=(10,10))\n",
    "    \n",
    "    # copy original pose\n",
    "    step = pt[ind]\n",
    "    pose = PoseList.parse(step.data)\n",
    "    pose0 = pose.copy()\n",
    "    \n",
    "    # plot each display\n",
    "    d0 = Display(w, fig_size=(7,9), padding=0, cell_edge_color=\"lightgrey\",fig=fig,ax=ax[0,0])\n",
    "    d1 = Display(w, fig_size=(7,9), padding=0, cell_edge_color=\"lightgrey\",fig=fig,ax=ax[0,1])\n",
    "    \n",
    "    # set the colormap\n",
    "    cm = plt.get_cmap('jet')\n",
    "    cNorm = colors.Normalize(vmin=0,vmax=1)\n",
    "    scalarMap = cmx.ScalarMappable(norm=cNorm, cmap=cm)\n",
    "    \n",
    "    # sample and plot random poses\n",
    "    itor = []\n",
    "    h = []\n",
    "    for kk in tqdm(range(k)):\n",
    "\n",
    "        # get a pose draw\n",
    "        rand_sample = choices(np.where(episodes != episode)[0],k=1)\n",
    "        pose1 = POSE[rand_sample[0]].copy()\n",
    "\n",
    "        # offset and rotate each point\n",
    "        pose_norm,src_angle,src_loc,ref_angle,ref_loc = match_pose(pose0,pose1)\n",
    "\n",
    "        # compute ITOR and map to color value\n",
    "        I = compute_itor_pose(pose_norm,\n",
    "                          ref_angle,\n",
    "                          vis_graph,\n",
    "                          head_parts=['head_base'],\n",
    "                          body_parts=['body_mid'])\n",
    "        itor.append(I['ITOR'])\n",
    "        cval = scalarMap.to_rgba(I['ITOR'])\n",
    "        h = plot_pose(pose_norm,ax=ax[0,0],color=cval,alpha=0.1)\n",
    "        h = plot_pose(pose_norm,ax=ax[0,1],color=cval,alpha=0.1)\n",
    "        \n",
    "    h = plot_pose(pose0,ax=ax[0,0],color='w')\n",
    "    ax[0,0].axis('scaled')\n",
    "    ax[0,0].set_xlabel('x')\n",
    "    ax[0,0].set_ylabel('y')\n",
    "    ax[0,0].set_xlim([-0.1,1.1])\n",
    "    ax[0,0].set_ylim([-0.1,1.1])\n",
    "    plt.setp(h[0],edgecolor='k',sizes=[15])\n",
    "    plt.setp(h[1],markeredgecolor='k',ms=5)\n",
    "    plt.setp(h[2],markeredgecolor='k',ms=3)\n",
    "    #plt.savefig('./shuffled_pose_ex.pdf')\n",
    "    \n",
    "    # get robot for this frame and plot\n",
    "    rind = np.where(np.array(rt.get('frame'))==step.frame)[0]\n",
    "    if len(rind) > 0:\n",
    "        # update location\n",
    "        rloc = rt[rind[0]].location\n",
    "        ax[0,0].plot(rloc.x,rloc.y,'rD',markersize=10)\n",
    "        ax[0,1].plot(rloc.x,rloc.y,'rD',markersize=10)\n",
    "\n",
    "    h = plot_pose(pose0,ax=ax[0,1],color='w')\n",
    "    ax[0,1].axis('scaled')\n",
    "    ax[0,1].set_xlim([ref_loc.x-0.1,ref_loc.x+0.1])\n",
    "    ax[0,1].set_ylim([ref_loc.y-0.1,ref_loc.y+0.1])\n",
    "    ax[0,1].set_xlabel('x')\n",
    "    ax[0,1].set_ylabel('y')\n",
    "    plt.setp(h[0],edgecolor='k',sizes=[50])\n",
    "    plt.setp(h[1],markeredgecolor='k',ms=15)\n",
    "    plt.setp(h[2],markeredgecolor='k',ms=12)\n",
    "    plt.colorbar(scalarMap,ax=ax[0,1])\n",
    "\n",
    "    ax[1,0].plot(ITOR,label='ITOR(t)')\n",
    "    ax[1,0].axvline(ind,color='r',label='true pose')\n",
    "    ax[1,0].set_xlabel('frame')\n",
    "    ax[1,0].set_ylabel('ITOR')\n",
    "    ax[1,0].set_ylim((0,1))\n",
    "    ax[1,0].legend()\n",
    "    ax[1,0].set_title(f'frame {ind}')\n",
    "\n",
    "    ax[1,1].hist(itor,bins=np.linspace(0,1,30),label='random pose')\n",
    "    ax[1,1].axvline(ITOR[ind],color='r',label='frame')\n",
    "    ax[1,1].set_ylabel('count')\n",
    "    ax[1,1].set_xlabel('ITOR')\n",
    "    ax[1,1].set_xlim([0,1])\n",
    "    ax[1,1].set_ylim([0,500])\n",
    "    ax[1,1].legend()\n",
    "    ax[1,1].set_title(f'percentile = {np.sum(np.array(itor)<=ITOR[ind])/np.sum(~np.isnan(np.array(itor)))}')\n",
    "\n",
    "    fig.savefig(f'./episode{episode}/frame_{ind:03d}.jpeg')\n",
    "    plt.close()\n",
    "    \n",
    "start = 184\n",
    "for i in range(start,len(pt)):\n",
    "    make_frame(i)"
   ]
  },
  {
   "cell_type": "code",
   "execution_count": 18,
   "id": "dd708342",
   "metadata": {},
   "outputs": [],
   "source": [
    "from random import choices\n",
    "\n",
    "episode = 14\n",
    "k = 1 #500\n",
    "\n",
    "filename = f'./ep{episode}_{k}null.pkl'\n",
    "\n",
    "if not glob.glob(filename):\n",
    "    # for each step in the trajectory, compute true ITOR val\n",
    "    pt = e.episodes[episode].trajectories.where('agent_name','prey').get_unique_steps()\n",
    "    # body_parts=['body_mid','tail_base','tail_post_base','tail_pre_tip','tail_tip']\n",
    "    body_parts=['body_mid']\n",
    "    ITOR = []\n",
    "    ITOR_null = []\n",
    "    for i in tqdm(range(len(pt))):\n",
    "        step = pt[i]\n",
    "        if step.data:\n",
    "            pose = PoseList.parse(step.data)\n",
    "\n",
    "            # compute true ITOR\n",
    "            I = compute_itor_pose(pose,\n",
    "                      step.rotation,\n",
    "                      vis_graph,\n",
    "                      head_parts=['head_base'],\n",
    "                      body_parts=body_parts)\n",
    "            ITOR.append(I['ITOR'])\n",
    "\n",
    "            # compute null itor\n",
    "            rand_sample = choices(np.where(episodes != episode)[0],k=k)\n",
    "            I_null = []\n",
    "            for j in rand_sample:\n",
    "                pose = POSE[j]\n",
    "                I = compute_itor_pose(pose,\n",
    "                      step.rotation,\n",
    "                      vis_graph,\n",
    "                      head_parts=['head_base'],\n",
    "                      body_parts=body_parts)\n",
    "                I_null.append(I['ITOR'])\n",
    "            ITOR_null.append(I_null)\n",
    "    pickle.dump([ITOR,ITOR_null,episode,POSE],open(filename,'wb'))\n",
    "else:\n",
    "    [ITOR,ITOR_null,episode,POSE] = pickle.load(open(filename,'rb'))\n",
    "            "
   ]
  },
  {
   "cell_type": "code",
   "execution_count": null,
   "id": "00937980",
   "metadata": {},
   "outputs": [],
   "source": [
    "%matplotlib notebook\n",
    "cvec = np.array(ITOR)\n",
    "cvec[np.isnan(cvec)] = 0\n",
    "order = np.argsort(cvec)\n",
    "partI = [1]\n",
    "cvec = np.repeat(cvec.reshape(-1,1),len(partI),axis=1)\n",
    "x = poseX[np.where(episodes==episode)[0],partI]\n",
    "y = poseY[np.where(episodes==episode)[0],partI]\n",
    "c = cvec\n",
    "plt.scatter(x=x[order],y=y[order],c=c[order],s=10,cmap='jet')\n",
    "plt.clim([0,1])\n",
    "plt.colorbar()"
   ]
  },
  {
   "cell_type": "code",
   "execution_count": null,
   "id": "50daee9f",
   "metadata": {},
   "outputs": [],
   "source": [
    "%matplotlib notebook\n",
    "# get pose for the current episode\n",
    "[ITOR,ITOR_null,episode,POSE] = pickle.load(open(filename,'rb'))\n",
    "pose = [POSE[i] for i in np.where(episodes==episode)[0]]\n",
    "ITOR = np.vstack(ITOR)\n",
    "ITOR_null = np.vstack(ITOR_null)\n",
    "\n",
    "# remove nan\n",
    "ITOR_null = ITOR_null[~np.isnan(ITOR).squeeze(),:]\n",
    "ITOR = ITOR[~np.isnan(ITOR)]\n",
    "\n",
    "sortv = np.sort(ITOR)[::-1]\n",
    "I = np.argsort(ITOR)[::-1]\n",
    "plt.hist(ITOR_null[I[10]],50)\n",
    "plt.axvline(ITOR[I[10]])\n"
   ]
  },
  {
   "cell_type": "code",
   "execution_count": null,
   "id": "39af9ec9",
   "metadata": {},
   "outputs": [],
   "source": [
    "I[0]"
   ]
  },
  {
   "cell_type": "code",
   "execution_count": null,
   "id": "f1d8c55a",
   "metadata": {},
   "outputs": [],
   "source": [
    "ITOR_null.shape"
   ]
  },
  {
   "cell_type": "code",
   "execution_count": null,
   "id": "59399085",
   "metadata": {},
   "outputs": [],
   "source": [
    "ITOR[~np.isnan(ITOR)]"
   ]
  },
  {
   "cell_type": "code",
   "execution_count": null,
   "id": "5f58edd6",
   "metadata": {},
   "outputs": [],
   "source": []
  }
 ],
 "metadata": {
  "kernelspec": {
   "display_name": "Python 3 (ipykernel)",
   "language": "python",
   "name": "python3"
  },
  "language_info": {
   "codemirror_mode": {
    "name": "ipython",
    "version": 3
   },
   "file_extension": ".py",
   "mimetype": "text/x-python",
   "name": "python",
   "nbconvert_exporter": "python",
   "pygments_lexer": "ipython3",
   "version": "3.9.12"
  }
 },
 "nbformat": 4,
 "nbformat_minor": 5
}
