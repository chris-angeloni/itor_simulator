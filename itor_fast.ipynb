{
 "cells": [
  {
   "cell_type": "code",
   "execution_count": 1,
   "id": "04b85829",
   "metadata": {},
   "outputs": [],
   "source": [
    "from cellworld import *\n",
    "import multiprocessing as mp\n",
    "import numpy as np\n",
    "import pandas as pd\n",
    "from tqdm.notebook import tqdm\n",
    "import glob\n",
    "import pickle\n",
    "\n",
    "import warnings\n",
    "warnings.filterwarnings(\"ignore\", category=FutureWarning) \n",
    "\n",
    "from _src.pose import *\n",
    "from _src.visibility import *\n",
    "from _src.itor import *\n",
    "from _src.multiproc import *"
   ]
  },
  {
   "cell_type": "code",
   "execution_count": 2,
   "id": "f416a476",
   "metadata": {},
   "outputs": [
    {
     "name": "stdout",
     "output_type": "stream",
     "text": [
      "Loading world visibility...\n",
      "Loading visibility matrix...\n",
      "Loading pose library...\n",
      "./_data/logs/pose_library.pkl found, loading...\n"
     ]
    }
   ],
   "source": [
    "# get logs\n",
    "logs = glob.glob('./_data/logs/*.json')\n",
    "\n",
    "# load visibility objects\n",
    "print('Loading world visibility...')\n",
    "e = Experiment.load_from_file(logs[3])\n",
    "vis,w = get_vis(e)\n",
    "\n",
    "# load visibility matrix\n",
    "print('Loading visibility matrix...')\n",
    "[A,V,pts,sparse_arr] = pickle.load(open('./_data/visibility-21_05-1000.pkl','rb'))   \n",
    "vis_graph = {'V':V,'A':A,'src':pts,'dst':sparse_arr}\n",
    "\n",
    "# load/build pose library\n",
    "print('Loading pose library...')\n",
    "poselib = build_pose_library(logs)"
   ]
  },
  {
   "cell_type": "code",
   "execution_count": 3,
   "id": "e741e761",
   "metadata": {},
   "outputs": [],
   "source": [
    "# make shared dataframe\n",
    "shared_poselib = SharedPandasDataFrame(poselib)\n",
    "\n",
    "# make shared arrays\n",
    "shared_A = SharedNumpyArray(vis_graph['A'])\n",
    "shared_V = SharedNumpyArray(vis_graph['V'])\n",
    "shared_src = SharedNumpyArray(vis_graph['src'])\n",
    "shared_dst = SharedNumpyArray(vis_graph['dst'])"
   ]
  },
  {
   "cell_type": "code",
   "execution_count": null,
   "id": "9e7410be",
   "metadata": {},
   "outputs": [],
   "source": [
    "with mp.Pool(processes=mp.cpu_count()-5) as pool:\n",
    "    tasks = ((log,shared_poselib,shared_A,shared_V,shared_src,shared_dst) for log in logs)\n",
    "    result = pool.map(compute_itor_null_fast, tasks)\n",
    "    for res in tqdm(result, total=len(logs)):\n",
    "        print(res)\n",
    "        \n",
    "shared_poselib.unlink()\n",
    "shared_A.unlink()\n",
    "shared_V.unlink()\n",
    "shared_src.unlink()\n",
    "shared_ds.unlink()"
   ]
  },
  {
   "cell_type": "code",
   "execution_count": null,
   "id": "6928d7d8",
   "metadata": {},
   "outputs": [],
   "source": []
  }
 ],
 "metadata": {
  "kernelspec": {
   "display_name": "Python 3 (ipykernel)",
   "language": "python",
   "name": "python3"
  },
  "language_info": {
   "codemirror_mode": {
    "name": "ipython",
    "version": 3
   },
   "file_extension": ".py",
   "mimetype": "text/x-python",
   "name": "python",
   "nbconvert_exporter": "python",
   "pygments_lexer": "ipython3",
   "version": "3.9.12"
  }
 },
 "nbformat": 4,
 "nbformat_minor": 5
}
