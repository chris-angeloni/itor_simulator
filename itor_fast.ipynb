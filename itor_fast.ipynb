{
 "cells": [
  {
   "cell_type": "code",
   "execution_count": 8,
   "id": "04b85829",
   "metadata": {},
   "outputs": [],
   "source": [
    "from cellworld import *\n",
    "import numpy as np\n",
    "import matplotlib.pyplot as plt\n",
    "import glob\n",
    "from tqdm.notebook import tqdm\n",
    "import pickle\n",
    "from random import choices\n",
    "import matplotlib.colors as colors\n",
    "import matplotlib.cm as cmx\n",
    "import pandas as pd\n",
    "\n",
    "from _src.pose import *\n",
    "from _src.visibility import *\n",
    "from _src.itor import *"
   ]
  },
  {
   "cell_type": "code",
   "execution_count": 2,
   "id": "f416a476",
   "metadata": {},
   "outputs": [],
   "source": [
    "# load experiment\n",
    "e = Experiment.load_from_file('./_data/MICE_20220608_1557_DMM3_21_05_SR5_experiment.json')\n",
    "vis,w = get_vis(e)\n",
    "\n",
    "# # load visibility matrix\n",
    "[A,V,pts,sparse_arr] = pickle.load(open('./_data/visibility-21_05-1000.pkl','rb'))   \n",
    "vis_graph = {'V':V,'A':A,'src':pts,'dst':sparse_arr}"
   ]
  },
  {
   "cell_type": "code",
   "execution_count": 11,
   "id": "110ab3c7",
   "metadata": {},
   "outputs": [
    {
     "data": {
      "text/html": [
       "<div>\n",
       "<style scoped>\n",
       "    .dataframe tbody tr th:only-of-type {\n",
       "        vertical-align: middle;\n",
       "    }\n",
       "\n",
       "    .dataframe tbody tr th {\n",
       "        vertical-align: top;\n",
       "    }\n",
       "\n",
       "    .dataframe thead th {\n",
       "        text-align: right;\n",
       "    }\n",
       "</style>\n",
       "<table border=\"1\" class=\"dataframe\">\n",
       "  <thead>\n",
       "    <tr style=\"text-align: right;\">\n",
       "      <th></th>\n",
       "      <th>mouse</th>\n",
       "      <th>experiment</th>\n",
       "      <th>episode</th>\n",
       "      <th>frame</th>\n",
       "      <th>prey_pose</th>\n",
       "      <th>pred_loc</th>\n",
       "      <th>pred_angle</th>\n",
       "    </tr>\n",
       "  </thead>\n",
       "  <tbody>\n",
       "  </tbody>\n",
       "</table>\n",
       "</div>"
      ],
      "text/plain": [
       "Empty DataFrame\n",
       "Columns: [mouse, experiment, episode, frame, prey_pose, pred_loc, pred_angle]\n",
       "Index: []"
      ]
     },
     "execution_count": 11,
     "metadata": {},
     "output_type": "execute_result"
    }
   ],
   "source": [
    "# build a pose library\n",
    "poselib = pd.DataFrame(columns=['mouse','experiment','episode','frame','prey_pose','pred_loc','pred_angle'])\n",
    "for j,ep in enumerate(e.episodes):\n",
    "    pt = ep.trajectories.where('agent_name','prey').get_unique_steps()\n",
    "    pt = ep.trajectories.where('agent_name','predator')\n",
    "    for step in pt:\n",
    "        if step.data:\n",
    "            # parse the pose\n",
    "            pose = PoseList.parse(step.data)\n",
    "            \n",
    "            # get predator info if available\n",
    "            rind = np.where(np.array(rt.get('frame'))==step.frame)[0]\n",
    "            if len(rind) > 0:\n",
    "                # update location\n",
    "                rloc = rt[rind[0]].location"
   ]
  },
  {
   "cell_type": "code",
   "execution_count": null,
   "id": "edccc3ee",
   "metadata": {},
   "outputs": [],
   "source": [
    "# for each step in the trajectory, compute true ITOR val\n",
    "pt = e.episodes[episode].trajectories.where('agent_name','prey').get_unique_steps()\n",
    "body_parts=['body_mid','tail_base','tail_post_base','tail_pre_tip','tail_tip']\n",
    "#body_parts=['body_mid']\n",
    "ITOR = []\n",
    "ITOR_body = []\n",
    "for i in tqdm(range(len(pt))):\n",
    "    step = pt[i]\n",
    "    if step.data:\n",
    "        pose = PoseList.parse(step.data)\n",
    "\n",
    "        # compute true ITOR\n",
    "        I = compute_itor_pose(pose,\n",
    "                  step.rotation,\n",
    "                  vis_graph,\n",
    "                  head_parts=['head_base'],\n",
    "                  body_parts=body_parts)\n",
    "        ITOR.append(I['ITOR'])\n",
    "        \n",
    "        # compute ITOR with just the body\n",
    "        I = compute_itor_pose(pose,\n",
    "                  step.rotation,\n",
    "                  vis_graph,\n",
    "                  head_parts=['head_base'],\n",
    "                  body_parts=['body_mid'])\n",
    "        ITOR_body.append(I['ITOR'])"
   ]
  },
  {
   "cell_type": "code",
   "execution_count": null,
   "id": "e741e761",
   "metadata": {},
   "outputs": [],
   "source": []
  }
 ],
 "metadata": {
  "kernelspec": {
   "display_name": "Python 3 (ipykernel)",
   "language": "python",
   "name": "python3"
  },
  "language_info": {
   "codemirror_mode": {
    "name": "ipython",
    "version": 3
   },
   "file_extension": ".py",
   "mimetype": "text/x-python",
   "name": "python",
   "nbconvert_exporter": "python",
   "pygments_lexer": "ipython3",
   "version": "3.9.12"
  }
 },
 "nbformat": 4,
 "nbformat_minor": 5
}
